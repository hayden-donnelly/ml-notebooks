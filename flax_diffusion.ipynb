{
  "nbformat": 4,
  "nbformat_minor": 0,
  "metadata": {
    "colab": {
      "provenance": [],
      "toc_visible": true,
      "gpuType": "T4"
    },
    "kernelspec": {
      "name": "python3",
      "display_name": "Python 3"
    },
    "language_info": {
      "name": "python"
    },
    "accelerator": "GPU"
  },
  "cells": [
    {
      "cell_type": "markdown",
      "source": [
        "# Flax Diffusion\n",
        "This is a partial port of [Denoising Diffusion Implicit Models](https://keras.io/examples/generative/ddim/) from the Keras documentation, with the addition of conditional generation. I omit the Kernel Inception Distance because, to the best of my knowledge, there is currently easy way to load InceptionV3 in Flax. If you're interested in implementing KID or FID in Flax, [matthias-wright/jax-fid](https://github.com/matthias-wright/jax-fid) has a Flax implementation of InceptionV3."
      ],
      "metadata": {
        "id": "IBizpgnvb7Uc"
      }
    },
    {
      "cell_type": "code",
      "execution_count": 119,
      "metadata": {
        "id": "iEegSpy6Ztd5"
      },
      "outputs": [],
      "source": [
        "import math\n",
        "from typing import Any\n",
        "import flax.linen as nn\n",
        "from flax.training import train_state\n",
        "import optax\n",
        "import jax\n",
        "import jax.numpy as jnp\n",
        "from jax import lax\n",
        "import numpy as np\n",
        "from tqdm import tqdm\n",
        "from keras.datasets import cifar10\n",
        "import matplotlib.pyplot as plt"
      ]
    },
    {
      "cell_type": "markdown",
      "source": [
        "## Hyperparameters"
      ],
      "metadata": {
        "id": "CecBuFkJdW_q"
      }
    },
    {
      "cell_type": "code",
      "source": [
        "# Sampling.\n",
        "min_signal_rate = 0.02\n",
        "max_signal_rate = 0.95\n",
        "\n",
        "# Architecture.\n",
        "embedding_dims = 32\n",
        "embedding_max_frequency = 1000.0\n",
        "widths = [32, 64, 96, 128]\n",
        "block_depth = 2\n",
        "\n",
        "# Optimization.\n",
        "learning_rate = 1e-4\n",
        "epochs = 20\n",
        "\n",
        "# Input.\n",
        "batch_size = 32\n",
        "image_width = 32\n",
        "image_height = 32\n",
        "channels = 3\n",
        "num_classes = 10"
      ],
      "metadata": {
        "id": "cULq46a7dWSt"
      },
      "execution_count": 192,
      "outputs": []
    },
    {
      "cell_type": "markdown",
      "source": [
        "## Data Preparation"
      ],
      "metadata": {
        "id": "sen96Gqce3ZE"
      }
    },
    {
      "cell_type": "code",
      "source": [
        "(x_train, y_train), (x_test, y_test) = cifar10.load_data()"
      ],
      "metadata": {
        "id": "7NENXpMxecdh"
      },
      "execution_count": 152,
      "outputs": []
    },
    {
      "cell_type": "code",
      "source": [
        "x_train = np.concatenate([x_train, x_test], axis=0)\n",
        "y_train = np.concatenate([y_train, y_test], axis=0)"
      ],
      "metadata": {
        "id": "qy2vex6segec"
      },
      "execution_count": 153,
      "outputs": []
    },
    {
      "cell_type": "code",
      "source": [
        "x_train = x_train.astype('float32') / 255."
      ],
      "metadata": {
        "id": "Bf2oarE3fAsf"
      },
      "execution_count": 154,
      "outputs": []
    },
    {
      "cell_type": "code",
      "source": [
        "#x_repeated = x_train[:32]\n",
        "#x_train = jnp.concatenate([x_train, x_repeated], axis=0)\n",
        "x_train = jnp.reshape(\n",
        "    x_train, (\n",
        "        x_train.shape[0] // batch_size,\n",
        "        batch_size,\n",
        "        image_width,\n",
        "        image_height,\n",
        "        channels\n",
        "    )\n",
        ")\n",
        "\n",
        "#y_repeated = y_train[:32]\n",
        "#y_train = jnp.concatenate([y_train, y_repeated], axis=0)\n",
        "y_train = jnp.reshape(\n",
        "    y_train, (\n",
        "        y_train.shape[0] // batch_size,\n",
        "        batch_size,\n",
        "        y_train.shape[-1]\n",
        "    )\n",
        ")\n",
        "print('x_train shape:', x_train.shape)\n",
        "print('y_train shape:', y_train.shape)"
      ],
      "metadata": {
        "id": "YRJWg1-_pKzo",
        "colab": {
          "base_uri": "https://localhost:8080/"
        },
        "outputId": "1d10961a-824a-437d-acfe-4c4c80ea786d"
      },
      "execution_count": 161,
      "outputs": [
        {
          "output_type": "stream",
          "name": "stdout",
          "text": [
            "x_train shape: (1875, 32, 32, 32, 3)\n",
            "y_train shape: (1875, 32, 1)\n"
          ]
        }
      ]
    },
    {
      "cell_type": "markdown",
      "source": [
        "## Data Visualization"
      ],
      "metadata": {
        "id": "r3Jhn_POtlCJ"
      }
    },
    {
      "cell_type": "code",
      "source": [
        "fig, axs = plt.subplots(2, 5, figsize=(12, 5))\n",
        "for i, img in enumerate(x_test[0:10]):\n",
        "    row_id = i // 5\n",
        "    col_id = i - (5 * row_id)\n",
        "    axs[row_id][col_id].imshow(img)\n",
        "    axs[row_id][col_id].axis('off')\n",
        "plt.tight_layout()\n",
        "plt.show()"
      ],
      "metadata": {
        "colab": {
          "base_uri": "https://localhost:8080/",
          "height": 488
        },
        "id": "51HDfluj9JT-",
        "outputId": "f8797bac-1900-4f32-a391-d95e2f29a300"
      },
      "execution_count": null,
      "outputs": [
        {
          "output_type": "display_data",
          "data": {
            "text/plain": [
              "<Figure size 1200x500 with 10 Axes>"
            ],
            "image/png": "[encoded data removed]"
          },
          "metadata": {}
        }
      ]
    },
    {
      "cell_type": "markdown",
      "source": [
        "## Embedding"
      ],
      "metadata": {
        "id": "WNoPSMwMfWEq"
      }
    },
    {
      "cell_type": "code",
      "source": [
        "def sinusoidal_embedding(x, embedding_max_frequency):\n",
        "    embedding_min_frequency = 1.0\n",
        "    frequencies = jnp.exp(\n",
        "        jnp.linspace(\n",
        "            jnp.log(embedding_min_frequency),\n",
        "            jnp.log(embedding_max_frequency),\n",
        "            embedding_dims // 2\n",
        "        )\n",
        "    )\n",
        "    angular_speeds = 2.0 * math.pi * frequencies\n",
        "    embeddings = jnp.concatenate(\n",
        "        [jnp.sin(angular_speeds * x), jnp.cos(angular_speeds * x)],\n",
        "        axis = -1\n",
        "    )\n",
        "    return embeddings"
      ],
      "metadata": {
        "id": "mOfy3Q7mazWY"
      },
      "execution_count": 155,
      "outputs": []
    },
    {
      "cell_type": "markdown",
      "source": [
        "## Architecture"
      ],
      "metadata": {
        "id": "zlYRlB63fXmk"
      }
    },
    {
      "cell_type": "code",
      "source": [
        "class ResidualBlock(nn.Module):\n",
        "    width: int\n",
        "\n",
        "    @nn.compact\n",
        "    def __call__(self, x, train: bool):\n",
        "        input_width = x.shape[-1]\n",
        "        if input_width == self.width:\n",
        "            residual = x\n",
        "        else:\n",
        "            residual = nn.Conv(self.width, kernel_size=(1, 1))(x)\n",
        "        x = nn.BatchNorm(use_running_average=not train)(x)\n",
        "        x = nn.Conv(self.width, kernel_size=(3, 3))(x)\n",
        "        x = nn.activation.swish(x)\n",
        "        x = nn.Conv(self.width, kernel_size=(3, 3))(x)\n",
        "        x = x + residual\n",
        "        return x\n",
        "\n",
        "class DownBlock(nn.Module):\n",
        "    width: int\n",
        "    block_depth: int\n",
        "\n",
        "    @nn.compact\n",
        "    def __call__(self, x, train: bool):\n",
        "        x, skips = x\n",
        "\n",
        "        for _ in range(self.block_depth):\n",
        "            x = ResidualBlock(self.width)(x, train)\n",
        "            skips.append(x)\n",
        "        x = nn.avg_pool(x, window_shape=(2, 2), strides=(2, 2))\n",
        "        return x\n",
        "\n",
        "class UpBlock(nn.Module):\n",
        "    width: int\n",
        "    block_depth: int\n",
        "\n",
        "    @nn.compact\n",
        "    def __call__(self, x, train: bool):\n",
        "        x, skips = x\n",
        "\n",
        "        upsample_shape = (x.shape[0], x.shape[1] * 2, x.shape[2] * 2, x.shape[3])\n",
        "        x = jax.image.resize(x, upsample_shape, method='bilinear')\n",
        "\n",
        "        for _ in range(self.block_depth):\n",
        "            x = jnp.concatenate([x, skips.pop()], axis=-1)\n",
        "            x = ResidualBlock(self.width)(x, train)\n",
        "        return x\n",
        "\n",
        "class DDIM(nn.Module):\n",
        "    channels: int\n",
        "    num_classes: int\n",
        "    widths: list\n",
        "    block_depth: int\n",
        "    embedding_max_frequency: float\n",
        "\n",
        "    @nn.compact\n",
        "    def __call__(self, x, train: bool):\n",
        "        x, noise_variances, class_id = x\n",
        "\n",
        "        e = sinusoidal_embedding(noise_variances, self.embedding_max_frequency)\n",
        "        e = jax.image.resize(e, shape=x.shape, method='nearest')\n",
        "\n",
        "        class_embedding = nn.Embed(self.num_classes, x.shape[1])(class_id)\n",
        "        class_embedding = jnp.repeat(class_embedding, x.shape[2], axis=1)\n",
        "        class_embedding = jnp.expand_dims(class_embedding, axis=-1)\n",
        "\n",
        "        x = nn.Conv(self.widths[0], kernel_size=(1, 1))(x)\n",
        "        x = jnp.concatenate([x, e, class_embedding], axis=-1)\n",
        "\n",
        "        skips = []\n",
        "        for width in self.widths[:-1]:\n",
        "            x = DownBlock(width, self.block_depth)([x, skips], train)\n",
        "\n",
        "        for _ in range(self.block_depth):\n",
        "            x = ResidualBlock(self.widths[-1])(x, train)\n",
        "\n",
        "        for width in reversed(self.widths[:-1]):\n",
        "            x = UpBlock(width, self.block_depth)([x, skips], train)\n",
        "\n",
        "        x = nn.Conv(self.channels, kernel_size=(3, 3), kernel_init=nn.initializers.zeros_init())(x)\n",
        "        return x"
      ],
      "metadata": {
        "id": "hQQpQdBUbPDv"
      },
      "execution_count": 196,
      "outputs": []
    },
    {
      "cell_type": "markdown",
      "source": [
        "## Diffusion Schedule"
      ],
      "metadata": {
        "id": "ZtG9kaJTfkp_"
      }
    },
    {
      "cell_type": "code",
      "source": [
        "def diffusion_schedule(diffusion_times, max_signal_rate, min_signal_rate):\n",
        "    start_angle = jnp.arccos(max_signal_rate)\n",
        "    end_angle = jnp.arccos(min_signal_rate)\n",
        "\n",
        "    diffusion_angles = start_angle + diffusion_times * (end_angle - start_angle)\n",
        "\n",
        "    signal_rates = jnp.cos(diffusion_angles)\n",
        "    noise_rates = jnp.sin(diffusion_angles)\n",
        "    return noise_rates, signal_rates"
      ],
      "metadata": {
        "id": "3U5ikz_FbZU7"
      },
      "execution_count": 197,
      "outputs": []
    },
    {
      "cell_type": "markdown",
      "source": [
        "## Training"
      ],
      "metadata": {
        "id": "K05fr0Z2fmpN"
      }
    },
    {
      "cell_type": "code",
      "source": [
        "class TrainState(train_state.TrainState):\n",
        "    batch_stats: Any\n",
        "\n",
        "def create_train_state(module, rng, learning_rate, image_width, image_height, channels):\n",
        "    x = (jnp.ones([1, image_width, image_height, channels]), jnp.ones([1, 1, 1, 1]), jnp.array([[1]]))\n",
        "    variables = module.init(rng, x, True)\n",
        "    params = variables['params']\n",
        "    batch_stats = variables['batch_stats']\n",
        "    tx = optax.adam(learning_rate)\n",
        "    #tx = optax.adam(create_learning_rate_fn(10, 30, learning_rate, x_train.shape[0]))\n",
        "    train_state = TrainState.create(\n",
        "        apply_fn=module.apply,\n",
        "        params=params,\n",
        "        tx=tx,\n",
        "        batch_stats=batch_stats\n",
        "    )\n",
        "    return train_state\n",
        "\n",
        "@jax.jit\n",
        "def train_step(state, images, labels, parent_key, max_signal_rate, min_signal_rate):\n",
        "    noise_key, diffusion_time_key = jax.random.split(parent_key, 2)\n",
        "    batch_size = len(images)\n",
        "\n",
        "    def loss_fn(params):\n",
        "        noises = jax.random.normal(\n",
        "            noise_key, (batch_size, images.shape[1], images.shape[2], channels)\n",
        "        )\n",
        "        diffusion_times = jax.random.uniform(diffusion_time_key, (batch_size, 1, 1, 1))\n",
        "        noise_rates, signal_rates = diffusion_schedule(\n",
        "            diffusion_times, max_signal_rate, min_signal_rate\n",
        "        )\n",
        "        noisy_images = signal_rates * images + noise_rates * noises\n",
        "\n",
        "        pred_noises, updates = state.apply_fn(\n",
        "            {'params': params, 'batch_stats': state.batch_stats},\n",
        "             [noisy_images, noise_rates**2, labels],\n",
        "             train=True,\n",
        "             mutable=['batch_stats']\n",
        "        )\n",
        "\n",
        "        loss = jnp.mean((pred_noises - noises)**2)\n",
        "        return loss, updates\n",
        "\n",
        "    grad_fn = jax.value_and_grad(loss_fn, has_aux=True)\n",
        "    (loss, updates), grads = grad_fn(state.params)\n",
        "    state = state.apply_gradients(grads=grads)\n",
        "    state = state.replace(batch_stats=updates['batch_stats'])\n",
        "    return loss, state"
      ],
      "metadata": {
        "id": "LtmfPcf2fnek"
      },
      "execution_count": 198,
      "outputs": []
    },
    {
      "cell_type": "code",
      "source": [
        "def create_learning_rate_fn(warmup_epochs, num_epochs, base_learning_rate, steps_per_epoch):\n",
        "    warmup_fn = optax.linear_schedule(\n",
        "        init_value=0., end_value=base_learning_rate,\n",
        "        transition_steps=warmup_epochs * steps_per_epoch\n",
        "    )\n",
        "    cosine_epochs = max(num_epochs - warmup_epochs, 1)\n",
        "    cosine_fn = optax.cosine_decay_schedule(\n",
        "        init_value=base_learning_rate,\n",
        "        decay_steps=cosine_epochs * steps_per_epoch\n",
        "    )\n",
        "    schedule_fn = optax.join_schedules(\n",
        "        schedules=[warmup_fn, cosine_fn],\n",
        "        boundaries=[warmup_epochs * steps_per_epoch]\n",
        "    )\n",
        "    return schedule_fn"
      ],
      "metadata": {
        "id": "td2txH0sS2qS"
      },
      "execution_count": 199,
      "outputs": []
    },
    {
      "cell_type": "code",
      "source": [
        "init_rng = jax.random.PRNGKey(0)\n",
        "model = DDIM(channels, num_classes, widths, block_depth, embedding_max_frequency)\n",
        "state = create_train_state(model, init_rng, learning_rate, image_width, image_height, channels)\n",
        "del init_rng"
      ],
      "metadata": {
        "id": "g6CPiXfljIW4"
      },
      "execution_count": 200,
      "outputs": []
    },
    {
      "cell_type": "code",
      "source": [
        "steps_per_epoch = x_train.shape[0]\n",
        "\n",
        "losses = []\n",
        "for epoch in range(epochs):\n",
        "    shuffle_key = jax.random.PRNGKey(epoch)\n",
        "    #x_train = jax.random.shuffle(shuffle_key, x_train)\n",
        "    #y_train = jax.random.shuffle(shuffle_key, y_train)\n",
        "    losses_this_epoch = []\n",
        "    for step in tqdm(range(steps_per_epoch)):\n",
        "        images = x_train[step]\n",
        "        labels = y_train[step]\n",
        "\n",
        "        if images.shape[0] != batch_size:\n",
        "            continue\n",
        "\n",
        "        train_step_key = jax.random.PRNGKey(epoch * steps_per_epoch + step)\n",
        "        loss, state = train_step(\n",
        "            state,\n",
        "            images,\n",
        "            labels,\n",
        "            train_step_key,\n",
        "            max_signal_rate,\n",
        "            min_signal_rate\n",
        "        )\n",
        "        losses_this_epoch.append(loss)\n",
        "\n",
        "    average_loss = sum(losses_this_epoch) / len(losses_this_epoch)\n",
        "    losses.append(average_loss)\n",
        "    print(f'Epoch {epoch + 1} loss: {average_loss}')"
      ],
      "metadata": {
        "colab": {
          "base_uri": "https://localhost:8080/"
        },
        "id": "6Y3AW9d2nw7F",
        "outputId": "6802db91-2900-41bc-eecb-c7a084569d65"
      },
      "execution_count": 201,
      "outputs": [
        {
          "output_type": "stream",
          "name": "stderr",
          "text": [
            "100%|██████████| 1875/1875 [00:50<00:00, 37.14it/s]\n"
          ]
        },
        {
          "output_type": "stream",
          "name": "stdout",
          "text": [
            "Epoch 1 loss: 0.05555102601647377\n"
          ]
        },
        {
          "output_type": "stream",
          "name": "stderr",
          "text": [
            "100%|██████████| 1875/1875 [00:37<00:00, 50.29it/s]\n"
          ]
        },
        {
          "output_type": "stream",
          "name": "stdout",
          "text": [
            "Epoch 2 loss: 0.019642753526568413\n"
          ]
        },
        {
          "output_type": "stream",
          "name": "stderr",
          "text": [
            "100%|██████████| 1875/1875 [00:37<00:00, 49.36it/s]\n"
          ]
        },
        {
          "output_type": "stream",
          "name": "stdout",
          "text": [
            "Epoch 3 loss: 0.018046362325549126\n"
          ]
        },
        {
          "output_type": "stream",
          "name": "stderr",
          "text": [
            "100%|██████████| 1875/1875 [00:38<00:00, 49.06it/s]\n"
          ]
        },
        {
          "output_type": "stream",
          "name": "stdout",
          "text": [
            "Epoch 4 loss: 0.017367852851748466\n"
          ]
        },
        {
          "output_type": "stream",
          "name": "stderr",
          "text": [
            "100%|██████████| 1875/1875 [00:38<00:00, 48.33it/s]\n"
          ]
        },
        {
          "output_type": "stream",
          "name": "stdout",
          "text": [
            "Epoch 5 loss: 0.01662823185324669\n"
          ]
        },
        {
          "output_type": "stream",
          "name": "stderr",
          "text": [
            "100%|██████████| 1875/1875 [00:38<00:00, 48.67it/s]\n"
          ]
        },
        {
          "output_type": "stream",
          "name": "stdout",
          "text": [
            "Epoch 6 loss: 0.016268141567707062\n"
          ]
        },
        {
          "output_type": "stream",
          "name": "stderr",
          "text": [
            "100%|██████████| 1875/1875 [00:38<00:00, 48.23it/s]\n"
          ]
        },
        {
          "output_type": "stream",
          "name": "stdout",
          "text": [
            "Epoch 7 loss: 0.01603603921830654\n"
          ]
        },
        {
          "output_type": "stream",
          "name": "stderr",
          "text": [
            "100%|██████████| 1875/1875 [00:38<00:00, 48.11it/s]\n"
          ]
        },
        {
          "output_type": "stream",
          "name": "stdout",
          "text": [
            "Epoch 8 loss: 0.015827158465981483\n"
          ]
        },
        {
          "output_type": "stream",
          "name": "stderr",
          "text": [
            "100%|██████████| 1875/1875 [00:39<00:00, 48.02it/s]\n"
          ]
        },
        {
          "output_type": "stream",
          "name": "stdout",
          "text": [
            "Epoch 9 loss: 0.01553511805832386\n"
          ]
        },
        {
          "output_type": "stream",
          "name": "stderr",
          "text": [
            "100%|██████████| 1875/1875 [00:39<00:00, 47.71it/s]\n"
          ]
        },
        {
          "output_type": "stream",
          "name": "stdout",
          "text": [
            "Epoch 10 loss: 0.015436532907187939\n"
          ]
        },
        {
          "output_type": "stream",
          "name": "stderr",
          "text": [
            "100%|██████████| 1875/1875 [00:39<00:00, 47.86it/s]\n"
          ]
        },
        {
          "output_type": "stream",
          "name": "stdout",
          "text": [
            "Epoch 11 loss: 0.01541955303400755\n"
          ]
        },
        {
          "output_type": "stream",
          "name": "stderr",
          "text": [
            "100%|██████████| 1875/1875 [00:38<00:00, 48.08it/s]\n"
          ]
        },
        {
          "output_type": "stream",
          "name": "stdout",
          "text": [
            "Epoch 12 loss: 0.015082894824445248\n"
          ]
        },
        {
          "output_type": "stream",
          "name": "stderr",
          "text": [
            "100%|██████████| 1875/1875 [00:39<00:00, 47.83it/s]\n"
          ]
        },
        {
          "output_type": "stream",
          "name": "stdout",
          "text": [
            "Epoch 13 loss: 0.01507848035544157\n"
          ]
        },
        {
          "output_type": "stream",
          "name": "stderr",
          "text": [
            "100%|██████████| 1875/1875 [00:39<00:00, 47.40it/s]\n"
          ]
        },
        {
          "output_type": "stream",
          "name": "stdout",
          "text": [
            "Epoch 14 loss: 0.014948008581995964\n"
          ]
        },
        {
          "output_type": "stream",
          "name": "stderr",
          "text": [
            "100%|██████████| 1875/1875 [00:39<00:00, 47.97it/s]\n"
          ]
        },
        {
          "output_type": "stream",
          "name": "stdout",
          "text": [
            "Epoch 15 loss: 0.014959033578634262\n"
          ]
        },
        {
          "output_type": "stream",
          "name": "stderr",
          "text": [
            "100%|██████████| 1875/1875 [00:39<00:00, 47.16it/s]\n"
          ]
        },
        {
          "output_type": "stream",
          "name": "stdout",
          "text": [
            "Epoch 16 loss: 0.014903735369443893\n"
          ]
        },
        {
          "output_type": "stream",
          "name": "stderr",
          "text": [
            "100%|██████████| 1875/1875 [00:39<00:00, 47.87it/s]\n"
          ]
        },
        {
          "output_type": "stream",
          "name": "stdout",
          "text": [
            "Epoch 17 loss: 0.01495350617915392\n"
          ]
        },
        {
          "output_type": "stream",
          "name": "stderr",
          "text": [
            "100%|██████████| 1875/1875 [00:39<00:00, 47.59it/s]\n"
          ]
        },
        {
          "output_type": "stream",
          "name": "stdout",
          "text": [
            "Epoch 18 loss: 0.014927549287676811\n"
          ]
        },
        {
          "output_type": "stream",
          "name": "stderr",
          "text": [
            "100%|██████████| 1875/1875 [00:39<00:00, 47.70it/s]\n"
          ]
        },
        {
          "output_type": "stream",
          "name": "stdout",
          "text": [
            "Epoch 19 loss: 0.01471145823597908\n"
          ]
        },
        {
          "output_type": "stream",
          "name": "stderr",
          "text": [
            "100%|██████████| 1875/1875 [00:39<00:00, 48.06it/s]\n"
          ]
        },
        {
          "output_type": "stream",
          "name": "stdout",
          "text": [
            "Epoch 20 loss: 0.014755873940885067\n"
          ]
        }
      ]
    },
    {
      "cell_type": "markdown",
      "source": [
        "## Training Visualization"
      ],
      "metadata": {
        "id": "WrUyyOCP0l5B"
      }
    },
    {
      "cell_type": "code",
      "source": [
        "epoch_array = jnp.arange(epochs)\n",
        "fig, ax = plt.subplots(1, 1)\n",
        "ax.set_yscale(\"log\")\n",
        "ax.plot(epoch_array, losses, color='blue', label='loss')\n",
        "ax.set_ylabel('Loss')\n",
        "ax.set_xlabel('Epoch')\n",
        "plt.show()"
      ],
      "metadata": {
        "colab": {
          "base_uri": "https://localhost:8080/",
          "height": 449
        },
        "id": "Y2txDh-p0oIO",
        "outputId": "ca043d35-1173-4e95-ca3b-bdd6d3e7ace7"
      },
      "execution_count": 202,
      "outputs": [
        {
          "output_type": "display_data",
          "data": {
            "text/plain": [
              "<Figure size 640x480 with 1 Axes>"
            ],
            "image/png": "[encoded data removed]"
          },
          "metadata": {}
        }
      ]
    },
    {
      "cell_type": "markdown",
      "source": [
        "## Sampling"
      ],
      "metadata": {
        "id": "qEj4TYO1sIUH"
      }
    },
    {
      "cell_type": "code",
      "source": [
        "def reverse_diffusion(\n",
        "    classes,\n",
        "    apply_fn,\n",
        "    params,\n",
        "    batch_stats,\n",
        "    num_images,\n",
        "    diffusion_steps,\n",
        "    image_width,\n",
        "    image_height,\n",
        "    channels,\n",
        "    noise_key = 0,\n",
        "    initial_noise = None\n",
        "):\n",
        "    if initial_noise == None:\n",
        "        initial_noise = jax.random.normal(\n",
        "            jax.random.PRNGKey(noise_key),\n",
        "            shape=(num_images, image_height, image_width, channels)\n",
        "        )\n",
        "    step_size = 1.0 / diffusion_steps\n",
        "\n",
        "    next_noisy_images = initial_noise\n",
        "    for step in range(diffusion_steps):\n",
        "        noisy_images = next_noisy_images\n",
        "\n",
        "        diffusion_times = jnp.ones((num_images, 1, 1, 1)) - step * step_size\n",
        "        noise_rates, signal_rates = diffusion_schedule(\n",
        "            diffusion_times, max_signal_rate, min_signal_rate\n",
        "        )\n",
        "        pred_noises = lax.stop_gradient(\n",
        "            apply_fn(\n",
        "                {'params': params, 'batch_stats': batch_stats},\n",
        "                [noisy_images, noise_rates**2, classes],\n",
        "                train=False,\n",
        "            )\n",
        "        )\n",
        "        pred_images = (noisy_images - noise_rates * pred_noises) / signal_rates\n",
        "\n",
        "        next_diffusion_times = diffusion_times - step_size\n",
        "        next_noise_rates, next_signal_rates = diffusion_schedule(\n",
        "            next_diffusion_times, max_signal_rate, min_signal_rate\n",
        "        )\n",
        "        next_noisy_images = (next_signal_rates * pred_images + next_noise_rates * pred_noises)\n",
        "\n",
        "    return pred_images"
      ],
      "metadata": {
        "id": "Eg0UusB2reIu"
      },
      "execution_count": 203,
      "outputs": []
    },
    {
      "cell_type": "code",
      "source": [
        "classes = jnp.array([[0], [1], [2], [3], [4], [5], [6], [7], [8], [9]])\n",
        "pred_images = reverse_diffusion(\n",
        "    classes = classes,\n",
        "    apply_fn = state.apply_fn,\n",
        "    params = state.params,\n",
        "    batch_stats = state.batch_stats,\n",
        "    num_images = classes.shape[0],\n",
        "    diffusion_steps = 20,\n",
        "    image_width = image_width,\n",
        "    image_height = image_height,\n",
        "    channels = channels,\n",
        "    noise_key = 0\n",
        ")"
      ],
      "metadata": {
        "id": "OSmVsrW_sVlm"
      },
      "execution_count": 204,
      "outputs": []
    },
    {
      "cell_type": "code",
      "source": [
        "adjusted = (pred_images - jnp.min(pred_images))\n",
        "adjusted /= jnp.max(adjusted)\n",
        "fig, axs = plt.subplots(2, 5, figsize=(12, 5))\n",
        "for i, img in enumerate(adjusted):\n",
        "    row_id = i // 5\n",
        "    col_id = i - (5 * row_id)\n",
        "    axs[row_id][col_id].imshow(img)\n",
        "    axs[row_id][col_id].axis('off')\n",
        "plt.tight_layout()\n",
        "plt.show()"
      ],
      "metadata": {
        "colab": {
          "base_uri": "https://localhost:8080/",
          "height": 488
        },
        "id": "umj0A81muMWO",
        "outputId": "ee29c5b0-e7cf-4bce-e84b-e63dcaa4e8d2"
      },
      "execution_count": 205,
      "outputs": [
        {
          "output_type": "display_data",
          "data": {
            "text/plain": [
              "<Figure size 1200x500 with 10 Axes>"
            ],
            "image/png": "[encoded data removed]"
          },
          "metadata": {}
        }
      ]
    }
  ]
}