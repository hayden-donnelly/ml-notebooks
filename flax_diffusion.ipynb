{
  "nbformat": 4,
  "nbformat_minor": 0,
  "metadata": {
    "colab": {
      "provenance": [],
      "toc_visible": true
    },
    "kernelspec": {
      "name": "python3",
      "display_name": "Python 3"
    },
    "language_info": {
      "name": "python"
    }
  },
  "cells": [
    {
      "cell_type": "markdown",
      "source": [
        "# Flax Diffusion\n",
        "This is a partial port of [Denoising Diffusion Implicit Models](https://keras.io/examples/generative/ddim/) from the Keras documentation, with the addition of conditional generation. I omit the Kernel Inception Distance because, to the best of my knowledge, there is currently easy way to load InceptionV3 in Flax. If you're interested in implementing KID or FID in Flax, [matthias-wright/jax-fid](https://github.com/matthias-wright/jax-fid) has a Flax implementation of InceptionV3."
      ],
      "metadata": {
        "id": "IBizpgnvb7Uc"
      }
    },
    {
      "cell_type": "code",
      "execution_count": 89,
      "metadata": {
        "id": "iEegSpy6Ztd5"
      },
      "outputs": [],
      "source": [
        "import math\n",
        "from typing import Any\n",
        "import flax.linen as nn\n",
        "from flax.training import train_state\n",
        "import optax\n",
        "import jax\n",
        "import jax.numpy as jnp\n",
        "import numpy as np\n",
        "from tqdm import tqdm\n",
        "from keras.datasets import cifar10"
      ]
    },
    {
      "cell_type": "markdown",
      "source": [
        "## Hyperparameters"
      ],
      "metadata": {
        "id": "CecBuFkJdW_q"
      }
    },
    {
      "cell_type": "code",
      "source": [
        "# Sampling.\n",
        "min_signal_rate = 0.02\n",
        "max_signal_rate = 0.95\n",
        "\n",
        "# Architecture.\n",
        "embedding_dims = 32\n",
        "embedding_max_frequency = 1000.0\n",
        "widths = [32, 64, 96, 128]\n",
        "block_depth = 2\n",
        "\n",
        "# Optimization.\n",
        "learning_rate = 1e-4\n",
        "epochs = 100\n",
        "\n",
        "# Input.\n",
        "batch_size = 8\n",
        "image_width = 32\n",
        "image_height = 32\n",
        "channels = 3\n",
        "num_classes = 10"
      ],
      "metadata": {
        "id": "cULq46a7dWSt"
      },
      "execution_count": 33,
      "outputs": []
    },
    {
      "cell_type": "markdown",
      "source": [
        "## Data Preparation"
      ],
      "metadata": {
        "id": "sen96Gqce3ZE"
      }
    },
    {
      "cell_type": "code",
      "source": [
        "(x_train, y_train), (x_test, y_test) = cifar10.load_data()"
      ],
      "metadata": {
        "id": "7NENXpMxecdh"
      },
      "execution_count": 82,
      "outputs": []
    },
    {
      "cell_type": "code",
      "source": [
        "x_train = np.concatenate([x_train, x_test], axis=0)\n",
        "y_train = np.concatenate([y_train, y_test], axis=0)"
      ],
      "metadata": {
        "id": "qy2vex6segec"
      },
      "execution_count": 83,
      "outputs": []
    },
    {
      "cell_type": "code",
      "source": [
        "x_train = x_train.astype('float32') / 255."
      ],
      "metadata": {
        "id": "Bf2oarE3fAsf"
      },
      "execution_count": 84,
      "outputs": []
    },
    {
      "cell_type": "code",
      "source": [
        "x_train = jnp.reshape(\n",
        "    x_train, (\n",
        "        x_train.shape[0] // batch_size,\n",
        "        batch_size,\n",
        "        image_width,\n",
        "        image_height,\n",
        "        channels\n",
        "    )\n",
        ")\n",
        "\n",
        "y_train = jnp.reshape(\n",
        "    y_train, (\n",
        "        y_train.shape[0] // batch_size,\n",
        "        batch_size,\n",
        "        y_train.shape[-1]\n",
        "    )\n",
        ")\n",
        "print('x_train shape:', x_train.shape)\n",
        "print('y_train shape:', y_train.shape)"
      ],
      "metadata": {
        "id": "YRJWg1-_pKzo"
      },
      "execution_count": 85,
      "outputs": []
    },
    {
      "cell_type": "markdown",
      "source": [
        "## Embedding"
      ],
      "metadata": {
        "id": "WNoPSMwMfWEq"
      }
    },
    {
      "cell_type": "code",
      "source": [
        "def sinusoidal_embedding(x, embedding_max_frequency):\n",
        "    embedding_min_frequency = 1.0\n",
        "    frequencies = jnp.exp(\n",
        "        jnp.linspace(\n",
        "            jnp.log(embedding_min_frequency),\n",
        "            jnp.log(embedding_max_frequency),\n",
        "            embedding_dims // 2\n",
        "        )\n",
        "    )\n",
        "    angular_speeds = 2.0 * math.pi * frequencies\n",
        "    embeddings = jnp.concatenate(\n",
        "        [jnp.sin(angular_speeds * x), jnp.cos(angular_speeds * x)],\n",
        "        axis = -1\n",
        "    )\n",
        "    return embeddings"
      ],
      "metadata": {
        "id": "mOfy3Q7mazWY"
      },
      "execution_count": 8,
      "outputs": []
    },
    {
      "cell_type": "markdown",
      "source": [
        "## Architecture"
      ],
      "metadata": {
        "id": "zlYRlB63fXmk"
      }
    },
    {
      "cell_type": "code",
      "source": [
        "class ResidualBlock(nn.Module):\n",
        "    width: int\n",
        "\n",
        "    @nn.compact\n",
        "    def __call__(self, x, train: bool):\n",
        "        input_width = x.shape[-1]\n",
        "        if input_width == self.width:\n",
        "            residual = x\n",
        "        else:\n",
        "            residual = nn.Conv(self.width, kernel_size=(1, 1))(x)\n",
        "        x = nn.BatchNorm(use_running_average=not train)(x)\n",
        "        x = nn.Conv(self.width, kernel_size=(3, 3))(x)\n",
        "        x = nn.activation.swish(x)\n",
        "        x = nn.Conv(self.width, kernel_size=(3, 3))(x)\n",
        "        x = x + residual\n",
        "        return x\n",
        "\n",
        "class DownBlock(nn.Module):\n",
        "    width: int\n",
        "    block_depth: int\n",
        "\n",
        "    @nn.compact\n",
        "    def __call__(self, x, train: bool):\n",
        "        x, skips = x\n",
        "\n",
        "        for _ in range(self.block_depth):\n",
        "            x = ResidualBlock(self.width)(x, train)\n",
        "            skips.append(x)\n",
        "        x = nn.avg_pool(x, window_shape=(2, 2), strides=(2, 2))\n",
        "        return x\n",
        "\n",
        "class UpBlock(nn.Module):\n",
        "    width: int\n",
        "    block_depth: int\n",
        "\n",
        "    @nn.compact\n",
        "    def __call__(self, x, train: bool):\n",
        "        x, skips = x\n",
        "\n",
        "        upsample_shape = (x.shape[0], x.shape[1] * 2, x.shape[2] * 2, x.shape[3])\n",
        "        x = jax.image.resize(x, upsample_shape, method='bilinear')\n",
        "\n",
        "        for _ in range(self.block_depth):\n",
        "            x = jnp.concatenate([x, skips.pop()], axis=-1)\n",
        "            x = ResidualBlock(self.width)(x, train)\n",
        "        return x\n",
        "\n",
        "class DDIM(nn.Module):\n",
        "    channels: int\n",
        "    num_classes: int\n",
        "    widths: list\n",
        "    block_depth: int\n",
        "\n",
        "    @nn.compact\n",
        "    def __call__(self, x, train: bool):\n",
        "        x, noise_variances, class_id = x\n",
        "\n",
        "        e = sinusoidal_embedding(noise_variances)\n",
        "        e = jax.image.resize(e, shape=x.shape, method='nearest')\n",
        "\n",
        "        class_embedding = nn.Embed(self.num_classes, x.shape[1])(class_id)\n",
        "        class_embedding = jnp.expand_dims(class_embedding, axis=1)\n",
        "        class_embedding = jnp.repeat(class_embedding, x.shape[2], axis=1)\n",
        "        class_embedding = jnp.expand_dims(class_embedding, axis=-1)\n",
        "\n",
        "        x = nn.Conv(self.widths[0], kernel_size=(1, 1))(x)\n",
        "        x = jnp.concatenate([x, e, class_embedding], axis=-1)\n",
        "\n",
        "        skips = []\n",
        "        for width in self.widths[:-1]:\n",
        "            x = DownBlock(width, self.block_depth)([x, skips], train)\n",
        "\n",
        "        for _ in range(self.block_depth):\n",
        "            x = ResidualBlock(self.widths[-1])(x, train)\n",
        "\n",
        "        for width in reversed(self.widths[:-1]):\n",
        "            x = UpBlock(width, self.block_depth)([x, skips], train)\n",
        "\n",
        "        x = nn.Conv(self.channels, kernel_size=(1, 1), kernel_init=nn.initializers.zeros_init())(x)\n",
        "        return x"
      ],
      "metadata": {
        "id": "hQQpQdBUbPDv"
      },
      "execution_count": 75,
      "outputs": []
    },
    {
      "cell_type": "markdown",
      "source": [
        "## Diffusion Schedule"
      ],
      "metadata": {
        "id": "ZtG9kaJTfkp_"
      }
    },
    {
      "cell_type": "code",
      "source": [
        "def diffusion_schedule(diffusion_times, max_signal_rate, min_signal_rate):\n",
        "    start_angle = jnp.arccos(max_signal_rate)\n",
        "    end_angle = jnp.arccos(min_signal_rate)\n",
        "\n",
        "    diffusion_angles = start_angle + diffusion_times * (end_angle - start_angle)\n",
        "\n",
        "    signal_rates = jnp.cos(diffusion_angles)\n",
        "    noise_rates = jnp.sin(diffusion_angles)\n",
        "    return noise_rates, signal_rates"
      ],
      "metadata": {
        "id": "3U5ikz_FbZU7"
      },
      "execution_count": 28,
      "outputs": []
    },
    {
      "cell_type": "markdown",
      "source": [
        "## Training"
      ],
      "metadata": {
        "id": "K05fr0Z2fmpN"
      }
    },
    {
      "cell_type": "code",
      "source": [
        "class TrainState(train_state.TrainState):\n",
        "    batch_stats: Any\n",
        "\n",
        "def create_train_state(module, rng, learning_rate, image_width, image_height, channels):\n",
        "    x = (jnp.ones([1, image_width, image_height, channels]), jnp.ones([1, 1, 1, 1]), jnp.array([1]))\n",
        "    variables = module.init(rng, x, True)\n",
        "    params = variables['params']\n",
        "    batch_stats = variables['batch_stats']\n",
        "    tx = optax.adam(learning_rate)\n",
        "    train_state = TrainState.create(\n",
        "        apply_fn=module.apply,\n",
        "        params=params,\n",
        "        tx=tx,\n",
        "        batch_stats=batch_stats\n",
        "    )\n",
        "    return train_state\n",
        "\n",
        "@jax.jit\n",
        "def train_step(state, images, labels, parent_key, max_signal_rate, min_signal_rate):\n",
        "    noise_key, diffusion_time_key = jax.random.split(parent_key, 2)\n",
        "    batch_size = len(images)\n",
        "\n",
        "    def loss_fn(params):\n",
        "        noises = jax.random.normal(\n",
        "            noise_key, (batch_size, images.shape[1], images.shape[2], channels)\n",
        "        )\n",
        "        diffusion_times = jax.random.uniform(diffusion_time_key, (batch_size, 1, 1, 1))\n",
        "        noise_rates, signal_rates = diffusion_schedule(\n",
        "            diffusion_times, max_signal_rate, min_signal_rate\n",
        "        )\n",
        "        noisy_images = signal_rates * images + noise_rates * noises\n",
        "\n",
        "        pred_noises, updates = state.apply_fn(\n",
        "            {'params': params, 'batch_stats': state.batch_stats},\n",
        "             [noisy_images, noise_rates**2, labels],\n",
        "             train=True,\n",
        "             mutable=['batch_stats']\n",
        "        )\n",
        "\n",
        "        loss = jnp.mean((pred_noises - noises)**2)\n",
        "        return loss, updates\n",
        "\n",
        "    grad_fn = jax.value_and_grad(loss_fn, has_aux=True)\n",
        "    (loss, updates), grads = grad_fn(state.params)\n",
        "    state = state.apply_gradients(grads=grads)\n",
        "    state = state.replace(batch_stats=updates['batch_stats'])\n",
        "    return loss, state"
      ],
      "metadata": {
        "id": "LtmfPcf2fnek"
      },
      "execution_count": 91,
      "outputs": []
    },
    {
      "cell_type": "code",
      "source": [
        "init_rng = jax.random.PRNGKey(0)\n",
        "model = DDIM(channels, num_classes, widths, block_depth)\n",
        "state = create_train_state(model, init_rng, learning_rate, image_width, image_height, channels)\n",
        "del init_rng"
      ],
      "metadata": {
        "id": "g6CPiXfljIW4"
      },
      "execution_count": 92,
      "outputs": []
    },
    {
      "cell_type": "code",
      "source": [
        "steps_per_epoch = x_train.shape[0] // batch_size\n",
        "\n",
        "losses = []\n",
        "for epoch in range(epochs):\n",
        "    losses_this_epoch = []\n",
        "    for step in tqdm(range(steps_per_epoch)):\n",
        "        images = x_train[step]\n",
        "        labels = y_train[step]\n",
        "\n",
        "        if images.shape[0] != batch_size:\n",
        "            continue\n",
        "\n",
        "        train_step_key = jax.random.PRNGKey(epoch * steps_per_epoch + step)\n",
        "        loss, state = train_step(\n",
        "            state,\n",
        "            images,\n",
        "            labels,\n",
        "            train_step_key,\n",
        "            max_signal_rate,\n",
        "            min_signal_rate\n",
        "        )\n",
        "        losses_this_epoch.append(loss)\n",
        "\n",
        "    average_loss = sum(losses_this_epoch) / len(losses_this_epoch)\n",
        "    losses.append(average_loss)\n",
        "    print(f'Epoch {epoch + 1} loss: {average_loss}')"
      ],
      "metadata": {
        "colab": {
          "base_uri": "https://localhost:8080/",
          "height": 573
        },
        "id": "6Y3AW9d2nw7F",
        "outputId": "400e8a4c-f8e9-44cb-f7e2-dd77540efa60"
      },
      "execution_count": 93,
      "outputs": [
        {
          "output_type": "stream",
          "name": "stderr",
          "text": [
            "  0%|          | 0/937 [00:00<?, ?it/s]\n"
          ]
        },
        {
          "output_type": "error",
          "ename": "TypeError",
          "evalue": "ignored",
          "traceback": [
            "\u001b[0;31m---------------------------------------------------------------------------\u001b[0m",
            "\u001b[0;31mTypeError\u001b[0m                                 Traceback (most recent call last)",
            "\u001b[0;32m<ipython-input-93-a21807e69e1d>\u001b[0m in \u001b[0;36m<cell line: 4>\u001b[0;34m()\u001b[0m\n\u001b[1;32m     12\u001b[0m \u001b[0;34m\u001b[0m\u001b[0m\n\u001b[1;32m     13\u001b[0m         \u001b[0mtrain_step_key\u001b[0m \u001b[0;34m=\u001b[0m \u001b[0mjax\u001b[0m\u001b[0;34m.\u001b[0m\u001b[0mrandom\u001b[0m\u001b[0;34m.\u001b[0m\u001b[0mPRNGKey\u001b[0m\u001b[0;34m(\u001b[0m\u001b[0mepoch\u001b[0m \u001b[0;34m*\u001b[0m \u001b[0msteps_per_epoch\u001b[0m \u001b[0;34m+\u001b[0m \u001b[0mstep\u001b[0m\u001b[0;34m)\u001b[0m\u001b[0;34m\u001b[0m\u001b[0;34m\u001b[0m\u001b[0m\n\u001b[0;32m---> 14\u001b[0;31m         loss, state = train_step(\n\u001b[0m\u001b[1;32m     15\u001b[0m             \u001b[0mstate\u001b[0m\u001b[0;34m,\u001b[0m\u001b[0;34m\u001b[0m\u001b[0;34m\u001b[0m\u001b[0m\n\u001b[1;32m     16\u001b[0m             \u001b[0mimages\u001b[0m\u001b[0;34m,\u001b[0m\u001b[0;34m\u001b[0m\u001b[0;34m\u001b[0m\u001b[0m\n",
            "    \u001b[0;31m[... skipping hidden 12 frame]\u001b[0m\n",
            "\u001b[0;32m<ipython-input-91-dd7e50a2c62d>\u001b[0m in \u001b[0;36mtrain_step\u001b[0;34m(state, images, labels, parent_key, max_signal_rate, min_signal_rate)\u001b[0m\n\u001b[1;32m     42\u001b[0m \u001b[0;34m\u001b[0m\u001b[0m\n\u001b[1;32m     43\u001b[0m     \u001b[0mgrad_fn\u001b[0m \u001b[0;34m=\u001b[0m \u001b[0mjax\u001b[0m\u001b[0;34m.\u001b[0m\u001b[0mvalue_and_grad\u001b[0m\u001b[0;34m(\u001b[0m\u001b[0mloss_fn\u001b[0m\u001b[0;34m,\u001b[0m \u001b[0mhas_aux\u001b[0m\u001b[0;34m=\u001b[0m\u001b[0;32mTrue\u001b[0m\u001b[0;34m)\u001b[0m\u001b[0;34m\u001b[0m\u001b[0;34m\u001b[0m\u001b[0m\n\u001b[0;32m---> 44\u001b[0;31m     \u001b[0;34m(\u001b[0m\u001b[0mloss\u001b[0m\u001b[0;34m,\u001b[0m \u001b[0mupdates\u001b[0m\u001b[0;34m)\u001b[0m\u001b[0;34m,\u001b[0m \u001b[0mgrads\u001b[0m \u001b[0;34m=\u001b[0m \u001b[0mgrad_fn\u001b[0m\u001b[0;34m(\u001b[0m\u001b[0mstate\u001b[0m\u001b[0;34m.\u001b[0m\u001b[0mparams\u001b[0m\u001b[0;34m)\u001b[0m\u001b[0;34m\u001b[0m\u001b[0;34m\u001b[0m\u001b[0m\n\u001b[0m\u001b[1;32m     45\u001b[0m     \u001b[0mstate\u001b[0m \u001b[0;34m=\u001b[0m \u001b[0mstate\u001b[0m\u001b[0;34m.\u001b[0m\u001b[0mapply_gradients\u001b[0m\u001b[0;34m(\u001b[0m\u001b[0mgrads\u001b[0m\u001b[0;34m=\u001b[0m\u001b[0mgrads\u001b[0m\u001b[0;34m)\u001b[0m\u001b[0;34m\u001b[0m\u001b[0;34m\u001b[0m\u001b[0m\n\u001b[1;32m     46\u001b[0m     \u001b[0mstate\u001b[0m \u001b[0;34m=\u001b[0m \u001b[0mstate\u001b[0m\u001b[0;34m.\u001b[0m\u001b[0mreplace\u001b[0m\u001b[0;34m(\u001b[0m\u001b[0mbatch_stats\u001b[0m\u001b[0;34m=\u001b[0m\u001b[0mupdates\u001b[0m\u001b[0;34m[\u001b[0m\u001b[0;34m'batch_stats'\u001b[0m\u001b[0;34m]\u001b[0m\u001b[0;34m)\u001b[0m\u001b[0;34m\u001b[0m\u001b[0;34m\u001b[0m\u001b[0m\n",
            "    \u001b[0;31m[... skipping hidden 8 frame]\u001b[0m\n",
            "\u001b[0;32m<ipython-input-91-dd7e50a2c62d>\u001b[0m in \u001b[0;36mloss_fn\u001b[0;34m(params)\u001b[0m\n\u001b[1;32m     31\u001b[0m         \u001b[0mnoisy_images\u001b[0m \u001b[0;34m=\u001b[0m \u001b[0msignal_rates\u001b[0m \u001b[0;34m*\u001b[0m \u001b[0mimages\u001b[0m \u001b[0;34m+\u001b[0m \u001b[0mnoise_rates\u001b[0m \u001b[0;34m*\u001b[0m \u001b[0mnoises\u001b[0m\u001b[0;34m\u001b[0m\u001b[0;34m\u001b[0m\u001b[0m\n\u001b[1;32m     32\u001b[0m \u001b[0;34m\u001b[0m\u001b[0m\n\u001b[0;32m---> 33\u001b[0;31m         pred_noises, updates = state.apply_fn(\n\u001b[0m\u001b[1;32m     34\u001b[0m             \u001b[0;34m{\u001b[0m\u001b[0;34m'params'\u001b[0m\u001b[0;34m:\u001b[0m \u001b[0mparams\u001b[0m\u001b[0;34m,\u001b[0m \u001b[0;34m'batch_stats'\u001b[0m\u001b[0;34m:\u001b[0m \u001b[0mstate\u001b[0m\u001b[0;34m.\u001b[0m\u001b[0mbatch_stats\u001b[0m\u001b[0;34m}\u001b[0m\u001b[0;34m,\u001b[0m\u001b[0;34m\u001b[0m\u001b[0;34m\u001b[0m\u001b[0m\n\u001b[1;32m     35\u001b[0m              \u001b[0;34m[\u001b[0m\u001b[0mnoisy_images\u001b[0m\u001b[0;34m,\u001b[0m \u001b[0mnoise_rates\u001b[0m\u001b[0;34m**\u001b[0m\u001b[0;36m2\u001b[0m\u001b[0;34m,\u001b[0m \u001b[0mlabels\u001b[0m\u001b[0;34m]\u001b[0m\u001b[0;34m,\u001b[0m\u001b[0;34m\u001b[0m\u001b[0;34m\u001b[0m\u001b[0m\n",
            "    \u001b[0;31m[... skipping hidden 6 frame]\u001b[0m\n",
            "\u001b[0;32m<ipython-input-75-a4c9660991cd>\u001b[0m in \u001b[0;36m__call__\u001b[0;34m(self, x, train)\u001b[0m\n\u001b[1;32m     65\u001b[0m \u001b[0;34m\u001b[0m\u001b[0m\n\u001b[1;32m     66\u001b[0m         \u001b[0mx\u001b[0m \u001b[0;34m=\u001b[0m \u001b[0mnn\u001b[0m\u001b[0;34m.\u001b[0m\u001b[0mConv\u001b[0m\u001b[0;34m(\u001b[0m\u001b[0mself\u001b[0m\u001b[0;34m.\u001b[0m\u001b[0mwidths\u001b[0m\u001b[0;34m[\u001b[0m\u001b[0;36m0\u001b[0m\u001b[0;34m]\u001b[0m\u001b[0;34m,\u001b[0m \u001b[0mkernel_size\u001b[0m\u001b[0;34m=\u001b[0m\u001b[0;34m(\u001b[0m\u001b[0;36m1\u001b[0m\u001b[0;34m,\u001b[0m \u001b[0;36m1\u001b[0m\u001b[0;34m)\u001b[0m\u001b[0;34m)\u001b[0m\u001b[0;34m(\u001b[0m\u001b[0mx\u001b[0m\u001b[0;34m)\u001b[0m\u001b[0;34m\u001b[0m\u001b[0;34m\u001b[0m\u001b[0m\n\u001b[0;32m---> 67\u001b[0;31m         \u001b[0mx\u001b[0m \u001b[0;34m=\u001b[0m \u001b[0mjnp\u001b[0m\u001b[0;34m.\u001b[0m\u001b[0mconcatenate\u001b[0m\u001b[0;34m(\u001b[0m\u001b[0;34m[\u001b[0m\u001b[0mx\u001b[0m\u001b[0;34m,\u001b[0m \u001b[0me\u001b[0m\u001b[0;34m,\u001b[0m \u001b[0mclass_embedding\u001b[0m\u001b[0;34m]\u001b[0m\u001b[0;34m,\u001b[0m \u001b[0maxis\u001b[0m\u001b[0;34m=\u001b[0m\u001b[0;34m-\u001b[0m\u001b[0;36m1\u001b[0m\u001b[0;34m)\u001b[0m\u001b[0;34m\u001b[0m\u001b[0;34m\u001b[0m\u001b[0m\n\u001b[0m\u001b[1;32m     68\u001b[0m \u001b[0;34m\u001b[0m\u001b[0m\n\u001b[1;32m     69\u001b[0m         \u001b[0mskips\u001b[0m \u001b[0;34m=\u001b[0m \u001b[0;34m[\u001b[0m\u001b[0;34m]\u001b[0m\u001b[0;34m\u001b[0m\u001b[0;34m\u001b[0m\u001b[0m\n",
            "\u001b[0;32m/usr/local/lib/python3.10/dist-packages/jax/_src/numpy/lax_numpy.py\u001b[0m in \u001b[0;36mconcatenate\u001b[0;34m(arrays, axis, dtype)\u001b[0m\n\u001b[1;32m   1852\u001b[0m   \u001b[0mk\u001b[0m \u001b[0;34m=\u001b[0m \u001b[0;36m16\u001b[0m\u001b[0;34m\u001b[0m\u001b[0;34m\u001b[0m\u001b[0m\n\u001b[1;32m   1853\u001b[0m   \u001b[0;32mwhile\u001b[0m \u001b[0mlen\u001b[0m\u001b[0;34m(\u001b[0m\u001b[0marrays_out\u001b[0m\u001b[0;34m)\u001b[0m \u001b[0;34m>\u001b[0m \u001b[0;36m1\u001b[0m\u001b[0;34m:\u001b[0m\u001b[0;34m\u001b[0m\u001b[0;34m\u001b[0m\u001b[0m\n\u001b[0;32m-> 1854\u001b[0;31m     arrays_out = [lax.concatenate(arrays_out[i:i+k], axis)\n\u001b[0m\u001b[1;32m   1855\u001b[0m                   for i in range(0, len(arrays_out), k)]\n\u001b[1;32m   1856\u001b[0m   \u001b[0;32mreturn\u001b[0m \u001b[0marrays_out\u001b[0m\u001b[0;34m[\u001b[0m\u001b[0;36m0\u001b[0m\u001b[0;34m]\u001b[0m\u001b[0;34m\u001b[0m\u001b[0;34m\u001b[0m\u001b[0m\n",
            "\u001b[0;32m/usr/local/lib/python3.10/dist-packages/jax/_src/numpy/lax_numpy.py\u001b[0m in \u001b[0;36m<listcomp>\u001b[0;34m(.0)\u001b[0m\n\u001b[1;32m   1852\u001b[0m   \u001b[0mk\u001b[0m \u001b[0;34m=\u001b[0m \u001b[0;36m16\u001b[0m\u001b[0;34m\u001b[0m\u001b[0;34m\u001b[0m\u001b[0m\n\u001b[1;32m   1853\u001b[0m   \u001b[0;32mwhile\u001b[0m \u001b[0mlen\u001b[0m\u001b[0;34m(\u001b[0m\u001b[0marrays_out\u001b[0m\u001b[0;34m)\u001b[0m \u001b[0;34m>\u001b[0m \u001b[0;36m1\u001b[0m\u001b[0;34m:\u001b[0m\u001b[0;34m\u001b[0m\u001b[0;34m\u001b[0m\u001b[0m\n\u001b[0;32m-> 1854\u001b[0;31m     arrays_out = [lax.concatenate(arrays_out[i:i+k], axis)\n\u001b[0m\u001b[1;32m   1855\u001b[0m                   for i in range(0, len(arrays_out), k)]\n\u001b[1;32m   1856\u001b[0m   \u001b[0;32mreturn\u001b[0m \u001b[0marrays_out\u001b[0m\u001b[0;34m[\u001b[0m\u001b[0;36m0\u001b[0m\u001b[0;34m]\u001b[0m\u001b[0;34m\u001b[0m\u001b[0;34m\u001b[0m\u001b[0m\n",
            "    \u001b[0;31m[... skipping hidden 11 frame]\u001b[0m\n",
            "\u001b[0;32m/usr/local/lib/python3.10/dist-packages/jax/_src/lax/lax.py\u001b[0m in \u001b[0;36m_concatenate_shape_rule\u001b[0;34m(*operands, **kwargs)\u001b[0m\n\u001b[1;32m   3085\u001b[0m   \u001b[0;32mif\u001b[0m \u001b[0mlen\u001b[0m\u001b[0;34m(\u001b[0m\u001b[0;34m{\u001b[0m\u001b[0moperand\u001b[0m\u001b[0;34m.\u001b[0m\u001b[0mndim\u001b[0m \u001b[0;32mfor\u001b[0m \u001b[0moperand\u001b[0m \u001b[0;32min\u001b[0m \u001b[0moperands\u001b[0m\u001b[0;34m}\u001b[0m\u001b[0;34m)\u001b[0m \u001b[0;34m!=\u001b[0m \u001b[0;36m1\u001b[0m\u001b[0;34m:\u001b[0m\u001b[0;34m\u001b[0m\u001b[0;34m\u001b[0m\u001b[0m\n\u001b[1;32m   3086\u001b[0m     \u001b[0mmsg\u001b[0m \u001b[0;34m=\u001b[0m \u001b[0;34m\"Cannot concatenate arrays with different numbers of dimensions: got {}.\"\u001b[0m\u001b[0;34m\u001b[0m\u001b[0;34m\u001b[0m\u001b[0m\n\u001b[0;32m-> 3087\u001b[0;31m     \u001b[0;32mraise\u001b[0m \u001b[0mTypeError\u001b[0m\u001b[0;34m(\u001b[0m\u001b[0mmsg\u001b[0m\u001b[0;34m.\u001b[0m\u001b[0mformat\u001b[0m\u001b[0;34m(\u001b[0m\u001b[0;34m\", \"\u001b[0m\u001b[0;34m.\u001b[0m\u001b[0mjoin\u001b[0m\u001b[0;34m(\u001b[0m\u001b[0mstr\u001b[0m\u001b[0;34m(\u001b[0m\u001b[0mo\u001b[0m\u001b[0;34m.\u001b[0m\u001b[0mshape\u001b[0m\u001b[0;34m)\u001b[0m \u001b[0;32mfor\u001b[0m \u001b[0mo\u001b[0m \u001b[0;32min\u001b[0m \u001b[0moperands\u001b[0m\u001b[0;34m)\u001b[0m\u001b[0;34m)\u001b[0m\u001b[0;34m)\u001b[0m\u001b[0;34m\u001b[0m\u001b[0;34m\u001b[0m\u001b[0m\n\u001b[0m\u001b[1;32m   3088\u001b[0m   \u001b[0;32mif\u001b[0m \u001b[0;32mnot\u001b[0m \u001b[0;36m0\u001b[0m \u001b[0;34m<=\u001b[0m \u001b[0mdimension\u001b[0m \u001b[0;34m<\u001b[0m \u001b[0moperands\u001b[0m\u001b[0;34m[\u001b[0m\u001b[0;36m0\u001b[0m\u001b[0;34m]\u001b[0m\u001b[0;34m.\u001b[0m\u001b[0mndim\u001b[0m\u001b[0;34m:\u001b[0m\u001b[0;34m\u001b[0m\u001b[0;34m\u001b[0m\u001b[0m\n\u001b[1;32m   3089\u001b[0m     \u001b[0mmsg\u001b[0m \u001b[0;34m=\u001b[0m \u001b[0;34m\"concatenate dimension out of bounds: dimension {} for shapes {}.\"\u001b[0m\u001b[0;34m\u001b[0m\u001b[0;34m\u001b[0m\u001b[0m\n",
            "\u001b[0;31mTypeError\u001b[0m: Cannot concatenate arrays with different numbers of dimensions: got (8, 32, 32, 32), (8, 32, 32, 3), (8, 32, 1, 32, 1)."
          ]
        }
      ]
    },
    {
      "cell_type": "code",
      "source": [],
      "metadata": {
        "id": "Eg0UusB2reIu"
      },
      "execution_count": null,
      "outputs": []
    }
  ]
}