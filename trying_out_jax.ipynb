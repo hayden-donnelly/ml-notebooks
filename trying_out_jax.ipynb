{
  "nbformat": 4,
  "nbformat_minor": 0,
  "metadata": {
    "colab": {
      "provenance": [],
      "gpuType": "T4"
    },
    "kernelspec": {
      "name": "python3",
      "display_name": "Python 3"
    },
    "language_info": {
      "name": "python"
    },
    "accelerator": "GPU",
    "gpuClass": "standard"
  },
  "cells": [
    {
      "cell_type": "markdown",
      "source": [
        "# Trying Out Jax\n",
        "Note: all cells outside the initial setup section are written so they can be executed in isolation."
      ],
      "metadata": {
        "id": "u5qH_U3eWQLO"
      }
    },
    {
      "cell_type": "markdown",
      "source": [
        "## Initial Setup"
      ],
      "metadata": {
        "id": "opyQqF3YEGFI"
      }
    },
    {
      "cell_type": "code",
      "execution_count": null,
      "metadata": {
        "id": "pqZCfXoCwjPJ",
        "colab": {
          "base_uri": "https://localhost:8080/"
        },
        "outputId": "7ecc9272-115b-4f65-8a21-6124154cb162"
      },
      "outputs": [
        {
          "output_type": "execute_result",
          "data": {
            "text/plain": [
              "[StreamExecutorGpuDevice(id=0, process_index=0, slice_index=0)]"
            ]
          },
          "metadata": {},
          "execution_count": 1
        }
      ],
      "source": [
        "import jax\n",
        "import jax.numpy as jnp\n",
        "import numpy as np\n",
        "from jax import jit\n",
        "from jax._src.api import block_until_ready\n",
        "import matplotlib.pyplot as plt\n",
        "\n",
        "# Only using these for data loading.\n",
        "import torch\n",
        "from torchvision.datasets import MNIST\n",
        "import torchvision.transforms as transforms\n",
        "\n",
        "jax.devices()"
      ]
    },
    {
      "cell_type": "code",
      "source": [
        "def custom_transform(x):\n",
        "    x = np.ravel(np.array(x, dtype=np.float32))\n",
        "    return x\n",
        "\n",
        "def custom_collate(batch):\n",
        "    transposed_data = list(zip(*batch))\n",
        "    labels = np.array(transposed_data[1])\n",
        "    images = np.stack(transposed_data[0])\n",
        "    return images, labels\n",
        "\n",
        "def load_mnist(batch_size):\n",
        "    transform = transforms.Compose([\n",
        "        transforms.ToTensor(),\n",
        "        transforms.Normalize((0.5,), (0.5,)),\n",
        "        custom_transform,\n",
        "    ])\n",
        "\n",
        "    train_dataset = MNIST(root='data/', train=True, download=True, transform=transform)\n",
        "    test_dataset = MNIST(root='data/', train=False, download=True, transform=transform)\n",
        "\n",
        "    train_loader = torch.utils.data.DataLoader(\n",
        "        train_dataset, \n",
        "        batch_size, \n",
        "        shuffle=True, \n",
        "        collate_fn=custom_collate\n",
        "    )\n",
        "    test_loader = torch.utils.data.DataLoader(\n",
        "        test_dataset, \n",
        "        batch_size, \n",
        "        shuffle=True, \n",
        "        collate_fn=custom_collate\n",
        "    )\n",
        "\n",
        "    return train_loader, test_loader"
      ],
      "metadata": {
        "id": "ny7qy0nnczDK"
      },
      "execution_count": null,
      "outputs": []
    },
    {
      "cell_type": "markdown",
      "source": [
        "## Updating Arrays Functionally"
      ],
      "metadata": {
        "id": "UNxTOorEy78M"
      }
    },
    {
      "cell_type": "code",
      "source": [
        "# Arrays are immutable in Jax, so x[0] = y won't work.\n",
        "# Keys are also passed to random.normal() explicitly instead of relying on explicit state.\n",
        "key = jax.random.PRNGKey(100)\n",
        "x = jax.random.normal(key=key, shape=(5,))\n",
        "print('Original x:', x)\n",
        "x = x.at[0].set(20.0)\n",
        "print('Updated x:', x)"
      ],
      "metadata": {
        "colab": {
          "base_uri": "https://localhost:8080/"
        },
        "id": "MMGKN4csw98N",
        "outputId": "f5f3c066-5743-4e60-e175-166adfae3f13"
      },
      "execution_count": null,
      "outputs": [
        {
          "output_type": "stream",
          "name": "stdout",
          "text": [
            "Original x: [-0.69846076 -0.7054794   1.3151264  -2.0337505  -0.08158301]\n",
            "Updated x: [20.         -0.7054794   1.3151264  -2.0337505  -0.08158301]\n"
          ]
        }
      ]
    },
    {
      "cell_type": "markdown",
      "source": [],
      "metadata": {
        "id": "kOLkx_PKWhf_"
      }
    },
    {
      "cell_type": "markdown",
      "source": [
        "## Speed Test"
      ],
      "metadata": {
        "id": "0DpD1bqd0Frs"
      }
    },
    {
      "cell_type": "code",
      "source": [
        "key = jax.random.PRNGKey(100)\n",
        "x = jax.random.normal(key, shape=(1000, 1000))\n",
        "key = jax.random.PRNGKey(200)\n",
        "y = jax.random.normal(key, shape=(1000, 1000))\n",
        "\n",
        "def numpy_matmul(x, y):\n",
        "    return np.dot(x, y)\n",
        "\n",
        "def jnp_matmul(x, y):\n",
        "    return jnp.dot(x, y)\n",
        "\n",
        "# Just-in-time (JIT) compilation can be used to speed up execution.\n",
        "jnp_matmul_compiled = jit(jnp_matmul)\n",
        "\n",
        "print(\"np matmul:\")\n",
        "%timeit numpy_matmul(x, y)\n",
        "print(\"jnp matmul:\")\n",
        "%timeit jnp_matmul(x, y).block_until_ready()\n",
        "print(\"jnp matmul compiled:\")\n",
        "%timeit jnp_matmul_compiled(x, y).block_until_ready()"
      ],
      "metadata": {
        "colab": {
          "base_uri": "https://localhost:8080/"
        },
        "id": "VMeiKp6hxoSH",
        "outputId": "9948d75e-6a94-4dfd-a4e6-0c7fa0835fd2"
      },
      "execution_count": null,
      "outputs": [
        {
          "output_type": "stream",
          "name": "stdout",
          "text": [
            "np matmul:\n",
            "28.3 ms ± 1.21 ms per loop (mean ± std. dev. of 7 runs, 10 loops each)\n",
            "jnp matmul:\n",
            "1 ms ± 18.3 µs per loop (mean ± std. dev. of 7 runs, 1 loop each)\n",
            "jnp matmul compiled:\n",
            "576 µs ± 3.06 µs per loop (mean ± std. dev. of 7 runs, 1000 loops each)\n"
          ]
        }
      ]
    },
    {
      "cell_type": "markdown",
      "source": [
        "## FEBAM/Hebbian Learning\n",
        "https://ieeexplore.ieee.org/document/4371210d\n",
        "\n",
        "https://github.com/hayden-donnelly/febam"
      ],
      "metadata": {
        "id": "PFdjsDCXUOXG"
      }
    },
    {
      "cell_type": "code",
      "source": [
        "def create_febam(key, x_dim, y_dim):\n",
        "    W_key, V_key = jax.random.split(key, 2)\n",
        "    W = jax.random.normal(W_key, shape=(y_dim, x_dim))\n",
        "    V = jax.random.normal(V_key, shape=(x_dim, y_dim))\n",
        "    return (W, V)\n",
        "\n",
        "def sigmoid(x):\n",
        "    return 1/(1 + jnp.exp(-x))\n",
        "\n",
        "def execute_febam(weights, x0):\n",
        "    W = weights[0]\n",
        "    V = weights[1]\n",
        "    y0 = sigmoid(jnp.dot(W, x0))\n",
        "    x1 = sigmoid(jnp.dot(V, y0))\n",
        "    y1 = sigmoid(jnp.dot(W, x1))\n",
        "    return x1, y1, y0\n",
        "\n",
        "def update_weights(weights, x0, xt, y0, yt, lr):\n",
        "    W = weights[0]\n",
        "    V = weights[1]\n",
        "    W_diff = lr * jnp.outer(y0 - yt, x0 + xt,)\n",
        "    V_diff = lr * jnp.outer(x0 - xt, y0 + yt,)\n",
        "    return (W + W_diff, V + V_diff)\n",
        "\n",
        "# Set hyperparameters\n",
        "epochs = 50\n",
        "lr = 0.005\n",
        "batch_size = 1\n",
        "x_dim = 784\n",
        "y_dim = 200\n",
        "\n",
        "# Load data.\n",
        "key = jax.random.PRNGKey(1)\n",
        "train_loader, _ = load_mnist(batch_size)\n",
        "image = next(iter(train_loader))[0].squeeze()\n",
        "\n",
        "# Create model.\n",
        "febam_weights = create_febam(key, x_dim, y_dim)\n",
        "\n",
        "# Compile inference and learning functions.\n",
        "execute_febam_c = jit(execute_febam)\n",
        "update_weights_c = jit(update_weights)\n",
        "\n",
        "# Train the model.\n",
        "x_throughout_training = [image.reshape(28, 28)]\n",
        "x0 = image\n",
        "xt, yt, y0 = execute_febam_c(febam_weights, x0)\n",
        "febam_weights = update_weights_c(febam_weights, x0, xt, yt, y0, lr)\n",
        "x_throughout_training.append(xt.reshape(28, 28))\n",
        "\n",
        "for epoch in range(epochs-1):\n",
        "    xt, yt, _ = execute_febam_c(febam_weights, xt)\n",
        "    febam_weights = update_weights_c(febam_weights, x0, xt, yt, y0, lr)\n",
        "\n",
        "    if epoch % 10 == 0:\n",
        "        x_throughout_training.append(xt.reshape(28, 28))\n",
        "\n",
        "fig, axs = plt.subplots(1, len(x_throughout_training),  figsize=(12, 12))\n",
        "for i, img in enumerate(x_throughout_training):\n",
        "    axs[i].imshow(img, cmap='gray')\n",
        "    axs[i].axis('off')\n",
        "plt.tight_layout()\n",
        "plt.show()"
      ],
      "metadata": {
        "id": "ROtc69Bs18h7",
        "colab": {
          "base_uri": "https://localhost:8080/",
          "height": 191
        },
        "outputId": "6055ef06-18ad-4251-883c-cf3cfd7c5c06"
      },
      "execution_count": null,
      "outputs": [
        {
          "output_type": "display_data",
          "data": {
            "text/plain": [
              "<Figure size 1200x1200 with 7 Axes>"
            ],
            "image/png": "[encoded data removed]"
          },
          "metadata": {}
        }
      ]
    },
    {
      "cell_type": "markdown",
      "source": [
        "## MLP/Backpropagation"
      ],
      "metadata": {
        "id": "EQKOS9CF51Sa"
      }
    },
    {
      "cell_type": "code",
      "source": [
        "# Change to ReLU\n",
        "def sigmoid(x):\n",
        "    return 1/(1 + jnp.exp(-x))\n",
        "\n",
        "def mse(predicted, actual):\n",
        "    return jnp.mean(jnp.square(predicted - actual))\n",
        "\n",
        "def create_mlp(parent_key, layer_widths):\n",
        "    mlp = []\n",
        "    layer_keys = jax.random.split(parent_key, len(layer_widths))\n",
        "    \n",
        "    for i in range(1, len(layer_widths)):\n",
        "        weight_and_bias_keys = jax.random.split(layer_keys[i], 2)\n",
        "        layer_weights = jax.random.normal(weight_and_bias_keys[0], shape=(layer_widths[i], layer_widths[i-1]))\n",
        "        layer_biases = jax.random.normal(weight_and_bias_keys[1], shape=(layer_widths[i],))\n",
        "        mlp.append((layer_weights, layer_biases, sigmoid))\n",
        "\n",
        "    return mlp\n",
        "\n",
        "def summarize_mlp(mlp):\n",
        "    for i, layer in enumerate(mlp):\n",
        "        weight_summary = ', weights shape: ' + str(layer[0].shape)\n",
        "        bias_summary = ', bias shape: ' + str(layer[1].shape)\n",
        "        activation_summary = ', activation: ' + str(layer[2])\n",
        "        print('Layer ' + str(i) + weight_summary + bias_summary + activation_summary)\n",
        "\n",
        "\n",
        "def mlp_forward(mlp, x):\n",
        "    for weights, biases, activation in mlp:\n",
        "        x = jnp.dot(weights, x)\n",
        "        x = jnp.add(x, biases)\n",
        "        x = activation(x)\n",
        "    return x"
      ],
      "metadata": {
        "id": "YK7LR4KX_Nf9"
      },
      "execution_count": null,
      "outputs": []
    },
    {
      "cell_type": "code",
      "source": [
        "key = jax.random.PRNGKey(20)\n",
        "mlp = create_mlp(key, [784, 800, 10])\n",
        "summarize_mlp(mlp)"
      ],
      "metadata": {
        "colab": {
          "base_uri": "https://localhost:8080/"
        },
        "id": "BJqC9_1V53Ud",
        "outputId": "e791686a-a46e-4d6a-99eb-e3461f77df3e"
      },
      "execution_count": null,
      "outputs": [
        {
          "output_type": "stream",
          "name": "stdout",
          "text": [
            "Layer 0, weights shape: (800, 784), bias shape: (800,), activation: <function sigmoid at 0x7f4c7efe52d0>\n",
            "Layer 1, weights shape: (10, 800), bias shape: (10,), activation: <function sigmoid at 0x7f4c7efe52d0>\n"
          ]
        }
      ]
    },
    {
      "cell_type": "code",
      "source": [
        "epochs = 1\n",
        "train_loader, test_loader = load_mnist(batch_size=1)\n",
        "image, label = next(iter(train_loader))\n",
        "print(label)\n",
        "for epoch in range(epochs):\n",
        "    prediction = mlp_forward(mlp, image.squeeze())\n",
        "    print(prediction)"
      ],
      "metadata": {
        "colab": {
          "base_uri": "https://localhost:8080/"
        },
        "id": "_SfntkrS_ECU",
        "outputId": "2c29bd5a-e6bd-4e25-a576-d8a82d81e874"
      },
      "execution_count": null,
      "outputs": [
        {
          "output_type": "stream",
          "name": "stdout",
          "text": [
            "[7]\n",
            "[9.5977038e-01 3.5699704e-01 2.2941434e-07 4.4980875e-01 9.2664880e-07\n",
            " 9.3199384e-01 5.8113560e-06 3.2131642e-04 1.0000000e+00 5.7856989e-01]\n"
          ]
        }
      ]
    },
    {
      "cell_type": "code",
      "source": [],
      "metadata": {
        "id": "atrpHuFbAx55"
      },
      "execution_count": null,
      "outputs": []
    }
  ]
}