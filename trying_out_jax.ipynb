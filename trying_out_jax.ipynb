{
  "nbformat": 4,
  "nbformat_minor": 0,
  "metadata": {
    "colab": {
      "provenance": [],
      "gpuType": "T4"
    },
    "kernelspec": {
      "name": "python3",
      "display_name": "Python 3"
    },
    "language_info": {
      "name": "python"
    },
    "accelerator": "GPU",
    "gpuClass": "standard"
  },
  "cells": [
    {
      "cell_type": "code",
      "execution_count": 22,
      "metadata": {
        "id": "pqZCfXoCwjPJ"
      },
      "outputs": [],
      "source": [
        "import jax\n",
        "import jax.numpy as jnp\n",
        "import numpy as np\n",
        "from jax import jit\n",
        "from jax._src.api import block_until_ready"
      ]
    },
    {
      "cell_type": "code",
      "source": [
        "jax.devices()"
      ],
      "metadata": {
        "colab": {
          "base_uri": "https://localhost:8080/"
        },
        "id": "KDC6cPKGxbUW",
        "outputId": "0fc57d27-312b-491c-c3bc-8c68ddc0850e"
      },
      "execution_count": 4,
      "outputs": [
        {
          "output_type": "execute_result",
          "data": {
            "text/plain": [
              "[StreamExecutorGpuDevice(id=0, process_index=0, slice_index=0)]"
            ]
          },
          "metadata": {},
          "execution_count": 4
        }
      ]
    },
    {
      "cell_type": "markdown",
      "source": [
        "## Updating Arrays Functionally"
      ],
      "metadata": {
        "id": "UNxTOorEy78M"
      }
    },
    {
      "cell_type": "code",
      "source": [
        "# Arrays are immutable in Jax, so x[0] = y won't work.\n",
        "# Keys are also passed to random.normal() explicitly instead of relying on explicit state.\n",
        "key = jax.random.PRNGKey(100)\n",
        "x = jax.random.normal(key=key, shape=(5,))\n",
        "print('Original x:', x)\n",
        "x = x.at[0].set(20.0)\n",
        "print('Updated x:', x)"
      ],
      "metadata": {
        "colab": {
          "base_uri": "https://localhost:8080/"
        },
        "id": "MMGKN4csw98N",
        "outputId": "04b8f4dc-d902-463a-a6d5-85d8f248b891"
      },
      "execution_count": 15,
      "outputs": [
        {
          "output_type": "stream",
          "name": "stdout",
          "text": [
            "Original x: [-0.69846076 -0.7054794   1.3151264  -2.0337505  -0.08158301]\n",
            "Updated x: [20.         -0.7054794   1.3151264  -2.0337505  -0.08158301]\n"
          ]
        }
      ]
    },
    {
      "cell_type": "markdown",
      "source": [
        "## Speed Test"
      ],
      "metadata": {
        "id": "0DpD1bqd0Frs"
      }
    },
    {
      "cell_type": "code",
      "source": [
        "key = jax.random.PRNGKey(100)\n",
        "x = jax.random.normal(key, shape=(1000, 1000))\n",
        "key = jax.random.PRNGKey(200)\n",
        "y = jax.random.normal(key, shape=(1000, 1000))\n",
        "\n",
        "def numpy_matmul(x, y):\n",
        "    return np.dot(x, y)\n",
        "\n",
        "def jnp_matmul(x, y):\n",
        "    return jnp.dot(x, y)\n",
        "\n",
        "# Just-in-time (JIT) compilation can be used to speed up execution.\n",
        "jnp_matmul_compiled = jit(jnp_matmul)\n",
        "\n",
        "print(\"np matmul:\")\n",
        "%timeit numpy_matmul(x, y)\n",
        "print(\"jnp matmul:\")\n",
        "%timeit jnp_matmul(x, y).block_until_ready()\n",
        "print(\"jnp matmul compiled:\")\n",
        "%timeit jnp_matmul_compiled(x, y).block_until_ready()"
      ],
      "metadata": {
        "colab": {
          "base_uri": "https://localhost:8080/"
        },
        "id": "VMeiKp6hxoSH",
        "outputId": "3396a587-2ca7-476a-cd85-e67d3c2fba32"
      },
      "execution_count": 21,
      "outputs": [
        {
          "output_type": "stream",
          "name": "stdout",
          "text": [
            "np matmul:\n",
            "48.7 ms ± 8.83 ms per loop (mean ± std. dev. of 7 runs, 10 loops each)\n",
            "jnp matmul:\n",
            "643 µs ± 20.4 µs per loop (mean ± std. dev. of 7 runs, 1000 loops each)\n",
            "jnp matmul compiled:\n",
            "643 µs ± 4.73 µs per loop (mean ± std. dev. of 7 runs, 1000 loops each)\n"
          ]
        }
      ]
    },
    {
      "cell_type": "code",
      "source": [],
      "metadata": {
        "id": "ROtc69Bs18h7"
      },
      "execution_count": null,
      "outputs": []
    }
  ]
}