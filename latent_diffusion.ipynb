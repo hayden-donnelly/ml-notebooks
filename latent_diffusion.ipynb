{
 "cells": [
  {
   "cell_type": "markdown",
   "id": "83fa1c9b",
   "metadata": {},
   "source": [
    "# Latent Diffusion\n",
    "\n",
    "WIP implementation of latent diffusion from the paper [High-Resolution Image Synthesis with Latent Diffusion Models](https://arxiv.org/abs/2112.10752).\n",
    "\n",
    "Resources Used:\n",
    "- [Building Autoencoders in Keras](https://blog.keras.io/building-autoencoders-in-keras.html)\n",
    "- [Variational AutoEncoder](https://keras.io/examples/generative/vae/)\n",
    "- [Denoising Diffusion Implicit Models](https://keras.io/examples/generative/ddim/)\n",
    "\n",
    "ToDo:\n",
    "- Find colored dataset to train on"
   ]
  },
  {
   "cell_type": "code",
   "execution_count": 1,
   "id": "9252187b",
   "metadata": {},
   "outputs": [],
   "source": [
    "import tensorflow as tf\n",
    "from keras import layers\n",
    "import keras\n",
    "import matplotlib.pyplot as plt\n",
    "import numpy as np\n",
    "import math"
   ]
  },
  {
   "cell_type": "code",
   "execution_count": 2,
   "id": "338ad422",
   "metadata": {},
   "outputs": [],
   "source": [
    "image_size  = 28\n",
    "autoencoder_depth = 10\n",
    "dropout = 0.1\n",
    "channels = 1"
   ]
  },
  {
   "cell_type": "code",
   "execution_count": 3,
   "id": "1fcb6ab7",
   "metadata": {},
   "outputs": [
    {
     "data": {
      "text/plain": [
       "(60000, 28, 28, 1)"
      ]
     },
     "execution_count": 3,
     "metadata": {},
     "output_type": "execute_result"
    }
   ],
   "source": [
    "(x_train, y_train), (x_test, y_test) = keras.datasets.mnist.load_data()\n",
    "x_train = x_train.astype('float32') / 255.\n",
    "x_test = x_test.astype('float32') / 255.\n",
    "x_train = np.reshape(x_train, (x_train.shape[0], image_size, image_size, channels))\n",
    "x_test = np.reshape(x_test, (x_test.shape[0], image_size, image_size, channels))\n",
    "x_train.shape"
   ]
  },
  {
   "cell_type": "markdown",
   "id": "79204bc6",
   "metadata": {},
   "source": [
    "## Variational Autoencoder"
   ]
  },
  {
   "cell_type": "code",
   "execution_count": 6,
   "id": "46257d78",
   "metadata": {},
   "outputs": [],
   "source": [
    "def EncoderBlock():\n",
    "    def apply(x):\n",
    "        x = layers.Conv2D(16, (3, 3), activation='relu', padding='same')(x)\n",
    "        x = layers.MaxPooling2D((2, 2), padding='same')(x)\n",
    "        x = layers.Conv2D(8, (3, 3), activation='relu', padding='same')(x)\n",
    "        x = layers.MaxPooling2D((2, 2), padding='same')(x)\n",
    "        x = layers.Conv2D(8, (3, 3), activation='relu', padding='same')(x)\n",
    "        encoded = layers.MaxPooling2D((2, 2), padding='same')(x)\n",
    "        return encoded\n",
    "    \n",
    "    return apply\n",
    "\n",
    "def DecoderBlock():\n",
    "    def apply(x):\n",
    "        x = layers.Conv2D(8, (3, 3), activation='relu', padding='same')(x)\n",
    "        x = layers.UpSampling2D((2, 2))(x)\n",
    "        x = layers.Conv2D(8, (3, 3), activation='relu', padding='same')(x)\n",
    "        x = layers.UpSampling2D((2, 2))(x)\n",
    "        x = layers.Conv2D(16, (3, 3), activation='relu')(x)\n",
    "        x = layers.UpSampling2D((2, 2))(x)\n",
    "        decoded = layers.Conv2D(1, (3, 3), activation='sigmoid', padding='same')(x)\n",
    "        return decoded\n",
    "    \n",
    "    return apply\n",
    "\n",
    "class Sampling(layers.Layer):\n",
    "    def call(self, inputs):\n",
    "        z_mean, z_log_var = inputs\n",
    "        epsilon = tf.keras.backend.random_normal(shape=(4, 4, 1))\n",
    "        return z_mean + tf.exp(0.5 * z_log_var) * epsilon"
   ]
  },
  {
   "cell_type": "code",
   "execution_count": 7,
   "id": "b05041b1",
   "metadata": {},
   "outputs": [],
   "source": [
    "class VAE(keras.Model):\n",
    "    def __init__(self):\n",
    "        super().__init__()\n",
    "        self.encoder = self.create_encoder()\n",
    "        self.decoder = self.create_decoder()\n",
    "        self.total_loss_tracker = keras.metrics.Mean(name=\"total_loss\")\n",
    "        self.reconstruction_loss_tracker = keras.metrics.Mean(\n",
    "            name=\"reconstruction_loss\"\n",
    "        )\n",
    "        self.kl_loss_tracker = keras.metrics.Mean(name=\"kl_loss\")\n",
    "    \n",
    "    @property\n",
    "    def metrics(self):\n",
    "        return [\n",
    "            self.total_loss_tracker,\n",
    "            self.reconstruction_loss_tracker,\n",
    "            self.kl_loss_tracker,\n",
    "        ]\n",
    "    \n",
    "    def create_encoder(self):\n",
    "        input_image = layers.Input(shape=(image_size, image_size, channels))\n",
    "        x = EncoderBlock()(input_image)\n",
    "        z_mean = layers.Conv2D(1, (2, 2), padding='same')(x)\n",
    "        z_log_var = layers.Conv2D(1, (2, 2), padding='same')(x)\n",
    "        z = Sampling()([z_mean, z_log_var])\n",
    "        return keras.Model(input_image, [z_mean, z_log_var, z])\n",
    "    \n",
    "    def create_decoder(self):\n",
    "        input_latent = layers.Input(shape=(4, 4, 1))\n",
    "        decoded = DecoderBlock()(input_latent)\n",
    "        return keras.Model(input_latent, decoded)\n",
    "    \n",
    "    def train_step(self, data):\n",
    "        with tf.GradientTape() as tape:\n",
    "            z_mean, z_log_var, z = self.encoder(data)\n",
    "            reconstruction = self.decoder(z)\n",
    "            reconstruction_loss = tf.reduce_mean(\n",
    "                tf.reduce_sum(\n",
    "                    keras.losses.binary_crossentropy(data, reconstruction), axis=(1, 2)\n",
    "                )\n",
    "            )\n",
    "            kl_loss = -0.5 * (1 + z_log_var - tf.square(z_mean) - tf.exp(z_log_var))\n",
    "            kl_loss = tf.reduce_mean(tf.reduce_sum(kl_loss, axis=1))\n",
    "            total_loss = reconstruction_loss + kl_loss\n",
    "        grads = tape.gradient(total_loss, self.trainable_weights)\n",
    "        self.optimizer.apply_gradients(zip(grads, self.trainable_weights))\n",
    "\n",
    "        self.total_loss_tracker.update_state(total_loss)\n",
    "        self.reconstruction_loss_tracker.update_state(reconstruction_loss)\n",
    "        self.kl_loss_tracker.update_state(kl_loss)\n",
    "        return {\n",
    "            \"loss\": self.total_loss_tracker.result(),\n",
    "            \"reconstruction_loss\": self.reconstruction_loss_tracker.result(),\n",
    "            \"kl_loss\": self.kl_loss_tracker.result(),\n",
    "        }\n",
    "    \n",
    "    def encode(self, data):\n",
    "        _, _, z = self.encoder(data)\n",
    "        return z\n",
    "    \n",
    "    def decode(self, data):\n",
    "        x = self.decoder(data)\n",
    "        return x"
   ]
  },
  {
   "cell_type": "code",
   "execution_count": 64,
   "id": "027ea75e",
   "metadata": {
    "scrolled": false
   },
   "outputs": [
    {
     "name": "stdout",
     "output_type": "stream",
     "text": [
      "Epoch 1/40\n",
      "118/118 [==============================] - 2s 8ms/step - loss: 400.8289 - reconstruction_loss: 335.1245 - kl_loss: 1.9946\n",
      "Epoch 2/40\n",
      "118/118 [==============================] - 1s 8ms/step - loss: 232.0843 - reconstruction_loss: 210.9610 - kl_loss: 7.9448\n",
      "Epoch 3/40\n",
      "118/118 [==============================] - 1s 7ms/step - loss: 192.2553 - reconstruction_loss: 180.0022 - kl_loss: 7.9905\n",
      "Epoch 4/40\n",
      "118/118 [==============================] - 1s 7ms/step - loss: 178.1797 - reconstruction_loss: 168.2872 - kl_loss: 8.2982\n",
      "Epoch 5/40\n",
      "118/118 [==============================] - 1s 7ms/step - loss: 171.7286 - reconstruction_loss: 162.0688 - kl_loss: 8.6151\n",
      "Epoch 6/40\n",
      "118/118 [==============================] - 1s 8ms/step - loss: 166.3637 - reconstruction_loss: 156.6495 - kl_loss: 8.6494\n",
      "Epoch 7/40\n",
      "118/118 [==============================] - 1s 7ms/step - loss: 161.9994 - reconstruction_loss: 151.8575 - kl_loss: 8.7725\n",
      "Epoch 8/40\n",
      "118/118 [==============================] - 1s 7ms/step - loss: 157.2152 - reconstruction_loss: 147.3682 - kl_loss: 8.9086\n",
      "Epoch 9/40\n",
      "118/118 [==============================] - 1s 8ms/step - loss: 153.6328 - reconstruction_loss: 143.8821 - kl_loss: 8.9688\n",
      "Epoch 10/40\n",
      "118/118 [==============================] - 1s 8ms/step - loss: 150.0837 - reconstruction_loss: 140.0404 - kl_loss: 9.2002\n",
      "Epoch 11/40\n",
      "118/118 [==============================] - 1s 7ms/step - loss: 147.0338 - reconstruction_loss: 136.8816 - kl_loss: 9.4638\n",
      "Epoch 12/40\n",
      "118/118 [==============================] - 1s 9ms/step - loss: 144.0958 - reconstruction_loss: 134.3899 - kl_loss: 9.3015\n",
      "Epoch 13/40\n",
      "118/118 [==============================] - 1s 7ms/step - loss: 142.2630 - reconstruction_loss: 132.2055 - kl_loss: 9.5902\n",
      "Epoch 14/40\n",
      "118/118 [==============================] - 1s 7ms/step - loss: 140.6250 - reconstruction_loss: 130.8139 - kl_loss: 9.6976\n",
      "Epoch 15/40\n",
      "118/118 [==============================] - 1s 6ms/step - loss: 139.1071 - reconstruction_loss: 129.0231 - kl_loss: 9.7419\n",
      "Epoch 16/40\n",
      "118/118 [==============================] - 1s 6ms/step - loss: 137.6552 - reconstruction_loss: 127.7853 - kl_loss: 9.6420\n",
      "Epoch 17/40\n",
      "118/118 [==============================] - 1s 8ms/step - loss: 136.6072 - reconstruction_loss: 126.6075 - kl_loss: 9.9358\n",
      "Epoch 18/40\n",
      "118/118 [==============================] - 1s 7ms/step - loss: 135.7411 - reconstruction_loss: 125.4605 - kl_loss: 9.8511\n",
      "Epoch 19/40\n",
      "118/118 [==============================] - 1s 7ms/step - loss: 135.0212 - reconstruction_loss: 124.7672 - kl_loss: 9.9056\n",
      "Epoch 20/40\n",
      "118/118 [==============================] - 1s 9ms/step - loss: 133.9970 - reconstruction_loss: 123.9940 - kl_loss: 9.8612\n",
      "Epoch 21/40\n",
      "118/118 [==============================] - 1s 9ms/step - loss: 133.4035 - reconstruction_loss: 122.9925 - kl_loss: 10.0427\n",
      "Epoch 22/40\n",
      "118/118 [==============================] - 1s 8ms/step - loss: 132.6217 - reconstruction_loss: 122.5230 - kl_loss: 10.0354\n",
      "Epoch 23/40\n",
      "118/118 [==============================] - 1s 7ms/step - loss: 131.6054 - reconstruction_loss: 121.4611 - kl_loss: 10.0037\n",
      "Epoch 24/40\n",
      "118/118 [==============================] - 1s 9ms/step - loss: 131.2699 - reconstruction_loss: 120.8657 - kl_loss: 10.1631\n",
      "Epoch 25/40\n",
      "118/118 [==============================] - 1s 7ms/step - loss: 130.8115 - reconstruction_loss: 120.3026 - kl_loss: 10.0773\n",
      "Epoch 26/40\n",
      "118/118 [==============================] - 1s 8ms/step - loss: 129.5620 - reconstruction_loss: 119.6428 - kl_loss: 10.0604\n",
      "Epoch 27/40\n",
      "118/118 [==============================] - 1s 7ms/step - loss: 129.5112 - reconstruction_loss: 119.1439 - kl_loss: 10.1380\n",
      "Epoch 28/40\n",
      "118/118 [==============================] - 1s 8ms/step - loss: 129.1938 - reconstruction_loss: 118.7552 - kl_loss: 10.2174\n",
      "Epoch 29/40\n",
      "118/118 [==============================] - 1s 7ms/step - loss: 128.5297 - reconstruction_loss: 118.2021 - kl_loss: 10.2323\n",
      "Epoch 30/40\n",
      "118/118 [==============================] - 1s 8ms/step - loss: 127.8064 - reconstruction_loss: 117.8679 - kl_loss: 10.2307\n",
      "Epoch 31/40\n",
      "118/118 [==============================] - 1s 7ms/step - loss: 128.0060 - reconstruction_loss: 117.6976 - kl_loss: 10.2553\n",
      "Epoch 32/40\n",
      "118/118 [==============================] - 1s 7ms/step - loss: 128.1451 - reconstruction_loss: 117.2813 - kl_loss: 10.3051\n",
      "Epoch 33/40\n",
      "118/118 [==============================] - 1s 7ms/step - loss: 127.9169 - reconstruction_loss: 117.4407 - kl_loss: 10.3122\n",
      "Epoch 34/40\n",
      "118/118 [==============================] - 1s 6ms/step - loss: 126.6748 - reconstruction_loss: 116.3290 - kl_loss: 10.2199\n",
      "Epoch 35/40\n",
      "118/118 [==============================] - 1s 7ms/step - loss: 126.5286 - reconstruction_loss: 116.1251 - kl_loss: 10.2989\n",
      "Epoch 36/40\n",
      "118/118 [==============================] - 1s 7ms/step - loss: 126.0975 - reconstruction_loss: 115.8508 - kl_loss: 10.4048\n",
      "Epoch 37/40\n",
      "118/118 [==============================] - 1s 7ms/step - loss: 126.2460 - reconstruction_loss: 115.5247 - kl_loss: 10.5058\n",
      "Epoch 38/40\n",
      "118/118 [==============================] - 1s 7ms/step - loss: 126.0352 - reconstruction_loss: 115.2694 - kl_loss: 10.2912\n",
      "Epoch 39/40\n",
      "118/118 [==============================] - 1s 7ms/step - loss: 125.2605 - reconstruction_loss: 114.6490 - kl_loss: 10.5069\n",
      "Epoch 40/40\n",
      "118/118 [==============================] - 1s 7ms/step - loss: 124.9027 - reconstruction_loss: 114.6508 - kl_loss: 10.3367\n"
     ]
    },
    {
     "data": {
      "text/plain": [
       "<keras.callbacks.History at 0x12cfac5e388>"
      ]
     },
     "execution_count": 64,
     "metadata": {},
     "output_type": "execute_result"
    }
   ],
   "source": [
    "vae = VAE()\n",
    "vae.compile(optimizer='adam')\n",
    "vae.fit(x_train, epochs=40, batch_size = 512)"
   ]
  },
  {
   "cell_type": "code",
   "execution_count": 9,
   "id": "e35f0f24",
   "metadata": {},
   "outputs": [
    {
     "data": {
      "text/plain": [
       "TensorShape([59904, 4, 4, 1])"
      ]
     },
     "execution_count": 9,
     "metadata": {},
     "output_type": "execute_result"
    }
   ],
   "source": [
    "batch_size = 512\n",
    "encoded_images = vae.encode(x_train[0 : batch_size])\n",
    "\n",
    "for i in range(1, int(x_train.shape[0] / batch_size)):\n",
    "    encoded = vae.encode(x_train[i*batch_size : i * batch_size + batch_size])\n",
    "    encoded_images = tf.concat([encoded_images, encoded], axis=0)\n",
    "\n",
    "encoded_images.shape"
   ]
  },
  {
   "cell_type": "code",
   "execution_count": 11,
   "id": "12c0f829",
   "metadata": {},
   "outputs": [
    {
     "data": {
      "text/plain": [
       "<matplotlib.image.AxesImage at 0x12b3f00a588>"
      ]
     },
     "execution_count": 11,
     "metadata": {},
     "output_type": "execute_result"
    },
    {
     "data": {
      "image/png": "[encoded data removed]",
      "text/plain": [
       "<Figure size 432x288 with 1 Axes>"
      ]
     },
     "metadata": {
      "needs_background": "light"
     },
     "output_type": "display_data"
    }
   ],
   "source": [
    "plt.imshow(encoded_images[0].numpy().reshape(4, 4), cmap='gray')"
   ]
  },
  {
   "cell_type": "code",
   "execution_count": 12,
   "id": "371f4b9b",
   "metadata": {},
   "outputs": [
    {
     "data": {
      "text/plain": [
       "TensorShape([59904, 28, 28, 1])"
      ]
     },
     "execution_count": 12,
     "metadata": {},
     "output_type": "execute_result"
    }
   ],
   "source": [
    "decoded_images = vae.decode(encoded_images[0 : batch_size])\n",
    "batch_size = 512\n",
    "\n",
    "for i in range(1, int(x_train.shape[0] / batch_size)):\n",
    "    decoded = vae.decode(encoded_images[i*batch_size : i * batch_size + batch_size])\n",
    "    decoded_images = tf.concat([decoded_images, decoded], axis=0)\n",
    "\n",
    "decoded_images.shape"
   ]
  },
  {
   "cell_type": "code",
   "execution_count": 13,
   "id": "a5959432",
   "metadata": {},
   "outputs": [
    {
     "data": {
      "text/plain": [
       "<matplotlib.image.AxesImage at 0x12b851c05c8>"
      ]
     },
     "execution_count": 13,
     "metadata": {},
     "output_type": "execute_result"
    },
    {
     "data": {
      "image/png": "[encoded data removed]",
      "text/plain": [
       "<Figure size 432x288 with 1 Axes>"
      ]
     },
     "metadata": {
      "needs_background": "light"
     },
     "output_type": "display_data"
    }
   ],
   "source": [
    "plt.imshow(decoded_images[1].numpy().reshape(28, 28), cmap='gray')"
   ]
  },
  {
   "cell_type": "markdown",
   "id": "f83990d5",
   "metadata": {},
   "source": [
    "## Denoising U-Net"
   ]
  },
  {
   "cell_type": "code",
   "execution_count": 14,
   "id": "256b8578",
   "metadata": {},
   "outputs": [],
   "source": [
    "# Sampling.\n",
    "min_signal_rate = 0.02\n",
    "max_signal_rate = 0.95\n",
    "\n",
    "# Architecture.\n",
    "embedding_dims = 32\n",
    "embedding_max_frequency = 1000.0\n",
    "widths = [32, 64, 96, 128]\n",
    "block_depth = 2"
   ]
  },
  {
   "cell_type": "code",
   "execution_count": 15,
   "id": "d1adee5a",
   "metadata": {},
   "outputs": [],
   "source": [
    "def diffusion_schedule(diffusion_times):\n",
    "    start_angle = tf.acos(max_signal_rate)\n",
    "    end_angle = tf.acos(min_signal_rate)\n",
    "\n",
    "    diffusion_angles = start_angle + diffusion_times * (end_angle - start_angle)\n",
    "\n",
    "    signal_rates = tf.cos(diffusion_angles)\n",
    "    noise_rates = tf.sin(diffusion_angles)\n",
    "\n",
    "    return noise_rates, signal_rates"
   ]
  },
  {
   "cell_type": "code",
   "execution_count": 16,
   "id": "10013591",
   "metadata": {},
   "outputs": [],
   "source": [
    "def sinusoidal_embedding(x):\n",
    "    embedding_min_frequency = 1.0\n",
    "    frequencies = tf.exp(tf.linspace(tf.math.log(embedding_min_frequency),\n",
    "                         tf.math.log(embedding_max_frequency),\n",
    "                         embedding_dims // 2))\n",
    "    angular_speeds = 2.0 * math.pi * frequencies\n",
    "    embeddings = tf.concat([tf.sin(angular_speeds * x), tf.cos(angular_speeds * x)], axis=3)\n",
    "    return embeddings"
   ]
  },
  {
   "cell_type": "code",
   "execution_count": 17,
   "id": "2b720f5a",
   "metadata": {},
   "outputs": [],
   "source": [
    "def ResidualBlock(width):\n",
    "    def apply(x):\n",
    "        input_width = x.shape[3]\n",
    "        if input_width == width:\n",
    "            residual = x\n",
    "        else:\n",
    "            residual = layers.Conv2D(width, (1, 1))(x)\n",
    "            \n",
    "        x = layers.Conv2D(width, (3, 3), padding='same', activation=keras.activations.swish)(x)\n",
    "        x = layers.LayerNormalization()(x + residual)\n",
    "        return x\n",
    "    \n",
    "    return apply"
   ]
  },
  {
   "cell_type": "code",
   "execution_count": 18,
   "id": "fb554cbe",
   "metadata": {},
   "outputs": [],
   "source": [
    "def DownBlock(width, block_depth):\n",
    "    def apply(x):\n",
    "        for _ in range(block_depth):\n",
    "            x = ResidualBlock(width)(x)\n",
    "        x = layers.AveragePooling2D(pool_size=2)(x)\n",
    "        return x\n",
    "        \n",
    "    return apply"
   ]
  },
  {
   "cell_type": "code",
   "execution_count": 19,
   "id": "ada302ce",
   "metadata": {},
   "outputs": [],
   "source": [
    "def UpBlock(width, block_depth):\n",
    "    def apply(x):\n",
    "        x = layers.UpSampling2D(size=2, interpolation='bilinear')(x)\n",
    "        for _ in range(block_depth):\n",
    "            x = ResidualBlock(width)(x)\n",
    "        return x\n",
    "    \n",
    "    return apply"
   ]
  },
  {
   "cell_type": "code",
   "execution_count": 42,
   "id": "3472ef2f",
   "metadata": {},
   "outputs": [],
   "source": [
    "def create_unet(widths, block_depth):\n",
    "    noisy_images = keras.Input(shape=(4, 4, 1))\n",
    "    noise_variances = keras.Input(shape=(1, 1, 1))\n",
    "\n",
    "    e = layers.Lambda(sinusoidal_embedding)(noise_variances)\n",
    "    e = layers.UpSampling2D(size=4, interpolation=\"nearest\")(e)\n",
    "\n",
    "    x = layers.Conv2D(widths[0], kernel_size=1)(noisy_images)\n",
    "    x = layers.Concatenate()([x, e])\n",
    "\n",
    "    for width in widths[:-1]:\n",
    "        x = DownBlock(width, block_depth)(x)\n",
    "\n",
    "    for _ in range(block_depth):\n",
    "        x = ResidualBlock(widths[-1])(x)\n",
    "\n",
    "    for width in reversed(widths[:-1]):\n",
    "        x = UpBlock(width, block_depth)(x)\n",
    "\n",
    "    x = layers.Conv2D(1, kernel_size=1, kernel_initializer=\"zeros\")(x)\n",
    "    \n",
    "    unet = keras.Model([noisy_images, noise_variances], x, name=\"residual_unet\")\n",
    "    unet.compile(optimizer='adam', loss='mean_absolute_error')\n",
    "    return unet"
   ]
  },
  {
   "cell_type": "code",
   "execution_count": 43,
   "id": "f28b04f0",
   "metadata": {},
   "outputs": [],
   "source": [
    "def train(train_data, model, epochs, batch_size):\n",
    "    steps_per_epoch = int(train_data.shape[0] / batch_size)\n",
    "    \n",
    "    for epoch in range(epochs):\n",
    "        for step in range(steps_per_epoch):\n",
    "            images = train_data[step * batch_size : step * batch_size + batch_size]\n",
    "            noises = tf.random.normal(shape=(batch_size, 4, 4, 1))\n",
    "            \n",
    "            diffusion_times = tf.random.uniform(shape=(batch_size, 1, 1, 1), minval=0.0, maxval=1.0)\n",
    "            noise_rates, signal_rates = diffusion_schedule(diffusion_times)\n",
    "\n",
    "            noisy_images = signal_rates * images + noise_rates * noises\n",
    "            model.train_on_batch([noisy_images, noise_rates**2], noises)\n",
    "        \n",
    "        print('Epoch ' + str(epoch) + ' completed.')"
   ]
  },
  {
   "cell_type": "code",
   "execution_count": 48,
   "id": "17defb44",
   "metadata": {},
   "outputs": [],
   "source": [
    "def reverse_diffusion(model, num_images, diffusion_steps):\n",
    "    initial_noise = tf.random.normal(shape=(num_images, 4, 4, 1))\n",
    "    step_size = 1.0 / diffusion_steps\n",
    "    \n",
    "    next_noisy_images = initial_noise\n",
    "    for step in range(diffusion_steps):\n",
    "        noisy_images = next_noisy_images\n",
    "        \n",
    "        diffusion_times = tf.ones((num_images, 1, 1, 1)) - step * step_size\n",
    "        noise_rates, signal_rates = diffusion_schedule(diffusion_times)\n",
    "        \n",
    "        pred_noises = model([noisy_images, noise_rates**2])\n",
    "        pred_images = (noisy_images - noise_rates * pred_noises) / signal_rates\n",
    "        \n",
    "        next_diffusion_times = diffusion_times - step_size\n",
    "        next_noise_rates, next_signal_rates = diffusion_schedule(next_diffusion_times)\n",
    "        next_noisy_images = (next_signal_rates * pred_images + next_noise_rates * pred_noises)\n",
    "        \n",
    "    return pred_images"
   ]
  },
  {
   "cell_type": "code",
   "execution_count": 45,
   "id": "c6231f01",
   "metadata": {},
   "outputs": [],
   "source": [
    "#unet = keras.models.load_model('../latent_diffusion_unet')\n",
    "unet = create_unet([32, 64, 32], 4)"
   ]
  },
  {
   "cell_type": "code",
   "execution_count": 59,
   "id": "61d7a5cc",
   "metadata": {
    "scrolled": false
   },
   "outputs": [
    {
     "name": "stdout",
     "output_type": "stream",
     "text": [
      "Epoch 0 completed.\n",
      "Epoch 1 completed.\n",
      "Epoch 2 completed.\n",
      "Epoch 3 completed.\n",
      "Epoch 4 completed.\n",
      "Epoch 5 completed.\n",
      "Epoch 6 completed.\n",
      "Epoch 7 completed.\n",
      "Epoch 8 completed.\n",
      "Epoch 9 completed.\n",
      "Epoch 10 completed.\n",
      "Epoch 11 completed.\n",
      "Epoch 12 completed.\n",
      "Epoch 13 completed.\n",
      "Epoch 14 completed.\n",
      "Epoch 15 completed.\n",
      "Epoch 16 completed.\n",
      "Epoch 17 completed.\n",
      "Epoch 18 completed.\n",
      "Epoch 19 completed.\n",
      "Epoch 20 completed.\n",
      "Epoch 21 completed.\n",
      "Epoch 22 completed.\n",
      "Epoch 23 completed.\n",
      "Epoch 24 completed.\n",
      "Epoch 25 completed.\n",
      "Epoch 26 completed.\n",
      "Epoch 27 completed.\n",
      "Epoch 28 completed.\n",
      "Epoch 29 completed.\n",
      "Epoch 30 completed.\n",
      "Epoch 31 completed.\n",
      "Epoch 32 completed.\n",
      "Epoch 33 completed.\n",
      "Epoch 34 completed.\n",
      "Epoch 35 completed.\n",
      "Epoch 36 completed.\n",
      "Epoch 37 completed.\n",
      "Epoch 38 completed.\n",
      "Epoch 39 completed.\n",
      "Epoch 40 completed.\n",
      "Epoch 41 completed.\n",
      "Epoch 42 completed.\n",
      "Epoch 43 completed.\n",
      "Epoch 44 completed.\n",
      "Epoch 45 completed.\n",
      "Epoch 46 completed.\n",
      "Epoch 47 completed.\n",
      "Epoch 48 completed.\n",
      "Epoch 49 completed.\n",
      "Epoch 50 completed.\n",
      "Epoch 51 completed.\n",
      "Epoch 52 completed.\n",
      "Epoch 53 completed.\n",
      "Epoch 54 completed.\n",
      "Epoch 55 completed.\n",
      "Epoch 56 completed.\n",
      "Epoch 57 completed.\n",
      "Epoch 58 completed.\n",
      "Epoch 59 completed.\n",
      "Epoch 60 completed.\n",
      "Epoch 61 completed.\n",
      "Epoch 62 completed.\n",
      "Epoch 63 completed.\n",
      "Epoch 64 completed.\n",
      "Epoch 65 completed.\n",
      "Epoch 66 completed.\n",
      "Epoch 67 completed.\n",
      "Epoch 68 completed.\n",
      "Epoch 69 completed.\n",
      "Epoch 70 completed.\n",
      "Epoch 71 completed.\n",
      "Epoch 72 completed.\n",
      "Epoch 73 completed.\n",
      "Epoch 74 completed.\n",
      "Epoch 75 completed.\n",
      "Epoch 76 completed.\n",
      "Epoch 77 completed.\n",
      "Epoch 78 completed.\n",
      "Epoch 79 completed.\n",
      "Epoch 80 completed.\n",
      "Epoch 81 completed.\n",
      "Epoch 82 completed.\n",
      "Epoch 83 completed.\n",
      "Epoch 84 completed.\n",
      "Epoch 85 completed.\n",
      "Epoch 86 completed.\n",
      "Epoch 87 completed.\n",
      "Epoch 88 completed.\n",
      "Epoch 89 completed.\n",
      "Epoch 90 completed.\n",
      "Epoch 91 completed.\n",
      "Epoch 92 completed.\n",
      "Epoch 93 completed.\n",
      "Epoch 94 completed.\n",
      "Epoch 95 completed.\n",
      "Epoch 96 completed.\n",
      "Epoch 97 completed.\n",
      "Epoch 98 completed.\n",
      "Epoch 99 completed.\n"
     ]
    }
   ],
   "source": [
    "train(encoded_images, unet, 100, 2048)"
   ]
  },
  {
   "cell_type": "code",
   "execution_count": 60,
   "id": "cd166c16",
   "metadata": {},
   "outputs": [
    {
     "data": {
      "text/plain": [
       "<matplotlib.image.AxesImage at 0x12cfaa30948>"
      ]
     },
     "execution_count": 60,
     "metadata": {},
     "output_type": "execute_result"
    },
    {
     "data": {
      "image/png": "[encoded data removed]",
      "text/plain": [
       "<Figure size 432x288 with 1 Axes>"
      ]
     },
     "metadata": {
      "needs_background": "light"
     },
     "output_type": "display_data"
    }
   ],
   "source": [
    "generated_latents = reverse_diffusion(unet, 8, 20)\n",
    "plt.imshow(generated_latents[2].numpy().reshape(4, 4), cmap='gray')"
   ]
  },
  {
   "cell_type": "code",
   "execution_count": 63,
   "id": "37ad05ce",
   "metadata": {},
   "outputs": [
    {
     "data": {
      "text/plain": [
       "<matplotlib.image.AxesImage at 0x12cfaba4d08>"
      ]
     },
     "execution_count": 63,
     "metadata": {},
     "output_type": "execute_result"
    },
    {
     "data": {
      "image/png": "[encoded data removed]",
      "text/plain": [
       "<Figure size 432x288 with 1 Axes>"
      ]
     },
     "metadata": {
      "needs_background": "light"
     },
     "output_type": "display_data"
    }
   ],
   "source": [
    "generated_latents = reverse_diffusion(unet, 2, 20)\n",
    "generated_images = vae.decode(generated_latents)\n",
    "plt.imshow(generated_images[0].numpy().reshape(28, 28), cmap='gray')"
   ]
  },
  {
   "cell_type": "code",
   "execution_count": 67,
   "id": "e5dfb226",
   "metadata": {},
   "outputs": [
    {
     "name": "stderr",
     "output_type": "stream",
     "text": [
      "WARNING:absl:Found untraced functions such as _jit_compiled_convolution_op, _jit_compiled_convolution_op, _jit_compiled_convolution_op, _jit_compiled_convolution_op, _jit_compiled_convolution_op while saving (showing 5 of 27). These functions will not be directly callable after loading.\n"
     ]
    },
    {
     "name": "stdout",
     "output_type": "stream",
     "text": [
      "INFO:tensorflow:Assets written to: ../latent_diffusion_unet2\\assets\n"
     ]
    },
    {
     "name": "stderr",
     "output_type": "stream",
     "text": [
      "INFO:tensorflow:Assets written to: ../latent_diffusion_unet2\\assets\n"
     ]
    }
   ],
   "source": [
    "unet.save('../latent_diffusion_unet2')"
   ]
  },
  {
   "cell_type": "code",
   "execution_count": null,
   "id": "c4f06630",
   "metadata": {},
   "outputs": [],
   "source": []
  }
 ],
 "metadata": {
  "kernelspec": {
   "display_name": "Python 3 (ipykernel)",
   "language": "python",
   "name": "python3"
  },
  "language_info": {
   "codemirror_mode": {
    "name": "ipython",
    "version": 3
   },
   "file_extension": ".py",
   "mimetype": "text/x-python",
   "name": "python",
   "nbconvert_exporter": "python",
   "pygments_lexer": "ipython3",
   "version": "3.7.4"
  }
 },
 "nbformat": 4,
 "nbformat_minor": 5
}
