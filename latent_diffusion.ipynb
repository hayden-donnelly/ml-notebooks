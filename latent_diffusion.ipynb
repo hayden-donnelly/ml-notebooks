{
 "cells": [
  {
   "cell_type": "markdown",
   "id": "b43bda59",
   "metadata": {},
   "source": [
    "# Latent Diffusion\n",
    "\n",
    "WIP implementation of latent diffusion from the paper [High-Resolution Image Synthesis with Latent Diffusion Models](https://arxiv.org/abs/2112.10752). Right now the autoencoder architecture is copy/pasted from [this](https://blog.keras.io/building-autoencoders-in-keras.html) Keras tutorial.\n",
    "\n",
    "ToDo:\n",
    "- Implement U-Net\n",
    "- Find colored dataset to train on"
   ]
  },
  {
   "cell_type": "code",
   "execution_count": 32,
   "id": "d92118ec",
   "metadata": {},
   "outputs": [],
   "source": [
    "import tensorflow as tf\n",
    "from keras import layers\n",
    "import keras\n",
    "import matplotlib.pyplot as plt\n",
    "import numpy as np"
   ]
  },
  {
   "cell_type": "code",
   "execution_count": 33,
   "id": "1d599f2e",
   "metadata": {},
   "outputs": [],
   "source": [
    "image_size  = 28\n",
    "autoencoder_depth = 10\n",
    "dropout = 0.1\n",
    "channels = 1"
   ]
  },
  {
   "cell_type": "code",
   "execution_count": 34,
   "id": "409e1de1",
   "metadata": {},
   "outputs": [
    {
     "data": {
      "text/plain": [
       "(60000, 28, 28, 1)"
      ]
     },
     "execution_count": 34,
     "metadata": {},
     "output_type": "execute_result"
    }
   ],
   "source": [
    "(x_train, y_train), (x_test, y_test) = keras.datasets.mnist.load_data()\n",
    "x_train = x_train.astype('float32') / 255.\n",
    "x_test = x_test.astype('float32') / 255.\n",
    "x_train = np.reshape(x_train, (x_train.shape[0], image_size, image_size, channels))\n",
    "x_test = np.reshape(x_test, (x_test.shape[0], image_size, image_size, channels))\n",
    "x_train.shape"
   ]
  },
  {
   "cell_type": "markdown",
   "id": "09499baf",
   "metadata": {},
   "source": [
    "## Autoencoder"
   ]
  },
  {
   "cell_type": "code",
   "execution_count": 44,
   "id": "570121f0",
   "metadata": {},
   "outputs": [],
   "source": [
    "def EncoderBlock():\n",
    "    def apply(x):\n",
    "        x = layers.Conv2D(16, (3, 3), activation='relu', padding='same')(x)\n",
    "        x = layers.MaxPooling2D((2, 2), padding='same')(x)\n",
    "        x = layers.Conv2D(8, (3, 3), activation='relu', padding='same')(x)\n",
    "        x = layers.MaxPooling2D((2, 2), padding='same')(x)\n",
    "        x = layers.Conv2D(8, (3, 3), activation='relu', padding='same')(x)\n",
    "        encoded = layers.MaxPooling2D((2, 2), padding='same')(x)\n",
    "        return encoded\n",
    "        \n",
    "    return apply\n",
    "\n",
    "def DecoderBlock():\n",
    "    def apply(x):\n",
    "        x = layers.Conv2D(8, (3, 3), activation='relu', padding='same')(x)\n",
    "        x = layers.UpSampling2D((2, 2))(x)\n",
    "        x = layers.Conv2D(8, (3, 3), activation='relu', padding='same')(x)\n",
    "        x = layers.UpSampling2D((2, 2))(x)\n",
    "        x = layers.Conv2D(16, (3, 3), activation='relu')(x)\n",
    "        x = layers.UpSampling2D((2, 2))(x)\n",
    "        decoded = layers.Conv2D(1, (3, 3), activation='sigmoid', padding='same')(x)\n",
    "        return decoded\n",
    "    \n",
    "    return apply\n",
    "    \n",
    "def create_autoencoder():\n",
    "    input_image = layers.Input(shape=(image_size, image_size, channels))\n",
    "    encoded = EncoderBlock()(input_image)\n",
    "    # At this point the representation is (4, 4, 8) i.e. 128-dimensional.\n",
    "    decoded = DecoderBlock()(encoded)\n",
    "    \n",
    "    autoencoder = keras.Model(input_image, decoded)\n",
    "    autoencoder.compile(optimizer='adam', loss='binary_crossentropy')\n",
    "    encoder = keras.Model(input_image, encoded)\n",
    "    \n",
    "    return autoencoder, encoder\n",
    "\n",
    "# Decoder should only be created after autoencoder has been trained.\n",
    "def create_decoder(base_model):\n",
    "    latent_input = layers.Input(shape=(4, 4, 8))\n",
    "    decoded = DecoderBlock()(latent_input)\n",
    "    decoder = keras.Model(latent_input, decoded)\n",
    "    \n",
    "    for i in range(7):\n",
    "        decoder.layers[i+1].set_weights(base_model.layers[i+7].get_weights())\n",
    "        \n",
    "    return decoder"
   ]
  },
  {
   "cell_type": "code",
   "execution_count": 47,
   "id": "a7207246",
   "metadata": {
    "scrolled": false
   },
   "outputs": [
    {
     "name": "stdout",
     "output_type": "stream",
     "text": [
      "Epoch 1/10\n",
      "469/469 [==============================] - 3s 5ms/step - loss: 0.2227 - val_loss: 0.1487\n",
      "Epoch 2/10\n",
      "469/469 [==============================] - 3s 5ms/step - loss: 0.1397 - val_loss: 0.1319\n",
      "Epoch 3/10\n",
      "469/469 [==============================] - 3s 6ms/step - loss: 0.1270 - val_loss: 0.1210\n",
      "Epoch 4/10\n",
      "469/469 [==============================] - 3s 6ms/step - loss: 0.1193 - val_loss: 0.1152\n",
      "Epoch 5/10\n",
      "469/469 [==============================] - 3s 6ms/step - loss: 0.1144 - val_loss: 0.1114\n",
      "Epoch 6/10\n",
      "469/469 [==============================] - 3s 5ms/step - loss: 0.1112 - val_loss: 0.1091\n",
      "Epoch 7/10\n",
      "469/469 [==============================] - 3s 6ms/step - loss: 0.1087 - val_loss: 0.1067\n",
      "Epoch 8/10\n",
      "469/469 [==============================] - 3s 6ms/step - loss: 0.1068 - val_loss: 0.1051\n",
      "Epoch 9/10\n",
      "469/469 [==============================] - 3s 7ms/step - loss: 0.1052 - val_loss: 0.1033\n",
      "Epoch 10/10\n",
      "469/469 [==============================] - 3s 6ms/step - loss: 0.1038 - val_loss: 0.1023\n"
     ]
    }
   ],
   "source": [
    "autoencoder, encoder = create_autoencoder()\n",
    "autoencoder.fit(x_train, x_train, epochs=10, batch_size=128, shuffle=True, validation_data=(x_test, x_test))\n",
    "decoder = create_decoder(autoencoder)"
   ]
  },
  {
   "cell_type": "code",
   "execution_count": 56,
   "id": "06b4a425",
   "metadata": {},
   "outputs": [
    {
     "data": {
      "text/plain": [
       "<matplotlib.image.AxesImage at 0x2052aa7bc08>"
      ]
     },
     "execution_count": 56,
     "metadata": {},
     "output_type": "execute_result"
    },
    {
     "data": {
      "image/png": "[encoded data removed]",
      "text/plain": [
       "<Figure size 432x288 with 1 Axes>"
      ]
     },
     "metadata": {
      "needs_background": "light"
     },
     "output_type": "display_data"
    }
   ],
   "source": [
    "plt.imshow(x_test[1].reshape(28, 28), cmap='gray')"
   ]
  },
  {
   "cell_type": "code",
   "execution_count": 54,
   "id": "f6ee5b3b",
   "metadata": {},
   "outputs": [
    {
     "name": "stdout",
     "output_type": "stream",
     "text": [
      "313/313 [==============================] - 0s 1ms/step\n"
     ]
    },
    {
     "data": {
      "text/plain": [
       "<matplotlib.image.AxesImage at 0x2052a9a0948>"
      ]
     },
     "execution_count": 54,
     "metadata": {},
     "output_type": "execute_result"
    },
    {
     "data": {
      "image/png": "[encoded data removed]",
      "text/plain": [
       "<Figure size 432x288 with 1 Axes>"
      ]
     },
     "metadata": {
      "needs_background": "light"
     },
     "output_type": "display_data"
    }
   ],
   "source": [
    "encoded_images = encoder.predict(x_test)\n",
    "plt.imshow(encoded_images[0].reshape((4, 4 * 8)), cmap='gray')"
   ]
  },
  {
   "cell_type": "code",
   "execution_count": 53,
   "id": "a04e0efe",
   "metadata": {},
   "outputs": [
    {
     "name": "stdout",
     "output_type": "stream",
     "text": [
      "313/313 [==============================] - 0s 814us/step\n"
     ]
    },
    {
     "data": {
      "text/plain": [
       "<matplotlib.image.AxesImage at 0x2052a926788>"
      ]
     },
     "execution_count": 53,
     "metadata": {},
     "output_type": "execute_result"
    },
    {
     "data": {
      "image/png": "[encoded data removed]",
      "text/plain": [
       "<Figure size 432x288 with 1 Axes>"
      ]
     },
     "metadata": {
      "needs_background": "light"
     },
     "output_type": "display_data"
    }
   ],
   "source": [
    "decoded_images2 = decoder.predict(encoded_images)\n",
    "plt.imshow(decoded_images2[1].reshape(28, 28), cmap='gray')"
   ]
  },
  {
   "cell_type": "markdown",
   "id": "e62ea232",
   "metadata": {},
   "source": [
    "## Denoising U-Net"
   ]
  },
  {
   "cell_type": "code",
   "execution_count": null,
   "id": "061aa089",
   "metadata": {},
   "outputs": [],
   "source": []
  }
 ],
 "metadata": {
  "kernelspec": {
   "display_name": "Python 3 (ipykernel)",
   "language": "python",
   "name": "python3"
  },
  "language_info": {
   "codemirror_mode": {
    "name": "ipython",
    "version": 3
   },
   "file_extension": ".py",
   "mimetype": "text/x-python",
   "name": "python",
   "nbconvert_exporter": "python",
   "pygments_lexer": "ipython3",
   "version": "3.7.4"
  }
 },
 "nbformat": 4,
 "nbformat_minor": 5
}
