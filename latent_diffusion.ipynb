{
 "cells": [
  {
   "cell_type": "markdown",
   "id": "83fa1c9b",
   "metadata": {},
   "source": [
    "# Latent Diffusion\n",
    "\n",
    "WIP implementation of latent diffusion from the paper [High-Resolution Image Synthesis with Latent Diffusion Models](https://arxiv.org/abs/2112.10752).\n",
    "\n",
    "Resources Used:\n",
    "- [Building Autoencoders in Keras](https://blog.keras.io/building-autoencoders-in-keras.html)\n",
    "- [Variational AutoEncoder](https://keras.io/examples/generative/vae/)\n",
    "- [Denoising Diffusion Implicit Models](https://keras.io/examples/generative/ddim/)"
   ]
  },
  {
   "cell_type": "code",
   "execution_count": 212,
   "id": "9252187b",
   "metadata": {},
   "outputs": [],
   "source": [
    "import tensorflow as tf\n",
    "from keras import layers\n",
    "import keras\n",
    "import matplotlib.pyplot as plt\n",
    "import numpy as np\n",
    "import math\n",
    "import tensorflow_datasets as tfds\n",
    "from keras.preprocessing.image import ImageDataGenerator"
   ]
  },
  {
   "cell_type": "code",
   "execution_count": 213,
   "id": "338ad422",
   "metadata": {},
   "outputs": [],
   "source": [
    "image_size = 128\n",
    "autoencoder_depth = 10\n",
    "dropout = 0.1\n",
    "channels = 3\n",
    "batch_size = 128\n",
    "latent_size = 8"
   ]
  },
  {
   "cell_type": "code",
   "execution_count": 214,
   "id": "7d4602e1",
   "metadata": {},
   "outputs": [
    {
     "name": "stdout",
     "output_type": "stream",
     "text": [
      "Found 20580 images belonging to 1 classes.\n"
     ]
    }
   ],
   "source": [
    "def preprocessing_function(image):\n",
    "    image = image.astype(float) / 255\n",
    "    return image\n",
    "\n",
    "idg = ImageDataGenerator(preprocessing_function = preprocessing_function)\n",
    "dogs = idg.flow_from_directory(\n",
    "    '../stanford_dogs/images/Images/', \n",
    "    target_size = (image_size, image_size), \n",
    "    batch_size = batch_size,\n",
    "    color_mode = 'rgb',\n",
    "    classes = ['']\n",
    ")"
   ]
  },
  {
   "cell_type": "markdown",
   "id": "79204bc6",
   "metadata": {},
   "source": [
    "## Variational Autoencoder"
   ]
  },
  {
   "cell_type": "code",
   "execution_count": 216,
   "id": "46257d78",
   "metadata": {},
   "outputs": [],
   "source": [
    "def EncoderBlock(widths):\n",
    "    def apply(x):\n",
    "        for i in range(len(widths)):\n",
    "            x = layers.Conv2D(widths[i], (3, 3), activation='relu', padding='same')(x)\n",
    "            x = layers.MaxPooling2D((2, 2), padding='same')(x)\n",
    "        return x\n",
    "    \n",
    "    return apply\n",
    "\n",
    "def DecoderBlock(widths):\n",
    "    def apply(x):\n",
    "        for i in range(len(widths)):\n",
    "            x = layers.Conv2D(widths[i], (3, 3), activation='relu', padding='same')(x)\n",
    "            x = layers.UpSampling2D((2, 2))(x)\n",
    "            \n",
    "        x = layers.Conv2D(channels, (3, 3), activation='sigmoid', padding='same')(x)\n",
    "        return x\n",
    "    \n",
    "    return apply\n",
    "\n",
    "class Sampling(layers.Layer):\n",
    "    def call(self, inputs):\n",
    "        z_mean, z_log_var = inputs\n",
    "        epsilon = tf.keras.backend.random_normal(shape=(z_mean.shape[1], z_mean.shape[2], channels))\n",
    "        return z_mean + tf.exp(0.5 * z_log_var) * epsilon"
   ]
  },
  {
   "cell_type": "code",
   "execution_count": 217,
   "id": "b05041b1",
   "metadata": {},
   "outputs": [],
   "source": [
    "class VAE(keras.Model):\n",
    "    def __init__(self, widths, encoder=None, decoder=None):\n",
    "        super().__init__()\n",
    "        self.encoder_widths = widths\n",
    "        self.decoder_widths = list(reversed(widths))\n",
    "        \n",
    "        if encoder != None:\n",
    "            self.encoder = encoder\n",
    "        else:\n",
    "            self.encoder = self.create_encoder()\n",
    "            \n",
    "        if decoder != None:\n",
    "            self.decoder = decoder\n",
    "        else:\n",
    "            self.decoder = self.create_decoder()\n",
    "        \n",
    "        self.total_loss_tracker = keras.metrics.Mean(name=\"total_loss\")\n",
    "        self.reconstruction_loss_tracker = keras.metrics.Mean(\n",
    "            name=\"reconstruction_loss\"\n",
    "        )\n",
    "        self.kl_loss_tracker = keras.metrics.Mean(name=\"kl_loss\")\n",
    "    \n",
    "    @property\n",
    "    def metrics(self):\n",
    "        return [\n",
    "            self.total_loss_tracker,\n",
    "            self.reconstruction_loss_tracker,\n",
    "            self.kl_loss_tracker,\n",
    "        ]\n",
    "    \n",
    "    def create_encoder(self):\n",
    "        input_image = layers.Input(shape=(image_size, image_size, channels))\n",
    "        x = EncoderBlock(self.encoder_widths)(input_image)\n",
    "        z_mean = layers.Conv2D(channels, (2, 2), padding='same')(x)\n",
    "        z_log_var = layers.Conv2D(channels, (2, 2), padding='same')(x)\n",
    "        z = Sampling()([z_mean, z_log_var])\n",
    "        return keras.Model(input_image, [z_mean, z_log_var, z])\n",
    "    \n",
    "    def create_decoder(self):\n",
    "        input_latent = layers.Input(shape=(latent_size, latent_size, channels))\n",
    "        decoded = DecoderBlock(self.decoder_widths)(input_latent)\n",
    "        return keras.Model(input_latent, decoded)\n",
    "    \n",
    "    def train_step(self, data):\n",
    "        data = data[0]\n",
    "        with tf.GradientTape() as tape:\n",
    "            z_mean, z_log_var, z = self.encoder(data)\n",
    "            reconstruction = self.decoder(z)\n",
    "            reconstruction_loss = tf.reduce_mean(\n",
    "                tf.reduce_sum(\n",
    "                    keras.losses.binary_crossentropy(data, reconstruction), axis=(1, 2)\n",
    "                )\n",
    "            )\n",
    "            kl_loss = -0.5 * (1 + z_log_var - tf.square(z_mean) - tf.exp(z_log_var))\n",
    "            kl_loss = tf.reduce_mean(tf.reduce_sum(kl_loss, axis=1))\n",
    "            total_loss = reconstruction_loss + kl_loss\n",
    "        grads = tape.gradient(total_loss, self.trainable_weights)\n",
    "        self.optimizer.apply_gradients(zip(grads, self.trainable_weights))\n",
    "\n",
    "        self.total_loss_tracker.update_state(total_loss)\n",
    "        self.reconstruction_loss_tracker.update_state(reconstruction_loss)\n",
    "        self.kl_loss_tracker.update_state(kl_loss)\n",
    "        return {\n",
    "            \"loss\": self.total_loss_tracker.result(),\n",
    "            \"reconstruction_loss\": self.reconstruction_loss_tracker.result(),\n",
    "            \"kl_loss\": self.kl_loss_tracker.result(),\n",
    "        }\n",
    "    \n",
    "    def encode(self, data):\n",
    "        _, _, z = self.encoder(data)\n",
    "        return z\n",
    "    \n",
    "    def decode(self, data):\n",
    "        x = self.decoder(data)\n",
    "        return x"
   ]
  },
  {
   "cell_type": "code",
   "execution_count": 219,
   "id": "027ea75e",
   "metadata": {
    "scrolled": true
   },
   "outputs": [
    {
     "name": "stdout",
     "output_type": "stream",
     "text": [
      "Encoder output shape: (None, 8, 8, 8)\n",
      "Decoder output shape: (None, 128, 128, 3)\n",
      "Epoch 1/100\n",
      "161/161 [==============================] - 72s 441ms/step - loss: 10899.5150 - reconstruction_loss: 10539.0840 - kl_loss: 8.7914\n",
      "Epoch 2/100\n",
      "161/161 [==============================] - 19s 115ms/step - loss: 9857.0528 - reconstruction_loss: 9759.5850 - kl_loss: 18.2597\n",
      "Epoch 3/100\n",
      "161/161 [==============================] - 18s 114ms/step - loss: 9648.5596 - reconstruction_loss: 9606.0576 - kl_loss: 24.1800\n",
      "Epoch 4/100\n",
      "161/161 [==============================] - 19s 115ms/step - loss: 9582.7378 - reconstruction_loss: 9549.5898 - kl_loss: 24.8247\n",
      "Epoch 5/100\n",
      "161/161 [==============================] - 19s 115ms/step - loss: 9534.8454 - reconstruction_loss: 9511.1631 - kl_loss: 25.1864\n",
      "Epoch 6/100\n",
      "161/161 [==============================] - 19s 116ms/step - loss: 9513.7404 - reconstruction_loss: 9488.8027 - kl_loss: 25.2422\n",
      "Epoch 7/100\n",
      "161/161 [==============================] - 19s 118ms/step - loss: 9508.0189 - reconstruction_loss: 9470.0518 - kl_loss: 25.3433\n",
      "Epoch 8/100\n",
      "161/161 [==============================] - 19s 118ms/step - loss: 9490.7435 - reconstruction_loss: 9459.5049 - kl_loss: 25.3769\n",
      "Epoch 9/100\n",
      "161/161 [==============================] - 19s 117ms/step - loss: 9471.7898 - reconstruction_loss: 9447.7666 - kl_loss: 25.2834\n",
      "Epoch 10/100\n",
      "161/161 [==============================] - 19s 116ms/step - loss: 9468.0234 - reconstruction_loss: 9438.2461 - kl_loss: 25.2995\n",
      "Epoch 11/100\n",
      "161/161 [==============================] - 19s 117ms/step - loss: 9464.3232 - reconstruction_loss: 9430.6758 - kl_loss: 25.2486\n",
      "Epoch 12/100\n",
      "161/161 [==============================] - 19s 115ms/step - loss: 9445.5642 - reconstruction_loss: 9424.2627 - kl_loss: 25.2121\n",
      "Epoch 13/100\n",
      "161/161 [==============================] - 19s 115ms/step - loss: 9448.7094 - reconstruction_loss: 9417.9668 - kl_loss: 25.0299\n",
      "Epoch 14/100\n",
      "161/161 [==============================] - 19s 116ms/step - loss: 9437.0197 - reconstruction_loss: 9408.0703 - kl_loss: 24.9517\n",
      "Epoch 15/100\n",
      "161/161 [==============================] - 19s 117ms/step - loss: 9401.8443 - reconstruction_loss: 9368.6025 - kl_loss: 25.1249\n",
      "Epoch 16/100\n",
      "161/161 [==============================] - 19s 115ms/step - loss: 9369.1231 - reconstruction_loss: 9349.8232 - kl_loss: 25.3081\n",
      "Epoch 17/100\n",
      "161/161 [==============================] - 19s 117ms/step - loss: 9357.5840 - reconstruction_loss: 9341.9297 - kl_loss: 25.3400\n",
      "Epoch 18/100\n",
      "161/161 [==============================] - 18s 115ms/step - loss: 9364.5386 - reconstruction_loss: 9336.3447 - kl_loss: 25.3285\n",
      "Epoch 19/100\n",
      "161/161 [==============================] - 18s 113ms/step - loss: 9354.3444 - reconstruction_loss: 9332.4834 - kl_loss: 25.2818\n",
      "Epoch 20/100\n",
      "161/161 [==============================] - 19s 117ms/step - loss: 9356.4267 - reconstruction_loss: 9329.9180 - kl_loss: 25.3389\n",
      "Epoch 21/100\n",
      "161/161 [==============================] - 18s 113ms/step - loss: 9360.8754 - reconstruction_loss: 9324.5879 - kl_loss: 25.2421\n",
      "Epoch 22/100\n",
      "161/161 [==============================] - 19s 115ms/step - loss: 9359.1720 - reconstruction_loss: 9324.2363 - kl_loss: 25.2482\n",
      "Epoch 23/100\n",
      "161/161 [==============================] - 19s 117ms/step - loss: 9345.4877 - reconstruction_loss: 9322.4189 - kl_loss: 25.3891\n",
      "Epoch 24/100\n",
      "161/161 [==============================] - 18s 114ms/step - loss: 9341.6345 - reconstruction_loss: 9318.8633 - kl_loss: 25.2403\n",
      "Epoch 25/100\n",
      "161/161 [==============================] - 19s 116ms/step - loss: 9327.8681 - reconstruction_loss: 9315.8389 - kl_loss: 25.3568\n",
      "Epoch 26/100\n",
      "161/161 [==============================] - 19s 116ms/step - loss: 9331.0784 - reconstruction_loss: 9313.9814 - kl_loss: 25.3325\n",
      "Epoch 27/100\n",
      "161/161 [==============================] - 18s 115ms/step - loss: 9337.4515 - reconstruction_loss: 9314.2402 - kl_loss: 25.3773\n",
      "Epoch 28/100\n",
      "161/161 [==============================] - 19s 115ms/step - loss: 9328.7380 - reconstruction_loss: 9308.8779 - kl_loss: 25.5192\n",
      "Epoch 29/100\n",
      "161/161 [==============================] - 18s 114ms/step - loss: 9339.3604 - reconstruction_loss: 9309.3281 - kl_loss: 25.3848\n",
      "Epoch 30/100\n",
      "161/161 [==============================] - 19s 116ms/step - loss: 9323.0280 - reconstruction_loss: 9306.7900 - kl_loss: 25.4352\n",
      "Epoch 31/100\n",
      "161/161 [==============================] - 19s 116ms/step - loss: 9326.7613 - reconstruction_loss: 9304.6611 - kl_loss: 25.5680\n",
      "Epoch 32/100\n",
      "161/161 [==============================] - 19s 115ms/step - loss: 9323.7112 - reconstruction_loss: 9302.9150 - kl_loss: 25.5464\n",
      "Epoch 33/100\n",
      "161/161 [==============================] - 18s 113ms/step - loss: 9342.0602 - reconstruction_loss: 9300.8369 - kl_loss: 25.6037\n",
      "Epoch 34/100\n",
      "161/161 [==============================] - 19s 115ms/step - loss: 9326.0181 - reconstruction_loss: 9299.3867 - kl_loss: 25.6294\n",
      "Epoch 35/100\n",
      "161/161 [==============================] - 18s 112ms/step - loss: 9321.8139 - reconstruction_loss: 9298.2441 - kl_loss: 25.5821\n",
      "Epoch 36/100\n",
      "161/161 [==============================] - 18s 114ms/step - loss: 9322.0513 - reconstruction_loss: 9296.4219 - kl_loss: 25.7311\n",
      "Epoch 37/100\n",
      "161/161 [==============================] - 18s 113ms/step - loss: 9323.4265 - reconstruction_loss: 9295.2559 - kl_loss: 25.6161\n",
      "Epoch 38/100\n",
      "161/161 [==============================] - 18s 113ms/step - loss: 9318.7977 - reconstruction_loss: 9291.2246 - kl_loss: 25.7673\n",
      "Epoch 39/100\n",
      "161/161 [==============================] - 18s 113ms/step - loss: 9315.9681 - reconstruction_loss: 9291.1875 - kl_loss: 25.7732\n",
      "Epoch 40/100\n",
      "161/161 [==============================] - 18s 113ms/step - loss: 9314.6660 - reconstruction_loss: 9289.0010 - kl_loss: 25.7858\n",
      "Epoch 41/100\n",
      "161/161 [==============================] - 18s 113ms/step - loss: 9313.7399 - reconstruction_loss: 9289.5449 - kl_loss: 25.7296\n",
      "Epoch 42/100\n",
      "161/161 [==============================] - 18s 113ms/step - loss: 9323.1657 - reconstruction_loss: 9285.1201 - kl_loss: 25.7750\n",
      "Epoch 43/100\n",
      "161/161 [==============================] - 18s 112ms/step - loss: 9321.9520 - reconstruction_loss: 9283.1230 - kl_loss: 25.9271\n",
      "Epoch 44/100\n",
      "161/161 [==============================] - 18s 113ms/step - loss: 9318.6444 - reconstruction_loss: 9283.7822 - kl_loss: 25.8625\n",
      "Epoch 45/100\n",
      "161/161 [==============================] - 18s 114ms/step - loss: 9291.4919 - reconstruction_loss: 9282.1299 - kl_loss: 25.8005\n",
      "Epoch 46/100\n",
      "161/161 [==============================] - 18s 114ms/step - loss: 9304.2967 - reconstruction_loss: 9280.9180 - kl_loss: 25.7512\n",
      "Epoch 47/100\n",
      "161/161 [==============================] - 18s 112ms/step - loss: 9308.1191 - reconstruction_loss: 9282.9453 - kl_loss: 25.7474\n",
      "Epoch 48/100\n",
      "161/161 [==============================] - 18s 113ms/step - loss: 9306.0582 - reconstruction_loss: 9278.8760 - kl_loss: 25.7902\n",
      "Epoch 49/100\n",
      "161/161 [==============================] - 18s 113ms/step - loss: 9308.8447 - reconstruction_loss: 9279.2383 - kl_loss: 25.7303\n",
      "Epoch 50/100\n",
      "161/161 [==============================] - 18s 113ms/step - loss: 9299.4373 - reconstruction_loss: 9276.4512 - kl_loss: 25.7403\n",
      "Epoch 51/100\n",
      "161/161 [==============================] - 18s 113ms/step - loss: 9305.0525 - reconstruction_loss: 9276.4883 - kl_loss: 25.7885\n",
      "Epoch 52/100\n",
      "161/161 [==============================] - 18s 113ms/step - loss: 9302.2282 - reconstruction_loss: 9276.6260 - kl_loss: 25.7421\n",
      "Epoch 53/100\n",
      "161/161 [==============================] - 18s 114ms/step - loss: 9311.8087 - reconstruction_loss: 9273.9971 - kl_loss: 25.7326\n",
      "Epoch 54/100\n",
      "161/161 [==============================] - 18s 113ms/step - loss: 9303.4383 - reconstruction_loss: 9274.1309 - kl_loss: 25.7791\n",
      "Epoch 55/100\n",
      "161/161 [==============================] - 18s 113ms/step - loss: 9298.7706 - reconstruction_loss: 9273.7393 - kl_loss: 25.6922\n",
      "Epoch 56/100\n",
      "161/161 [==============================] - 18s 113ms/step - loss: 9299.4642 - reconstruction_loss: 9272.3096 - kl_loss: 25.6434\n",
      "Epoch 57/100\n",
      "161/161 [==============================] - 18s 114ms/step - loss: 9289.2061 - reconstruction_loss: 9272.7012 - kl_loss: 25.6185\n",
      "Epoch 58/100\n"
     ]
    },
    {
     "name": "stdout",
     "output_type": "stream",
     "text": [
      "161/161 [==============================] - 18s 113ms/step - loss: 9303.4826 - reconstruction_loss: 9271.5137 - kl_loss: 25.5356\n",
      "Epoch 59/100\n",
      "161/161 [==============================] - 18s 114ms/step - loss: 9300.5433 - reconstruction_loss: 9271.2559 - kl_loss: 25.6334\n",
      "Epoch 60/100\n",
      "161/161 [==============================] - 18s 114ms/step - loss: 9294.2442 - reconstruction_loss: 9269.6543 - kl_loss: 25.5462\n",
      "Epoch 61/100\n",
      "161/161 [==============================] - 19s 115ms/step - loss: 9298.5813 - reconstruction_loss: 9270.5615 - kl_loss: 25.5376\n",
      "Epoch 62/100\n",
      "161/161 [==============================] - 18s 114ms/step - loss: 9306.1582 - reconstruction_loss: 9269.8066 - kl_loss: 25.5024\n",
      "Epoch 63/100\n",
      "161/161 [==============================] - 18s 113ms/step - loss: 9298.7324 - reconstruction_loss: 9267.9814 - kl_loss: 25.5256\n",
      "Epoch 64/100\n",
      "161/161 [==============================] - 18s 115ms/step - loss: 9308.5293 - reconstruction_loss: 9267.9756 - kl_loss: 25.5640\n",
      "Epoch 65/100\n",
      "161/161 [==============================] - 18s 114ms/step - loss: 9298.1611 - reconstruction_loss: 9267.2061 - kl_loss: 25.5468\n",
      "Epoch 66/100\n",
      "161/161 [==============================] - 18s 112ms/step - loss: 9300.3699 - reconstruction_loss: 9267.2012 - kl_loss: 25.5472\n",
      "Epoch 67/100\n",
      "161/161 [==============================] - 18s 112ms/step - loss: 9299.6388 - reconstruction_loss: 9267.3184 - kl_loss: 25.5642\n",
      "Epoch 68/100\n",
      "161/161 [==============================] - 18s 113ms/step - loss: 9298.1179 - reconstruction_loss: 9266.5430 - kl_loss: 25.4646\n",
      "Epoch 69/100\n",
      "161/161 [==============================] - 18s 114ms/step - loss: 9295.5869 - reconstruction_loss: 9266.0625 - kl_loss: 25.4448\n",
      "Epoch 70/100\n",
      "161/161 [==============================] - 18s 114ms/step - loss: 9281.1384 - reconstruction_loss: 9264.6836 - kl_loss: 25.4798\n",
      "Epoch 71/100\n",
      "161/161 [==============================] - 18s 114ms/step - loss: 9297.5077 - reconstruction_loss: 9265.6836 - kl_loss: 25.4781\n",
      "Epoch 72/100\n",
      "161/161 [==============================] - 18s 113ms/step - loss: 9299.1281 - reconstruction_loss: 9264.3096 - kl_loss: 25.4429\n",
      "Epoch 73/100\n",
      "161/161 [==============================] - 18s 113ms/step - loss: 9286.0148 - reconstruction_loss: 9263.6289 - kl_loss: 25.4514\n",
      "Epoch 74/100\n",
      "161/161 [==============================] - 18s 112ms/step - loss: 9294.9071 - reconstruction_loss: 9265.0020 - kl_loss: 25.3399\n",
      "Epoch 75/100\n",
      "161/161 [==============================] - 18s 113ms/step - loss: 9277.2190 - reconstruction_loss: 9261.8271 - kl_loss: 25.3045\n",
      "Epoch 76/100\n",
      "161/161 [==============================] - 18s 114ms/step - loss: 9271.1160 - reconstruction_loss: 9263.2686 - kl_loss: 25.3798\n",
      "Epoch 77/100\n",
      "161/161 [==============================] - 18s 114ms/step - loss: 9274.9003 - reconstruction_loss: 9260.7979 - kl_loss: 25.4640\n",
      "Epoch 78/100\n",
      "161/161 [==============================] - 18s 114ms/step - loss: 9276.0551 - reconstruction_loss: 9261.9492 - kl_loss: 25.3233\n",
      "Epoch 79/100\n",
      "161/161 [==============================] - 18s 113ms/step - loss: 9287.9784 - reconstruction_loss: 9261.7900 - kl_loss: 25.3169\n",
      "Epoch 80/100\n",
      "161/161 [==============================] - 18s 113ms/step - loss: 9288.9781 - reconstruction_loss: 9259.7139 - kl_loss: 25.3667\n",
      "Epoch 81/100\n",
      "161/161 [==============================] - 18s 113ms/step - loss: 9282.8020 - reconstruction_loss: 9260.5664 - kl_loss: 25.3176\n",
      "Epoch 82/100\n",
      "161/161 [==============================] - 18s 114ms/step - loss: 9297.6161 - reconstruction_loss: 9259.7441 - kl_loss: 25.2627\n",
      "Epoch 83/100\n",
      "161/161 [==============================] - 18s 114ms/step - loss: 9280.8946 - reconstruction_loss: 9258.0859 - kl_loss: 25.3395\n",
      "Epoch 84/100\n",
      "161/161 [==============================] - 19s 117ms/step - loss: 9285.1439 - reconstruction_loss: 9258.9355 - kl_loss: 25.3251\n",
      "Epoch 85/100\n",
      "161/161 [==============================] - 18s 114ms/step - loss: 9280.7849 - reconstruction_loss: 9258.8662 - kl_loss: 25.3190\n",
      "Epoch 86/100\n",
      "161/161 [==============================] - 19s 115ms/step - loss: 9286.4310 - reconstruction_loss: 9258.1807 - kl_loss: 25.2898\n",
      "Epoch 87/100\n",
      "161/161 [==============================] - 18s 114ms/step - loss: 9277.9484 - reconstruction_loss: 9259.0938 - kl_loss: 25.2685\n",
      "Epoch 88/100\n",
      "161/161 [==============================] - 18s 114ms/step - loss: 9268.6503 - reconstruction_loss: 9255.8975 - kl_loss: 25.2039\n",
      "Epoch 89/100\n",
      "161/161 [==============================] - 18s 113ms/step - loss: 9301.2880 - reconstruction_loss: 9257.4346 - kl_loss: 25.2808\n",
      "Epoch 90/100\n",
      "161/161 [==============================] - 18s 113ms/step - loss: 9276.9180 - reconstruction_loss: 9257.5469 - kl_loss: 25.2345\n",
      "Epoch 91/100\n",
      "161/161 [==============================] - 18s 112ms/step - loss: 9274.8471 - reconstruction_loss: 9256.4365 - kl_loss: 25.2188\n",
      "Epoch 92/100\n",
      "161/161 [==============================] - 18s 113ms/step - loss: 9274.3159 - reconstruction_loss: 9255.3428 - kl_loss: 25.2051\n",
      "Epoch 93/100\n",
      "161/161 [==============================] - 18s 114ms/step - loss: 9281.5102 - reconstruction_loss: 9257.1113 - kl_loss: 25.1726\n",
      "Epoch 94/100\n",
      "161/161 [==============================] - 18s 113ms/step - loss: 9282.9920 - reconstruction_loss: 9255.7539 - kl_loss: 25.1646\n",
      "Epoch 95/100\n",
      "161/161 [==============================] - 19s 115ms/step - loss: 9262.5771 - reconstruction_loss: 9253.6807 - kl_loss: 25.1964\n",
      "Epoch 96/100\n",
      "161/161 [==============================] - 18s 114ms/step - loss: 9277.8521 - reconstruction_loss: 9254.6670 - kl_loss: 25.1898\n",
      "Epoch 97/100\n",
      "161/161 [==============================] - 18s 113ms/step - loss: 9272.2317 - reconstruction_loss: 9253.7334 - kl_loss: 25.1513\n",
      "Epoch 98/100\n",
      "161/161 [==============================] - 18s 113ms/step - loss: 9275.8414 - reconstruction_loss: 9252.7578 - kl_loss: 25.1847\n",
      "Epoch 99/100\n",
      "161/161 [==============================] - 18s 113ms/step - loss: 9277.0035 - reconstruction_loss: 9252.7744 - kl_loss: 25.2232\n",
      "Epoch 100/100\n",
      "161/161 [==============================] - 18s 114ms/step - loss: 9293.1215 - reconstruction_loss: 9252.0928 - kl_loss: 25.2149\n"
     ]
    },
    {
     "data": {
      "text/plain": [
       "<keras.callbacks.History at 0x1fc311bdbc8>"
      ]
     },
     "execution_count": 219,
     "metadata": {},
     "output_type": "execute_result"
    }
   ],
   "source": [
    "vae = VAE([16, 8, 8, 8])\n",
    "vae.compile(optimizer='adam')\n",
    "vae.fit(dogs, epochs=100)"
   ]
  },
  {
   "cell_type": "code",
   "execution_count": 220,
   "id": "33360fca",
   "metadata": {},
   "outputs": [
    {
     "name": "stdout",
     "output_type": "stream",
     "text": [
      "WARNING:tensorflow:Compiled the loaded model, but the compiled metrics have yet to be built. `model.compile_metrics` will be empty until you train or evaluate the model.\n"
     ]
    },
    {
     "name": "stderr",
     "output_type": "stream",
     "text": [
      "WARNING:tensorflow:Compiled the loaded model, but the compiled metrics have yet to be built. `model.compile_metrics` will be empty until you train or evaluate the model.\n",
      "WARNING:absl:Found untraced functions such as _jit_compiled_convolution_op, _jit_compiled_convolution_op, _jit_compiled_convolution_op, _jit_compiled_convolution_op, _jit_compiled_convolution_op while saving (showing 5 of 6). These functions will not be directly callable after loading.\n"
     ]
    },
    {
     "name": "stdout",
     "output_type": "stream",
     "text": [
      "INFO:tensorflow:Assets written to: data/encoder2\\assets\n"
     ]
    },
    {
     "name": "stderr",
     "output_type": "stream",
     "text": [
      "INFO:tensorflow:Assets written to: data/encoder2\\assets\n"
     ]
    },
    {
     "name": "stdout",
     "output_type": "stream",
     "text": [
      "WARNING:tensorflow:Compiled the loaded model, but the compiled metrics have yet to be built. `model.compile_metrics` will be empty until you train or evaluate the model.\n"
     ]
    },
    {
     "name": "stderr",
     "output_type": "stream",
     "text": [
      "WARNING:tensorflow:Compiled the loaded model, but the compiled metrics have yet to be built. `model.compile_metrics` will be empty until you train or evaluate the model.\n",
      "WARNING:absl:Found untraced functions such as _jit_compiled_convolution_op, _jit_compiled_convolution_op, _jit_compiled_convolution_op, _jit_compiled_convolution_op, _jit_compiled_convolution_op while saving (showing 5 of 5). These functions will not be directly callable after loading.\n"
     ]
    },
    {
     "name": "stdout",
     "output_type": "stream",
     "text": [
      "INFO:tensorflow:Assets written to: data/decoder2\\assets\n"
     ]
    },
    {
     "name": "stderr",
     "output_type": "stream",
     "text": [
      "INFO:tensorflow:Assets written to: data/decoder2\\assets\n"
     ]
    }
   ],
   "source": [
    "vae.encoder.save('data/encoder2')\n",
    "vae.decoder.save('data/decoder2')"
   ]
  },
  {
   "cell_type": "code",
   "execution_count": 221,
   "id": "e35f0f24",
   "metadata": {},
   "outputs": [
    {
     "data": {
      "text/plain": [
       "TensorShape([20708, 8, 8, 3])"
      ]
     },
     "execution_count": 221,
     "metadata": {},
     "output_type": "execute_result"
    }
   ],
   "source": [
    "dogs.reset()\n",
    "encoded_images = vae.encode(dogs.next()[0])\n",
    "\n",
    "for i in range(dogs.__len__()):\n",
    "    next_encoded = vae.encode(dogs.next()[0])\n",
    "    encoded_images = tf.concat([encoded_images, next_encoded], axis=0)\n",
    "\n",
    "encoded_images.shape"
   ]
  },
  {
   "cell_type": "code",
   "execution_count": 222,
   "id": "12c0f829",
   "metadata": {},
   "outputs": [
    {
     "name": "stderr",
     "output_type": "stream",
     "text": [
      "WARNING:matplotlib.image:Clipping input data to the valid range for imshow with RGB data ([0..1] for floats or [0..255] for integers).\n"
     ]
    },
    {
     "data": {
      "text/plain": [
       "<matplotlib.image.AxesImage at 0x1fc913abd88>"
      ]
     },
     "execution_count": 222,
     "metadata": {},
     "output_type": "execute_result"
    },
    {
     "data": {
      "image/png": "[encoded data removed]",
      "text/plain": [
       "<Figure size 432x288 with 1 Axes>"
      ]
     },
     "metadata": {
      "needs_background": "light"
     },
     "output_type": "display_data"
    }
   ],
   "source": [
    "plt.imshow(encoded_images[0].numpy().reshape(latent_size, latent_size, channels))"
   ]
  },
  {
   "cell_type": "code",
   "execution_count": 226,
   "id": "a5959432",
   "metadata": {},
   "outputs": [
    {
     "data": {
      "text/plain": [
       "<matplotlib.image.AxesImage at 0x1fc9159b888>"
      ]
     },
     "execution_count": 226,
     "metadata": {},
     "output_type": "execute_result"
    },
    {
     "data": {
      "image/png": "[encoded data removed]",
      "text/plain": [
       "<Figure size 432x288 with 1 Axes>"
      ]
     },
     "metadata": {
      "needs_background": "light"
     },
     "output_type": "display_data"
    }
   ],
   "source": [
    "decoded_images = vae.decode(encoded_images[0 : 2])\n",
    "plt.imshow(decoded_images[0].numpy().reshape(image_size, image_size, channels))"
   ]
  },
  {
   "cell_type": "markdown",
   "id": "f83990d5",
   "metadata": {},
   "source": [
    "## Denoising U-Net"
   ]
  },
  {
   "cell_type": "code",
   "execution_count": 227,
   "id": "256b8578",
   "metadata": {},
   "outputs": [],
   "source": [
    "# Sampling.\n",
    "min_signal_rate = 0.02\n",
    "max_signal_rate = 0.95\n",
    "\n",
    "# Architecture.\n",
    "embedding_dims = 32\n",
    "embedding_max_frequency = 1000.0\n",
    "widths = [32, 64, 96, 128]\n",
    "block_depth = 2"
   ]
  },
  {
   "cell_type": "code",
   "execution_count": 228,
   "id": "d1adee5a",
   "metadata": {},
   "outputs": [],
   "source": [
    "def diffusion_schedule(diffusion_times):\n",
    "    start_angle = tf.acos(max_signal_rate)\n",
    "    end_angle = tf.acos(min_signal_rate)\n",
    "\n",
    "    diffusion_angles = start_angle + diffusion_times * (end_angle - start_angle)\n",
    "\n",
    "    signal_rates = tf.cos(diffusion_angles)\n",
    "    noise_rates = tf.sin(diffusion_angles)\n",
    "\n",
    "    return noise_rates, signal_rates"
   ]
  },
  {
   "cell_type": "code",
   "execution_count": 229,
   "id": "10013591",
   "metadata": {},
   "outputs": [],
   "source": [
    "def sinusoidal_embedding(x):\n",
    "    embedding_min_frequency = 1.0\n",
    "    frequencies = tf.exp(tf.linspace(tf.math.log(embedding_min_frequency),\n",
    "                         tf.math.log(embedding_max_frequency),\n",
    "                         embedding_dims // 2))\n",
    "    angular_speeds = 2.0 * math.pi * frequencies\n",
    "    embeddings = tf.concat([tf.sin(angular_speeds * x), tf.cos(angular_speeds * x)], axis=3)\n",
    "    return embeddings"
   ]
  },
  {
   "cell_type": "code",
   "execution_count": 230,
   "id": "2b720f5a",
   "metadata": {},
   "outputs": [],
   "source": [
    "def ResidualBlock(width):\n",
    "    def apply(x):\n",
    "        input_width = x.shape[3]\n",
    "        if input_width == width:\n",
    "            residual = x\n",
    "        else:\n",
    "            residual = layers.Conv2D(width, (1, 1))(x)\n",
    "            \n",
    "        x = layers.Conv2D(width, (3, 3), padding='same', activation=keras.activations.swish)(x)\n",
    "        x = layers.LayerNormalization()(x + residual)\n",
    "        return x\n",
    "    \n",
    "    return apply"
   ]
  },
  {
   "cell_type": "code",
   "execution_count": 231,
   "id": "fb554cbe",
   "metadata": {},
   "outputs": [],
   "source": [
    "def DownBlock(width, block_depth):\n",
    "    def apply(x):\n",
    "        for _ in range(block_depth):\n",
    "            x = ResidualBlock(width)(x)\n",
    "        x = layers.AveragePooling2D(pool_size=2)(x)\n",
    "        return x\n",
    "        \n",
    "    return apply"
   ]
  },
  {
   "cell_type": "code",
   "execution_count": 232,
   "id": "ada302ce",
   "metadata": {},
   "outputs": [],
   "source": [
    "def UpBlock(width, block_depth):\n",
    "    def apply(x):\n",
    "        x = layers.UpSampling2D(size=2, interpolation='bilinear')(x)\n",
    "        for _ in range(block_depth):\n",
    "            x = ResidualBlock(width)(x)\n",
    "        return x\n",
    "    \n",
    "    return apply"
   ]
  },
  {
   "cell_type": "code",
   "execution_count": 233,
   "id": "3472ef2f",
   "metadata": {},
   "outputs": [],
   "source": [
    "def create_unet(widths, block_depth):\n",
    "    noisy_images = keras.Input(shape=(latent_size, latent_size, channels))\n",
    "    noise_variances = keras.Input(shape=(1, 1, 1))\n",
    "\n",
    "    e = layers.Lambda(sinusoidal_embedding)(noise_variances)\n",
    "    e = layers.UpSampling2D(size=latent_size, interpolation=\"nearest\")(e)\n",
    "\n",
    "    x = layers.Conv2D(widths[0], kernel_size=1)(noisy_images)\n",
    "    x = layers.Concatenate()([x, e])\n",
    "\n",
    "    for width in widths[:-1]:\n",
    "        x = DownBlock(width, block_depth)(x)\n",
    "\n",
    "    for _ in range(block_depth):\n",
    "        x = ResidualBlock(widths[-1])(x)\n",
    "\n",
    "    for width in reversed(widths[:-1]):\n",
    "        x = UpBlock(width, block_depth)(x)\n",
    "\n",
    "    x = layers.Conv2D(channels, kernel_size=1, kernel_initializer=\"zeros\")(x)\n",
    "    \n",
    "    unet = keras.Model([noisy_images, noise_variances], x, name=\"residual_unet\")\n",
    "    unet.compile(optimizer='adam', loss='mean_absolute_error')\n",
    "    return unet"
   ]
  },
  {
   "cell_type": "code",
   "execution_count": 234,
   "id": "f28b04f0",
   "metadata": {},
   "outputs": [],
   "source": [
    "def train(train_data, model, epochs, batch_size):\n",
    "    steps_per_epoch = int(train_data.shape[0] / batch_size)\n",
    "    \n",
    "    for epoch in range(epochs):\n",
    "        for step in range(steps_per_epoch):\n",
    "            images = train_data[step * batch_size : step * batch_size + batch_size]\n",
    "            noises = tf.random.normal(shape=(batch_size, latent_size, latent_size, channels))\n",
    "            \n",
    "            diffusion_times = tf.random.uniform(shape=(batch_size, 1, 1, 1), minval=0.0, maxval=1.0)\n",
    "            noise_rates, signal_rates = diffusion_schedule(diffusion_times)\n",
    "            \n",
    "            noisy_images = signal_rates * images + noise_rates * noises\n",
    "            model.train_on_batch([noisy_images, noise_rates**2], noises)\n",
    "        \n",
    "        print('Epoch ' + str(epoch) + ' completed.')"
   ]
  },
  {
   "cell_type": "code",
   "execution_count": 235,
   "id": "17defb44",
   "metadata": {},
   "outputs": [],
   "source": [
    "def reverse_diffusion(model, num_images, diffusion_steps):\n",
    "    initial_noise = tf.random.normal(shape=(num_images, latent_size, latent_size, channels))\n",
    "    step_size = 1.0 / diffusion_steps\n",
    "    \n",
    "    next_noisy_images = initial_noise\n",
    "    for step in range(diffusion_steps):\n",
    "        noisy_images = next_noisy_images\n",
    "        \n",
    "        diffusion_times = tf.ones((num_images, 1, 1, 1)) - step * step_size\n",
    "        noise_rates, signal_rates = diffusion_schedule(diffusion_times)\n",
    "        \n",
    "        pred_noises = model([noisy_images, noise_rates**2])\n",
    "        pred_images = (noisy_images - noise_rates * pred_noises) / signal_rates\n",
    "        \n",
    "        next_diffusion_times = diffusion_times - step_size\n",
    "        next_noise_rates, next_signal_rates = diffusion_schedule(next_diffusion_times)\n",
    "        next_noisy_images = (next_signal_rates * pred_images + next_noise_rates * pred_noises)\n",
    "        \n",
    "    return pred_images"
   ]
  },
  {
   "cell_type": "code",
   "execution_count": 236,
   "id": "c6231f01",
   "metadata": {},
   "outputs": [],
   "source": [
    "#unet = keras.models.load_model('../latent_diffusion_unet')\n",
    "unet = create_unet([32, 64, 32], 4)"
   ]
  },
  {
   "cell_type": "code",
   "execution_count": 237,
   "id": "61d7a5cc",
   "metadata": {
    "scrolled": true
   },
   "outputs": [
    {
     "name": "stdout",
     "output_type": "stream",
     "text": [
      "Epoch 0 completed.\n",
      "Epoch 1 completed.\n",
      "Epoch 2 completed.\n",
      "Epoch 3 completed.\n",
      "Epoch 4 completed.\n",
      "Epoch 5 completed.\n",
      "Epoch 6 completed.\n",
      "Epoch 7 completed.\n",
      "Epoch 8 completed.\n",
      "Epoch 9 completed.\n",
      "Epoch 10 completed.\n",
      "Epoch 11 completed.\n",
      "Epoch 12 completed.\n",
      "Epoch 13 completed.\n",
      "Epoch 14 completed.\n",
      "Epoch 15 completed.\n",
      "Epoch 16 completed.\n",
      "Epoch 17 completed.\n",
      "Epoch 18 completed.\n",
      "Epoch 19 completed.\n",
      "Epoch 20 completed.\n",
      "Epoch 21 completed.\n",
      "Epoch 22 completed.\n",
      "Epoch 23 completed.\n",
      "Epoch 24 completed.\n",
      "Epoch 25 completed.\n",
      "Epoch 26 completed.\n",
      "Epoch 27 completed.\n",
      "Epoch 28 completed.\n",
      "Epoch 29 completed.\n",
      "Epoch 30 completed.\n",
      "Epoch 31 completed.\n",
      "Epoch 32 completed.\n",
      "Epoch 33 completed.\n",
      "Epoch 34 completed.\n",
      "Epoch 35 completed.\n",
      "Epoch 36 completed.\n",
      "Epoch 37 completed.\n",
      "Epoch 38 completed.\n",
      "Epoch 39 completed.\n",
      "Epoch 40 completed.\n",
      "Epoch 41 completed.\n",
      "Epoch 42 completed.\n",
      "Epoch 43 completed.\n",
      "Epoch 44 completed.\n",
      "Epoch 45 completed.\n",
      "Epoch 46 completed.\n",
      "Epoch 47 completed.\n",
      "Epoch 48 completed.\n",
      "Epoch 49 completed.\n",
      "Epoch 50 completed.\n",
      "Epoch 51 completed.\n",
      "Epoch 52 completed.\n",
      "Epoch 53 completed.\n",
      "Epoch 54 completed.\n",
      "Epoch 55 completed.\n",
      "Epoch 56 completed.\n",
      "Epoch 57 completed.\n",
      "Epoch 58 completed.\n",
      "Epoch 59 completed.\n",
      "Epoch 60 completed.\n",
      "Epoch 61 completed.\n",
      "Epoch 62 completed.\n",
      "Epoch 63 completed.\n",
      "Epoch 64 completed.\n",
      "Epoch 65 completed.\n",
      "Epoch 66 completed.\n",
      "Epoch 67 completed.\n",
      "Epoch 68 completed.\n",
      "Epoch 69 completed.\n",
      "Epoch 70 completed.\n",
      "Epoch 71 completed.\n",
      "Epoch 72 completed.\n",
      "Epoch 73 completed.\n",
      "Epoch 74 completed.\n",
      "Epoch 75 completed.\n",
      "Epoch 76 completed.\n",
      "Epoch 77 completed.\n",
      "Epoch 78 completed.\n",
      "Epoch 79 completed.\n",
      "Epoch 80 completed.\n",
      "Epoch 81 completed.\n",
      "Epoch 82 completed.\n",
      "Epoch 83 completed.\n",
      "Epoch 84 completed.\n",
      "Epoch 85 completed.\n",
      "Epoch 86 completed.\n",
      "Epoch 87 completed.\n",
      "Epoch 88 completed.\n",
      "Epoch 89 completed.\n",
      "Epoch 90 completed.\n",
      "Epoch 91 completed.\n",
      "Epoch 92 completed.\n",
      "Epoch 93 completed.\n",
      "Epoch 94 completed.\n",
      "Epoch 95 completed.\n",
      "Epoch 96 completed.\n",
      "Epoch 97 completed.\n",
      "Epoch 98 completed.\n",
      "Epoch 99 completed.\n"
     ]
    }
   ],
   "source": [
    "train(encoded_images, unet, 100, 2048)"
   ]
  },
  {
   "cell_type": "code",
   "execution_count": 238,
   "id": "cd166c16",
   "metadata": {},
   "outputs": [
    {
     "name": "stderr",
     "output_type": "stream",
     "text": [
      "WARNING:matplotlib.image:Clipping input data to the valid range for imshow with RGB data ([0..1] for floats or [0..255] for integers).\n"
     ]
    },
    {
     "data": {
      "text/plain": [
       "<matplotlib.image.AxesImage at 0x1fc4b059b08>"
      ]
     },
     "execution_count": 238,
     "metadata": {},
     "output_type": "execute_result"
    },
    {
     "data": {
      "image/png": "[encoded data removed]",
      "text/plain": [
       "<Figure size 432x288 with 1 Axes>"
      ]
     },
     "metadata": {
      "needs_background": "light"
     },
     "output_type": "display_data"
    }
   ],
   "source": [
    "generated_latents = reverse_diffusion(unet, 8, 20)\n",
    "plt.imshow(generated_latents[2].numpy().reshape(latent_size, latent_size, channels))"
   ]
  },
  {
   "cell_type": "code",
   "execution_count": 244,
   "id": "37ad05ce",
   "metadata": {},
   "outputs": [
    {
     "data": {
      "text/plain": [
       "<matplotlib.image.AxesImage at 0x1fc92bb7d88>"
      ]
     },
     "execution_count": 244,
     "metadata": {},
     "output_type": "execute_result"
    },
    {
     "data": {
      "image/png": "[encoded data removed]",
      "text/plain": [
       "<Figure size 432x288 with 1 Axes>"
      ]
     },
     "metadata": {
      "needs_background": "light"
     },
     "output_type": "display_data"
    }
   ],
   "source": [
    "generated_latents = reverse_diffusion(unet, 2, 20)\n",
    "generated_images = vae.decode(generated_latents)\n",
    "plt.imshow(generated_images[0].numpy().reshape(image_size, image_size, channels), cmap='gray')"
   ]
  },
  {
   "cell_type": "code",
   "execution_count": 67,
   "id": "e5dfb226",
   "metadata": {},
   "outputs": [
    {
     "name": "stderr",
     "output_type": "stream",
     "text": [
      "WARNING:absl:Found untraced functions such as _jit_compiled_convolution_op, _jit_compiled_convolution_op, _jit_compiled_convolution_op, _jit_compiled_convolution_op, _jit_compiled_convolution_op while saving (showing 5 of 27). These functions will not be directly callable after loading.\n"
     ]
    },
    {
     "name": "stdout",
     "output_type": "stream",
     "text": [
      "INFO:tensorflow:Assets written to: ../latent_diffusion_unet2\\assets\n"
     ]
    },
    {
     "name": "stderr",
     "output_type": "stream",
     "text": [
      "INFO:tensorflow:Assets written to: ../latent_diffusion_unet2\\assets\n"
     ]
    }
   ],
   "source": [
    "unet.save('../latent_diffusion_unet2')"
   ]
  },
  {
   "cell_type": "code",
   "execution_count": null,
   "id": "c4f06630",
   "metadata": {},
   "outputs": [],
   "source": []
  }
 ],
 "metadata": {
  "kernelspec": {
   "display_name": "Python 3 (ipykernel)",
   "language": "python",
   "name": "python3"
  },
  "language_info": {
   "codemirror_mode": {
    "name": "ipython",
    "version": 3
   },
   "file_extension": ".py",
   "mimetype": "text/x-python",
   "name": "python",
   "nbconvert_exporter": "python",
   "pygments_lexer": "ipython3",
   "version": "3.7.4"
  }
 },
 "nbformat": 4,
 "nbformat_minor": 5
}
