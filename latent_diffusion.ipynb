{
 "cells": [
  {
   "cell_type": "markdown",
   "id": "83fa1c9b",
   "metadata": {},
   "source": [
    "# Latent Diffusion\n",
    "\n",
    "WIP implementation of latent diffusion from the paper [High-Resolution Image Synthesis with Latent Diffusion Models](https://arxiv.org/abs/2112.10752).\n",
    "\n",
    "Resources Used:\n",
    "- [Building Autoencoders in Keras](https://blog.keras.io/building-autoencoders-in-keras.html)\n",
    "- [Variational AutoEncoder](https://keras.io/examples/generative/vae/)\n",
    "- [Denoising Diffusion Implicit Models](https://keras.io/examples/generative/ddim/)"
   ]
  },
  {
   "cell_type": "code",
   "execution_count": 1,
   "id": "9252187b",
   "metadata": {},
   "outputs": [],
   "source": [
    "import tensorflow as tf\n",
    "from keras import layers\n",
    "import keras\n",
    "import matplotlib.pyplot as plt\n",
    "import numpy as np\n",
    "import math\n",
    "import tensorflow_datasets as tfds\n",
    "from keras.preprocessing.image import ImageDataGenerator"
   ]
  },
  {
   "cell_type": "code",
   "execution_count": 34,
   "id": "338ad422",
   "metadata": {},
   "outputs": [],
   "source": [
    "image_size = 128\n",
    "channels = 3\n",
    "\n",
    "# Autoencoder.\n",
    "dropout = 0.1\n",
    "autoencoder_batch_size = 512\n",
    "diffusion_batch_size = 2048\n",
    "autoencoder_widths = [16, 8, 8, 8, 8]\n",
    "autoencoder_depth = 10\n",
    "latent_size = 4\n",
    "\n",
    "# Diffusion.\n",
    "min_signal_rate = 0.02\n",
    "max_signal_rate = 0.95\n",
    "embedding_dims = 32\n",
    "embedding_max_frequency = 1000.0\n",
    "diffusion_widths = [32, 64, 96]\n",
    "diffusion_block_depth = 2"
   ]
  },
  {
   "cell_type": "code",
   "execution_count": 8,
   "id": "52475588",
   "metadata": {},
   "outputs": [
    {
     "name": "stdout",
     "output_type": "stream",
     "text": [
      "Found 20580 images belonging to 1 classes.\n"
     ]
    }
   ],
   "source": [
    "def preprocessing_function(image):\n",
    "    image = image.astype(float) / 255\n",
    "    return image\n",
    "\n",
    "idg = ImageDataGenerator(preprocessing_function = preprocessing_function)\n",
    "dogs = idg.flow_from_directory(\n",
    "    '../stanford_dogs/images/Images/', \n",
    "    target_size = (image_size, image_size), \n",
    "    batch_size = autoencoder_batch_size,\n",
    "    color_mode = 'rgb',\n",
    "    classes = ['']\n",
    ")"
   ]
  },
  {
   "cell_type": "markdown",
   "id": "79204bc6",
   "metadata": {},
   "source": [
    "## Variational Autoencoder"
   ]
  },
  {
   "cell_type": "code",
   "execution_count": 9,
   "id": "46257d78",
   "metadata": {},
   "outputs": [],
   "source": [
    "def EncoderBlock(widths):\n",
    "    def apply(x):\n",
    "        for i in range(len(widths)):\n",
    "            x = layers.Conv2D(widths[i], (3, 3), activation='relu', padding='same')(x)\n",
    "            x = layers.MaxPooling2D((2, 2), padding='same')(x)\n",
    "        return x\n",
    "    \n",
    "    return apply\n",
    "\n",
    "def DecoderBlock(widths):\n",
    "    def apply(x):\n",
    "        for i in range(len(widths)):\n",
    "            x = layers.Conv2D(widths[i], (3, 3), activation='relu', padding='same')(x)\n",
    "            x = layers.UpSampling2D((2, 2))(x)\n",
    "            \n",
    "        x = layers.Conv2D(channels, (3, 3), activation='sigmoid', padding='same')(x)\n",
    "        return x\n",
    "    \n",
    "    return apply\n",
    "\n",
    "class Sampling(layers.Layer):\n",
    "    def call(self, inputs):\n",
    "        z_mean, z_log_var = inputs\n",
    "        epsilon = tf.keras.backend.random_normal(shape=(z_mean.shape[1], z_mean.shape[2], channels))\n",
    "        return z_mean + tf.exp(0.5 * z_log_var) * epsilon"
   ]
  },
  {
   "cell_type": "code",
   "execution_count": 10,
   "id": "b05041b1",
   "metadata": {},
   "outputs": [],
   "source": [
    "class VAE(keras.Model):\n",
    "    def __init__(self, widths, encoder=None, decoder=None):\n",
    "        super().__init__()\n",
    "        self.encoder_widths = widths\n",
    "        self.decoder_widths = list(reversed(widths))\n",
    "        \n",
    "        if encoder != None:\n",
    "            self.encoder = encoder\n",
    "        else:\n",
    "            self.encoder = self.create_encoder()\n",
    "            \n",
    "        if decoder != None:\n",
    "            self.decoder = decoder\n",
    "        else:\n",
    "            self.decoder = self.create_decoder()\n",
    "        \n",
    "        self.total_loss_tracker = keras.metrics.Mean(name=\"total_loss\")\n",
    "        self.reconstruction_loss_tracker = keras.metrics.Mean(\n",
    "            name=\"reconstruction_loss\"\n",
    "        )\n",
    "        self.kl_loss_tracker = keras.metrics.Mean(name=\"kl_loss\")\n",
    "    \n",
    "    @property\n",
    "    def metrics(self):\n",
    "        return [\n",
    "            self.total_loss_tracker,\n",
    "            self.reconstruction_loss_tracker,\n",
    "            self.kl_loss_tracker,\n",
    "        ]\n",
    "    \n",
    "    def create_encoder(self):\n",
    "        input_image = layers.Input(shape=(image_size, image_size, channels))\n",
    "        x = EncoderBlock(self.encoder_widths)(input_image)\n",
    "        z_mean = layers.Conv2D(channels, (2, 2), padding='same')(x)\n",
    "        z_log_var = layers.Conv2D(channels, (2, 2), padding='same')(x)\n",
    "        z = Sampling()([z_mean, z_log_var])\n",
    "        return keras.Model(input_image, [z_mean, z_log_var, z])\n",
    "    \n",
    "    def create_decoder(self):\n",
    "        input_latent = layers.Input(shape=(latent_size, latent_size, channels))\n",
    "        decoded = DecoderBlock(self.decoder_widths)(input_latent)\n",
    "        return keras.Model(input_latent, decoded)\n",
    "    \n",
    "    def train_step(self, data):\n",
    "        data = data[0]\n",
    "        with tf.GradientTape() as tape:\n",
    "            z_mean, z_log_var, z = self.encoder(data)\n",
    "            reconstruction = self.decoder(z)\n",
    "            reconstruction_loss = tf.reduce_mean(\n",
    "                tf.reduce_sum(\n",
    "                    keras.losses.binary_crossentropy(data, reconstruction), axis=(1, 2)\n",
    "                )\n",
    "            )\n",
    "            kl_loss = -0.5 * (1 + z_log_var - tf.square(z_mean) - tf.exp(z_log_var))\n",
    "            kl_loss = tf.reduce_mean(tf.reduce_sum(kl_loss, axis=1))\n",
    "            total_loss = reconstruction_loss + kl_loss\n",
    "        grads = tape.gradient(total_loss, self.trainable_weights)\n",
    "        self.optimizer.apply_gradients(zip(grads, self.trainable_weights))\n",
    "\n",
    "        self.total_loss_tracker.update_state(total_loss)\n",
    "        self.reconstruction_loss_tracker.update_state(reconstruction_loss)\n",
    "        self.kl_loss_tracker.update_state(kl_loss)\n",
    "        return {\n",
    "            \"loss\": self.total_loss_tracker.result(),\n",
    "            \"reconstruction_loss\": self.reconstruction_loss_tracker.result(),\n",
    "            \"kl_loss\": self.kl_loss_tracker.result(),\n",
    "        }\n",
    "    \n",
    "    def encode(self, data):\n",
    "        _, _, z = self.encoder(data)\n",
    "        return z\n",
    "    \n",
    "    def decode(self, data):\n",
    "        x = self.decoder(data)\n",
    "        return x"
   ]
  },
  {
   "cell_type": "code",
   "execution_count": null,
   "id": "027ea75e",
   "metadata": {
    "scrolled": true
   },
   "outputs": [],
   "source": [
    "vae = VAE(autoencoder_widths)\n",
    "vae.compile(optimizer='adam')\n",
    "vae.fit(dogs, epochs=1000)"
   ]
  },
  {
   "cell_type": "code",
   "execution_count": 24,
   "id": "105596ee",
   "metadata": {},
   "outputs": [
    {
     "name": "stdout",
     "output_type": "stream",
     "text": [
      "WARNING:tensorflow:Compiled the loaded model, but the compiled metrics have yet to be built. `model.compile_metrics` will be empty until you train or evaluate the model.\n"
     ]
    },
    {
     "name": "stderr",
     "output_type": "stream",
     "text": [
      "WARNING:tensorflow:Compiled the loaded model, but the compiled metrics have yet to be built. `model.compile_metrics` will be empty until you train or evaluate the model.\n",
      "WARNING:absl:Found untraced functions such as _jit_compiled_convolution_op, _jit_compiled_convolution_op, _jit_compiled_convolution_op, _jit_compiled_convolution_op, _jit_compiled_convolution_op while saving (showing 5 of 7). These functions will not be directly callable after loading.\n"
     ]
    },
    {
     "name": "stdout",
     "output_type": "stream",
     "text": [
      "INFO:tensorflow:Assets written to: data/encoder3\\assets\n"
     ]
    },
    {
     "name": "stderr",
     "output_type": "stream",
     "text": [
      "INFO:tensorflow:Assets written to: data/encoder3\\assets\n"
     ]
    },
    {
     "name": "stdout",
     "output_type": "stream",
     "text": [
      "WARNING:tensorflow:Compiled the loaded model, but the compiled metrics have yet to be built. `model.compile_metrics` will be empty until you train or evaluate the model.\n"
     ]
    },
    {
     "name": "stderr",
     "output_type": "stream",
     "text": [
      "WARNING:tensorflow:Compiled the loaded model, but the compiled metrics have yet to be built. `model.compile_metrics` will be empty until you train or evaluate the model.\n",
      "WARNING:absl:Found untraced functions such as _jit_compiled_convolution_op, _jit_compiled_convolution_op, _jit_compiled_convolution_op, _jit_compiled_convolution_op, _jit_compiled_convolution_op while saving (showing 5 of 6). These functions will not be directly callable after loading.\n"
     ]
    },
    {
     "name": "stdout",
     "output_type": "stream",
     "text": [
      "INFO:tensorflow:Assets written to: data/decoder3\\assets\n"
     ]
    },
    {
     "name": "stderr",
     "output_type": "stream",
     "text": [
      "INFO:tensorflow:Assets written to: data/decoder3\\assets\n"
     ]
    }
   ],
   "source": [
    "vae.encoder.save('data/encoder3')\n",
    "vae.decoder.save('data/decoder3')"
   ]
  },
  {
   "cell_type": "code",
   "execution_count": 25,
   "id": "e35f0f24",
   "metadata": {},
   "outputs": [
    {
     "data": {
      "text/plain": [
       "TensorShape([21092, 4, 4, 3])"
      ]
     },
     "execution_count": 25,
     "metadata": {},
     "output_type": "execute_result"
    }
   ],
   "source": [
    "dogs.reset()\n",
    "encoded_images = vae.encode(dogs.next()[0])\n",
    "\n",
    "for i in range(dogs.__len__()):\n",
    "    next_encoded = vae.encode(dogs.next()[0])\n",
    "    encoded_images = tf.concat([encoded_images, next_encoded], axis=0)\n",
    "\n",
    "encoded_images.shape"
   ]
  },
  {
   "cell_type": "code",
   "execution_count": 26,
   "id": "12c0f829",
   "metadata": {},
   "outputs": [
    {
     "name": "stderr",
     "output_type": "stream",
     "text": [
      "WARNING:matplotlib.image:Clipping input data to the valid range for imshow with RGB data ([0..1] for floats or [0..255] for integers).\n"
     ]
    },
    {
     "data": {
      "text/plain": [
       "<matplotlib.image.AxesImage at 0x1887e8f8208>"
      ]
     },
     "execution_count": 26,
     "metadata": {},
     "output_type": "execute_result"
    },
    {
     "data": {
      "image/png": "[encoded data removed]",
      "text/plain": [
       "<Figure size 432x288 with 1 Axes>"
      ]
     },
     "metadata": {
      "needs_background": "light"
     },
     "output_type": "display_data"
    }
   ],
   "source": [
    "plt.imshow(encoded_images[0].numpy().reshape(latent_size, latent_size, channels))"
   ]
  },
  {
   "cell_type": "code",
   "execution_count": 27,
   "id": "a5959432",
   "metadata": {},
   "outputs": [
    {
     "data": {
      "text/plain": [
       "<matplotlib.image.AxesImage at 0x1885806c908>"
      ]
     },
     "execution_count": 27,
     "metadata": {},
     "output_type": "execute_result"
    },
    {
     "data": {
      "image/png": "[encoded data removed]",
      "text/plain": [
       "<Figure size 432x288 with 1 Axes>"
      ]
     },
     "metadata": {
      "needs_background": "light"
     },
     "output_type": "display_data"
    }
   ],
   "source": [
    "decoded_images = vae.decode(encoded_images[0 : 2])\n",
    "plt.imshow(decoded_images[0].numpy().reshape(image_size, image_size, channels))"
   ]
  },
  {
   "cell_type": "markdown",
   "id": "f83990d5",
   "metadata": {},
   "source": [
    "## Denoising U-Net"
   ]
  },
  {
   "cell_type": "code",
   "execution_count": 28,
   "id": "2b720f5a",
   "metadata": {},
   "outputs": [],
   "source": [
    "def sinusoidal_embedding(x):\n",
    "    embedding_min_frequency = 1.0\n",
    "    frequencies = tf.exp(tf.linspace(tf.math.log(embedding_min_frequency),\n",
    "                         tf.math.log(embedding_max_frequency),\n",
    "                         embedding_dims // 2))\n",
    "    angular_speeds = 2.0 * math.pi * frequencies\n",
    "    embeddings = tf.concat([tf.sin(angular_speeds * x), tf.cos(angular_speeds * x)], axis=3)\n",
    "    return embeddings\n",
    "\n",
    "def ResidualBlock(width):\n",
    "    def apply(x):\n",
    "        input_width = x.shape[3]\n",
    "        if input_width == width:\n",
    "            residual = x\n",
    "        else:\n",
    "            residual = layers.Conv2D(width, kernel_size=1)(x)\n",
    "        x = layers.BatchNormalization(center=False, scale=False)(x)\n",
    "        x = layers.Conv2D(\n",
    "            width, kernel_size=3, padding=\"same\", activation=keras.activations.swish\n",
    "        )(x)\n",
    "        x = layers.Conv2D(width, kernel_size=3, padding=\"same\")(x)\n",
    "        x = layers.Add()([x, residual])\n",
    "        return x\n",
    "\n",
    "    return apply\n",
    "\n",
    "def DownBlock(width, block_depth):\n",
    "    def apply(x):\n",
    "        x, skips = x\n",
    "        for _ in range(block_depth):\n",
    "            x = ResidualBlock(width)(x)\n",
    "            skips.append(x)\n",
    "        x = layers.AveragePooling2D(pool_size=2)(x)\n",
    "        return x\n",
    "\n",
    "    return apply\n",
    "\n",
    "def UpBlock(width, block_depth):\n",
    "    def apply(x):\n",
    "        x, skips = x\n",
    "        x = layers.UpSampling2D(size=2, interpolation=\"bilinear\")(x)\n",
    "        for _ in range(block_depth):\n",
    "            x = layers.Concatenate()([x, skips.pop()])\n",
    "            x = ResidualBlock(width)(x)\n",
    "        return x\n",
    "\n",
    "    return apply"
   ]
  },
  {
   "cell_type": "code",
   "execution_count": 37,
   "id": "c7e1bcb3",
   "metadata": {},
   "outputs": [],
   "source": [
    "class DiffusionModel(keras.Model):\n",
    "    def __init__(self, input_size, block_depth, widths):\n",
    "        super().__init__()\n",
    "        \n",
    "        self.normalizer = layers.Normalization()\n",
    "        self.model = self.create_model(input_size, widths, block_depth)\n",
    "        self.input_size = input_size\n",
    "    \n",
    "    def create_model(self, input_size, widths, block_depth):\n",
    "        noisy_input = keras.Input(shape=(input_size, input_size, channels))\n",
    "        noise_variances = keras.Input(shape=(1, 1, 1))\n",
    "        \n",
    "        e = layers.Lambda(sinusoidal_embedding)(noise_variances)\n",
    "        e = layers.UpSampling2D(size=input_size, interpolation='nearest')(e)\n",
    "        \n",
    "        x = layers.Conv2D(widths[0], kernel_size=1)(noisy_input)\n",
    "        x = layers.Concatenate()([x, e])\n",
    "        \n",
    "        skips = []\n",
    "        for width in widths[:-1]:\n",
    "            x = DownBlock(width, block_depth)([x, skips])\n",
    "            \n",
    "        for _ in range(block_depth):\n",
    "            x = ResidualBlock(widths[-1])(x)\n",
    "        \n",
    "        for width in reversed(widths[:-1]):\n",
    "            x = UpBlock(width, block_depth)([x, skips])\n",
    "            \n",
    "        x = layers.Conv2D(channels, kernel_size=1, kernel_initializer='zeros')(x)\n",
    "        \n",
    "        return keras.Model([noisy_input, noise_variances], x)\n",
    "    \n",
    "    def compile(self, **kwargs):\n",
    "        super().compile(**kwargs)\n",
    "        \n",
    "        self.noise_loss_tracker = keras.metrics.Mean(name='n_loss')\n",
    "        self.image_loss_tracker = keras.metrics.Mean(name='i_loss')\n",
    "    \n",
    "    @property\n",
    "    def metrics(self):\n",
    "        return [self.noise_loss_tracker, self.image_loss_tracker]\n",
    "    \n",
    "    def diffusion_schedule(self, diffusion_times):\n",
    "        start_angle = tf.acos(max_signal_rate)\n",
    "        end_angle = tf.acos(min_signal_rate)\n",
    "\n",
    "        diffusion_angles = start_angle + diffusion_times * (end_angle - start_angle)\n",
    "\n",
    "        signal_rates = tf.cos(diffusion_angles)\n",
    "        noise_rates = tf.sin(diffusion_angles)\n",
    "\n",
    "        return noise_rates, signal_rates\n",
    "    \n",
    "    def denoise(self, noisy_images, noise_rates, signal_rates, training):\n",
    "        pred_noises = self.model([noisy_images, noise_rates**2], training=training)\n",
    "        pred_images = (noisy_images - noise_rates * pred_noises) / signal_rates\n",
    "        \n",
    "        return pred_noises, pred_images\n",
    "    \n",
    "    def reverse_diffusion(self, initial_noise, diffusion_steps):\n",
    "        num_images = initial_noise.shape[0]    \n",
    "        step_size = 1.0 / diffusion_steps\n",
    "        \n",
    "        next_noisy_images = initial_noise\n",
    "        for step in range(diffusion_steps):\n",
    "            noisy_images = next_noisy_images\n",
    "            \n",
    "            diffusion_times = tf.ones((num_images, 1, 1, 1)) - step * step_size\n",
    "            noise_rates, signal_rates = self.diffusion_schedule(diffusion_times)\n",
    "            pred_noises, pred_images = self.denoise(\n",
    "                noisy_images, noise_rates, signal_rates, training=False\n",
    "            )\n",
    "            \n",
    "            next_diffusion_times = diffusion_times - step_size\n",
    "            next_noise_rates, next_signal_rates = self.diffusion_schedule(\n",
    "                next_diffusion_times\n",
    "            )\n",
    "            next_noisy_images = (\n",
    "                next_signal_rates * pred_images + next_noise_rates * pred_noises\n",
    "            )\n",
    "            \n",
    "        return pred_images\n",
    "    \n",
    "    def generate(self, num_images, diffusion_steps):\n",
    "        initial_noise = tf.random.normal(shape=(num_images, self.input_size, self.input_size, channels))\n",
    "        generated_images = self.reverse_diffusion(initial_noise, diffusion_steps)\n",
    "        return generated_images\n",
    "    \n",
    "    def train_step(self, images):\n",
    "        images = self.normalizer(images, training=True)\n",
    "        noises = tf.random.normal(shape=(diffusion_batch_size, self.input_size, self.input_size, channels))\n",
    "        \n",
    "        diffusion_times = tf.random.uniform(\n",
    "            shape=(diffusion_batch_size, 1, 1, 1), minval=0.0, maxval=1.0\n",
    "        )\n",
    "        \n",
    "        noise_rates, signal_rates = self.diffusion_schedule(diffusion_times)\n",
    "        noisy_images = signal_rates * images + noise_rates * noises\n",
    "        \n",
    "        with tf.GradientTape() as tape:\n",
    "            pred_noises, pred_images = self.denoise(\n",
    "                noisy_images, noise_rates, signal_rates, training=True\n",
    "            )\n",
    "            \n",
    "            noise_loss = tf.reduce_mean(\n",
    "                tf.reduce_sum(\n",
    "                    keras.losses.mean_absolute_error(noises, pred_noises), axis=(1, 2)\n",
    "                )\n",
    "            )\n",
    "            \n",
    "            image_loss = tf.reduce_mean(\n",
    "                tf.reduce_sum(\n",
    "                    keras.losses.mean_absolute_error(images, pred_images), axis=(1, 2)\n",
    "                )\n",
    "            )\n",
    "            \n",
    "        grads = tape.gradient(noise_loss, self.model.trainable_weights)\n",
    "        self.optimizer.apply_gradients(zip(grads, self.model.trainable_weights))\n",
    "\n",
    "        self.noise_loss_tracker.update_state(noise_loss)\n",
    "        self.image_loss_tracker.update_state(image_loss)\n",
    "            \n",
    "        return {m.name: m.result() for m in self.metrics}"
   ]
  },
  {
   "cell_type": "code",
   "execution_count": 38,
   "id": "43c3f58e",
   "metadata": {},
   "outputs": [],
   "source": [
    "end_index = int(encoded_images.shape[0] / diffusion_batch_size) * diffusion_batch_size\n",
    "encoded_images = encoded_images[:end_index]"
   ]
  },
  {
   "cell_type": "code",
   "execution_count": 39,
   "id": "7beb6311",
   "metadata": {},
   "outputs": [],
   "source": [
    "model = DiffusionModel(latent_size, diffusion_block_depth, diffusion_widths)\n",
    "model.compile(optimizer='adam')"
   ]
  },
  {
   "cell_type": "code",
   "execution_count": 40,
   "id": "32ba25f2",
   "metadata": {
    "scrolled": false
   },
   "outputs": [
    {
     "name": "stdout",
     "output_type": "stream",
     "text": [
      "Epoch 1/100\n",
      "10/10 [==============================] - 2s 21ms/step - n_loss: 12.0184 - i_loss: 37.0079\n",
      "Epoch 2/100\n",
      "10/10 [==============================] - 0s 21ms/step - n_loss: 8.4764 - i_loss: 22.6453\n",
      "Epoch 3/100\n",
      "10/10 [==============================] - 0s 21ms/step - n_loss: 6.3585 - i_loss: 14.3425\n",
      "Epoch 4/100\n",
      "10/10 [==============================] - 0s 21ms/step - n_loss: 5.5830 - i_loss: 10.8227\n",
      "Epoch 5/100\n",
      "10/10 [==============================] - 0s 21ms/step - n_loss: 5.0759 - i_loss: 8.8356\n",
      "Epoch 6/100\n",
      "10/10 [==============================] - 0s 21ms/step - n_loss: 4.7866 - i_loss: 7.6912\n",
      "Epoch 7/100\n",
      "10/10 [==============================] - 0s 21ms/step - n_loss: 4.6850 - i_loss: 7.0219\n",
      "Epoch 8/100\n",
      "10/10 [==============================] - 0s 21ms/step - n_loss: 4.6040 - i_loss: 6.6972\n",
      "Epoch 9/100\n",
      "10/10 [==============================] - 0s 21ms/step - n_loss: 4.5742 - i_loss: 6.4782\n",
      "Epoch 10/100\n",
      "10/10 [==============================] - 0s 21ms/step - n_loss: 4.5371 - i_loss: 6.3783\n",
      "Epoch 11/100\n",
      "10/10 [==============================] - 0s 21ms/step - n_loss: 4.5387 - i_loss: 6.3264\n",
      "Epoch 12/100\n",
      "10/10 [==============================] - 0s 21ms/step - n_loss: 4.5276 - i_loss: 6.1973\n",
      "Epoch 13/100\n",
      "10/10 [==============================] - 0s 21ms/step - n_loss: 4.4587 - i_loss: 6.1760\n",
      "Epoch 14/100\n",
      "10/10 [==============================] - 0s 21ms/step - n_loss: 4.4573 - i_loss: 6.1495\n",
      "Epoch 15/100\n",
      "10/10 [==============================] - 0s 21ms/step - n_loss: 4.4912 - i_loss: 6.1236\n",
      "Epoch 16/100\n",
      "10/10 [==============================] - 0s 21ms/step - n_loss: 4.4892 - i_loss: 6.0503\n",
      "Epoch 17/100\n",
      "10/10 [==============================] - 0s 21ms/step - n_loss: 4.4862 - i_loss: 6.0207\n",
      "Epoch 18/100\n",
      "10/10 [==============================] - 0s 21ms/step - n_loss: 4.4525 - i_loss: 6.0218\n",
      "Epoch 19/100\n",
      "10/10 [==============================] - 0s 22ms/step - n_loss: 4.4631 - i_loss: 5.9978\n",
      "Epoch 20/100\n",
      "10/10 [==============================] - 0s 21ms/step - n_loss: 4.4450 - i_loss: 5.9790\n",
      "Epoch 21/100\n",
      "10/10 [==============================] - 0s 21ms/step - n_loss: 4.4653 - i_loss: 5.9364\n",
      "Epoch 22/100\n",
      "10/10 [==============================] - 0s 21ms/step - n_loss: 4.4460 - i_loss: 5.9555\n",
      "Epoch 23/100\n",
      "10/10 [==============================] - 0s 21ms/step - n_loss: 4.4579 - i_loss: 5.9576\n",
      "Epoch 24/100\n",
      "10/10 [==============================] - 0s 21ms/step - n_loss: 4.4145 - i_loss: 5.9576\n",
      "Epoch 25/100\n",
      "10/10 [==============================] - 0s 21ms/step - n_loss: 4.4286 - i_loss: 5.9247\n",
      "Epoch 26/100\n",
      "10/10 [==============================] - 0s 21ms/step - n_loss: 4.4492 - i_loss: 5.8918\n",
      "Epoch 27/100\n",
      "10/10 [==============================] - 0s 21ms/step - n_loss: 4.4235 - i_loss: 5.8887\n",
      "Epoch 28/100\n",
      "10/10 [==============================] - 0s 21ms/step - n_loss: 4.4339 - i_loss: 5.9061\n",
      "Epoch 29/100\n",
      "10/10 [==============================] - 0s 21ms/step - n_loss: 4.4514 - i_loss: 5.9234\n",
      "Epoch 30/100\n",
      "10/10 [==============================] - 0s 21ms/step - n_loss: 4.3935 - i_loss: 5.9307\n",
      "Epoch 31/100\n",
      "10/10 [==============================] - 0s 21ms/step - n_loss: 4.3991 - i_loss: 5.9274\n",
      "Epoch 32/100\n",
      "10/10 [==============================] - 0s 21ms/step - n_loss: 4.4337 - i_loss: 5.8463\n",
      "Epoch 33/100\n",
      "10/10 [==============================] - 0s 21ms/step - n_loss: 4.4152 - i_loss: 5.8460\n",
      "Epoch 34/100\n",
      "10/10 [==============================] - 0s 21ms/step - n_loss: 4.4119 - i_loss: 5.8498\n",
      "Epoch 35/100\n",
      "10/10 [==============================] - 0s 21ms/step - n_loss: 4.4465 - i_loss: 5.8430\n",
      "Epoch 36/100\n",
      "10/10 [==============================] - 0s 21ms/step - n_loss: 4.4144 - i_loss: 5.8770\n",
      "Epoch 37/100\n",
      "10/10 [==============================] - 0s 21ms/step - n_loss: 4.3852 - i_loss: 5.8107\n",
      "Epoch 38/100\n",
      "10/10 [==============================] - 0s 21ms/step - n_loss: 4.4111 - i_loss: 5.8267\n",
      "Epoch 39/100\n",
      "10/10 [==============================] - 0s 21ms/step - n_loss: 4.4128 - i_loss: 5.8341\n",
      "Epoch 40/100\n",
      "10/10 [==============================] - 0s 21ms/step - n_loss: 4.4281 - i_loss: 5.8215\n",
      "Epoch 41/100\n",
      "10/10 [==============================] - 0s 21ms/step - n_loss: 4.3788 - i_loss: 5.8265\n",
      "Epoch 42/100\n",
      "10/10 [==============================] - 0s 21ms/step - n_loss: 4.4318 - i_loss: 5.7927\n",
      "Epoch 43/100\n",
      "10/10 [==============================] - 0s 21ms/step - n_loss: 4.4113 - i_loss: 5.8169\n",
      "Epoch 44/100\n",
      "10/10 [==============================] - 0s 21ms/step - n_loss: 4.4374 - i_loss: 5.7795\n",
      "Epoch 45/100\n",
      "10/10 [==============================] - 0s 21ms/step - n_loss: 4.4306 - i_loss: 5.8193\n",
      "Epoch 46/100\n",
      "10/10 [==============================] - 0s 21ms/step - n_loss: 4.4037 - i_loss: 5.8245\n",
      "Epoch 47/100\n",
      "10/10 [==============================] - 0s 21ms/step - n_loss: 4.3999 - i_loss: 5.8131\n",
      "Epoch 48/100\n",
      "10/10 [==============================] - 0s 21ms/step - n_loss: 4.4012 - i_loss: 5.7624\n",
      "Epoch 49/100\n",
      "10/10 [==============================] - 0s 21ms/step - n_loss: 4.3695 - i_loss: 5.8143\n",
      "Epoch 50/100\n",
      "10/10 [==============================] - 0s 21ms/step - n_loss: 4.3973 - i_loss: 5.7780\n",
      "Epoch 51/100\n",
      "10/10 [==============================] - 0s 21ms/step - n_loss: 4.4052 - i_loss: 5.7920\n",
      "Epoch 52/100\n",
      "10/10 [==============================] - 0s 21ms/step - n_loss: 4.3729 - i_loss: 5.7723\n",
      "Epoch 53/100\n",
      "10/10 [==============================] - 0s 21ms/step - n_loss: 4.3902 - i_loss: 5.8072\n",
      "Epoch 54/100\n",
      "10/10 [==============================] - 0s 22ms/step - n_loss: 4.3593 - i_loss: 5.8463\n",
      "Epoch 55/100\n",
      "10/10 [==============================] - 0s 21ms/step - n_loss: 4.4207 - i_loss: 5.7820\n",
      "Epoch 56/100\n",
      "10/10 [==============================] - 0s 21ms/step - n_loss: 4.3830 - i_loss: 5.7968\n",
      "Epoch 57/100\n",
      "10/10 [==============================] - 0s 21ms/step - n_loss: 4.4090 - i_loss: 5.7714\n",
      "Epoch 58/100\n",
      "10/10 [==============================] - 0s 21ms/step - n_loss: 4.3679 - i_loss: 5.7898\n",
      "Epoch 59/100\n",
      "10/10 [==============================] - 0s 21ms/step - n_loss: 4.3783 - i_loss: 5.7752\n",
      "Epoch 60/100\n",
      "10/10 [==============================] - 0s 21ms/step - n_loss: 4.3945 - i_loss: 5.7614\n",
      "Epoch 61/100\n",
      "10/10 [==============================] - 0s 21ms/step - n_loss: 4.3440 - i_loss: 5.8009\n",
      "Epoch 62/100\n",
      "10/10 [==============================] - 0s 21ms/step - n_loss: 4.3478 - i_loss: 5.8198\n",
      "Epoch 63/100\n",
      "10/10 [==============================] - 0s 21ms/step - n_loss: 4.3638 - i_loss: 5.8195\n",
      "Epoch 64/100\n",
      "10/10 [==============================] - 0s 21ms/step - n_loss: 4.3625 - i_loss: 5.7865\n",
      "Epoch 65/100\n",
      "10/10 [==============================] - 0s 21ms/step - n_loss: 4.3898 - i_loss: 5.7786\n",
      "Epoch 66/100\n",
      "10/10 [==============================] - 0s 21ms/step - n_loss: 4.3623 - i_loss: 5.8092\n",
      "Epoch 67/100\n",
      "10/10 [==============================] - 0s 21ms/step - n_loss: 4.3852 - i_loss: 5.7664\n",
      "Epoch 68/100\n",
      "10/10 [==============================] - 0s 21ms/step - n_loss: 4.3621 - i_loss: 5.8065\n",
      "Epoch 69/100\n",
      "10/10 [==============================] - 0s 21ms/step - n_loss: 4.3841 - i_loss: 5.7593\n",
      "Epoch 70/100\n",
      "10/10 [==============================] - 0s 21ms/step - n_loss: 4.3732 - i_loss: 5.7629\n",
      "Epoch 71/100\n",
      "10/10 [==============================] - 0s 21ms/step - n_loss: 4.3822 - i_loss: 5.7678\n",
      "Epoch 72/100\n",
      "10/10 [==============================] - 0s 21ms/step - n_loss: 4.3683 - i_loss: 5.7720\n",
      "Epoch 73/100\n",
      "10/10 [==============================] - 0s 21ms/step - n_loss: 4.3478 - i_loss: 5.7814\n",
      "Epoch 74/100\n",
      "10/10 [==============================] - 0s 21ms/step - n_loss: 4.3384 - i_loss: 5.7623\n",
      "Epoch 75/100\n",
      "10/10 [==============================] - 0s 21ms/step - n_loss: 4.3678 - i_loss: 5.7535\n",
      "Epoch 76/100\n",
      "10/10 [==============================] - 0s 21ms/step - n_loss: 4.3481 - i_loss: 5.7555\n",
      "Epoch 77/100\n",
      "10/10 [==============================] - 0s 21ms/step - n_loss: 4.3698 - i_loss: 5.7773\n",
      "Epoch 78/100\n",
      "10/10 [==============================] - 0s 21ms/step - n_loss: 4.3548 - i_loss: 5.7605\n",
      "Epoch 79/100\n",
      "10/10 [==============================] - 0s 21ms/step - n_loss: 4.3281 - i_loss: 5.7614\n",
      "Epoch 80/100\n",
      "10/10 [==============================] - 0s 21ms/step - n_loss: 4.3692 - i_loss: 5.7498\n",
      "Epoch 81/100\n",
      "10/10 [==============================] - 0s 21ms/step - n_loss: 4.3799 - i_loss: 5.7412\n",
      "Epoch 82/100\n"
     ]
    },
    {
     "name": "stdout",
     "output_type": "stream",
     "text": [
      "10/10 [==============================] - 0s 21ms/step - n_loss: 4.3612 - i_loss: 5.7478\n",
      "Epoch 83/100\n",
      "10/10 [==============================] - 0s 21ms/step - n_loss: 4.3724 - i_loss: 5.7401\n",
      "Epoch 84/100\n",
      "10/10 [==============================] - 0s 21ms/step - n_loss: 4.3408 - i_loss: 5.7431\n",
      "Epoch 85/100\n",
      "10/10 [==============================] - 0s 21ms/step - n_loss: 4.3575 - i_loss: 5.7371\n",
      "Epoch 86/100\n",
      "10/10 [==============================] - 0s 21ms/step - n_loss: 4.3881 - i_loss: 5.7387\n",
      "Epoch 87/100\n",
      "10/10 [==============================] - 0s 21ms/step - n_loss: 4.4057 - i_loss: 5.7541\n",
      "Epoch 88/100\n",
      "10/10 [==============================] - 0s 21ms/step - n_loss: 4.3548 - i_loss: 5.7538\n",
      "Epoch 89/100\n",
      "10/10 [==============================] - 0s 21ms/step - n_loss: 4.3577 - i_loss: 5.7524\n",
      "Epoch 90/100\n",
      "10/10 [==============================] - 0s 21ms/step - n_loss: 4.3575 - i_loss: 5.7625\n",
      "Epoch 91/100\n",
      "10/10 [==============================] - 0s 21ms/step - n_loss: 4.3692 - i_loss: 5.7634\n",
      "Epoch 92/100\n",
      "10/10 [==============================] - 0s 21ms/step - n_loss: 4.3619 - i_loss: 5.7568\n",
      "Epoch 93/100\n",
      "10/10 [==============================] - 0s 21ms/step - n_loss: 4.3453 - i_loss: 5.7519\n",
      "Epoch 94/100\n",
      "10/10 [==============================] - 0s 21ms/step - n_loss: 4.3165 - i_loss: 5.7406\n",
      "Epoch 95/100\n",
      "10/10 [==============================] - 0s 21ms/step - n_loss: 4.3237 - i_loss: 5.7594\n",
      "Epoch 96/100\n",
      "10/10 [==============================] - 0s 21ms/step - n_loss: 4.3494 - i_loss: 5.7248\n",
      "Epoch 97/100\n",
      "10/10 [==============================] - 0s 21ms/step - n_loss: 4.3373 - i_loss: 5.7303\n",
      "Epoch 98/100\n",
      "10/10 [==============================] - 0s 21ms/step - n_loss: 4.3436 - i_loss: 5.7324\n",
      "Epoch 99/100\n",
      "10/10 [==============================] - 0s 21ms/step - n_loss: 4.3624 - i_loss: 5.7251\n",
      "Epoch 100/100\n",
      "10/10 [==============================] - 0s 21ms/step - n_loss: 4.3577 - i_loss: 5.6931\n"
     ]
    },
    {
     "data": {
      "text/plain": [
       "<keras.callbacks.History at 0x18654040408>"
      ]
     },
     "execution_count": 40,
     "metadata": {},
     "output_type": "execute_result"
    }
   ],
   "source": [
    "model.fit(encoded_images, epochs=100, batch_size=diffusion_batch_size)"
   ]
  },
  {
   "cell_type": "code",
   "execution_count": 41,
   "id": "cd166c16",
   "metadata": {},
   "outputs": [
    {
     "name": "stderr",
     "output_type": "stream",
     "text": [
      "WARNING:matplotlib.image:Clipping input data to the valid range for imshow with RGB data ([0..1] for floats or [0..255] for integers).\n"
     ]
    },
    {
     "data": {
      "text/plain": [
       "<matplotlib.image.AxesImage at 0x187e56a4cc8>"
      ]
     },
     "execution_count": 41,
     "metadata": {},
     "output_type": "execute_result"
    },
    {
     "data": {
      "image/png": "[encoded data removed]",
      "text/plain": [
       "<Figure size 432x288 with 1 Axes>"
      ]
     },
     "metadata": {
      "needs_background": "light"
     },
     "output_type": "display_data"
    }
   ],
   "source": [
    "generated_latents = model.generate(8, 20)\n",
    "plt.imshow(generated_latents[2].numpy().reshape(latent_size, latent_size, channels))"
   ]
  },
  {
   "cell_type": "code",
   "execution_count": 48,
   "id": "37ad05ce",
   "metadata": {},
   "outputs": [
    {
     "data": {
      "text/plain": [
       "<matplotlib.image.AxesImage at 0x187e57f9688>"
      ]
     },
     "execution_count": 48,
     "metadata": {},
     "output_type": "execute_result"
    },
    {
     "data": {
      "image/png": "[encoded data removed]",
      "text/plain": [
       "<Figure size 432x288 with 1 Axes>"
      ]
     },
     "metadata": {
      "needs_background": "light"
     },
     "output_type": "display_data"
    }
   ],
   "source": [
    "generated_latents = model.generate(2, 20)\n",
    "generated_images = vae.decode(generated_latents)\n",
    "plt.imshow(generated_images[0].numpy().reshape(image_size, image_size, channels), cmap='gray')"
   ]
  },
  {
   "cell_type": "code",
   "execution_count": 310,
   "id": "e5dfb226",
   "metadata": {},
   "outputs": [
    {
     "name": "stderr",
     "output_type": "stream",
     "text": [
      "WARNING:absl:Found untraced functions such as _jit_compiled_convolution_op, _jit_compiled_convolution_op, _jit_compiled_convolution_op, _jit_compiled_convolution_op, _jit_compiled_convolution_op while saving (showing 5 of 27). These functions will not be directly callable after loading.\n"
     ]
    },
    {
     "name": "stdout",
     "output_type": "stream",
     "text": [
      "INFO:tensorflow:Assets written to: ../latent_diffusion_unet3\\assets\n"
     ]
    },
    {
     "name": "stderr",
     "output_type": "stream",
     "text": [
      "INFO:tensorflow:Assets written to: ../latent_diffusion_unet3\\assets\n"
     ]
    }
   ],
   "source": [
    "unet.save('../latent_diffusion_unet3')"
   ]
  },
  {
   "cell_type": "code",
   "execution_count": null,
   "id": "c4f06630",
   "metadata": {},
   "outputs": [],
   "source": []
  }
 ],
 "metadata": {
  "kernelspec": {
   "display_name": "Python 3 (ipykernel)",
   "language": "python",
   "name": "python3"
  },
  "language_info": {
   "codemirror_mode": {
    "name": "ipython",
    "version": 3
   },
   "file_extension": ".py",
   "mimetype": "text/x-python",
   "name": "python",
   "nbconvert_exporter": "python",
   "pygments_lexer": "ipython3",
   "version": "3.7.4"
  }
 },
 "nbformat": 4,
 "nbformat_minor": 5
}
