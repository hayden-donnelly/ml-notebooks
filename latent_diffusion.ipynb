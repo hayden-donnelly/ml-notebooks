{
 "cells": [
  {
   "cell_type": "markdown",
   "id": "83fa1c9b",
   "metadata": {},
   "source": [
    "# Latent Diffusion\n",
    "\n",
    "WIP implementation of latent diffusion from the paper [High-Resolution Image Synthesis with Latent Diffusion Models](https://arxiv.org/abs/2112.10752).\n",
    "\n",
    "Resources Used:\n",
    "- [Building Autoencoders in Keras](https://blog.keras.io/building-autoencoders-in-keras.html)\n",
    "- [Variational AutoEncoder](https://keras.io/examples/generative/vae/)\n",
    "- [Denoising Diffusion Implicit Models](https://keras.io/examples/generative/ddim/)\n",
    "\n",
    "ToDo:\n",
    "- Find colored dataset to train on"
   ]
  },
  {
   "cell_type": "code",
   "execution_count": 1,
   "id": "9252187b",
   "metadata": {},
   "outputs": [],
   "source": [
    "import tensorflow as tf\n",
    "from keras import layers\n",
    "import keras\n",
    "import matplotlib.pyplot as plt\n",
    "import numpy as np\n",
    "import math"
   ]
  },
  {
   "cell_type": "code",
   "execution_count": 2,
   "id": "338ad422",
   "metadata": {},
   "outputs": [],
   "source": [
    "image_size  = 28\n",
    "autoencoder_depth = 10\n",
    "dropout = 0.1\n",
    "channels = 1"
   ]
  },
  {
   "cell_type": "code",
   "execution_count": 3,
   "id": "1fcb6ab7",
   "metadata": {},
   "outputs": [
    {
     "data": {
      "text/plain": [
       "(60000, 28, 28, 1)"
      ]
     },
     "execution_count": 3,
     "metadata": {},
     "output_type": "execute_result"
    }
   ],
   "source": [
    "(x_train, y_train), (x_test, y_test) = keras.datasets.mnist.load_data()\n",
    "x_train = x_train.astype('float32') / 255.\n",
    "x_test = x_test.astype('float32') / 255.\n",
    "x_train = np.reshape(x_train, (x_train.shape[0], image_size, image_size, channels))\n",
    "x_test = np.reshape(x_test, (x_test.shape[0], image_size, image_size, channels))\n",
    "x_train.shape"
   ]
  },
  {
   "cell_type": "markdown",
   "id": "79204bc6",
   "metadata": {},
   "source": [
    "## Variational Autoencoder"
   ]
  },
  {
   "cell_type": "code",
   "execution_count": 30,
   "id": "46257d78",
   "metadata": {},
   "outputs": [],
   "source": [
    "def EncoderBlock():\n",
    "    def apply(x):\n",
    "        x = layers.Conv2D(16, (3, 3), activation='relu', padding='same')(x)\n",
    "        x = layers.MaxPooling2D((2, 2), padding='same')(x)\n",
    "        x = layers.Conv2D(8, (3, 3), activation='relu', padding='same')(x)\n",
    "        x = layers.MaxPooling2D((2, 2), padding='same')(x)\n",
    "        x = layers.Conv2D(8, (3, 3), activation='relu', padding='same')(x)\n",
    "        encoded = layers.MaxPooling2D((2, 2), padding='same')(x)\n",
    "        return encoded\n",
    "    \n",
    "    return apply\n",
    "\n",
    "def DecoderBlock():\n",
    "    def apply(x):\n",
    "        x = layers.Conv2D(8, (3, 3), activation='relu', padding='same')(x)\n",
    "        x = layers.UpSampling2D((2, 2))(x)\n",
    "        x = layers.Conv2D(8, (3, 3), activation='relu', padding='same')(x)\n",
    "        x = layers.UpSampling2D((2, 2))(x)\n",
    "        x = layers.Conv2D(16, (3, 3), activation='relu')(x)\n",
    "        x = layers.UpSampling2D((2, 2))(x)\n",
    "        decoded = layers.Conv2D(1, (3, 3), activation='sigmoid', padding='same')(x)\n",
    "        return decoded\n",
    "    \n",
    "    return apply\n",
    "\n",
    "class Sampling(layers.Layer):\n",
    "    def call(self, inputs):\n",
    "        z_mean, z_log_var = inputs\n",
    "        epsilon = tf.keras.backend.random_normal(shape=(4, 4, 8))\n",
    "        return z_mean + tf.exp(0.5 * z_log_var) * epsilon"
   ]
  },
  {
   "cell_type": "code",
   "execution_count": 31,
   "id": "b05041b1",
   "metadata": {},
   "outputs": [],
   "source": [
    "class VAE(keras.Model):\n",
    "    def __init__(self):\n",
    "        super().__init__()\n",
    "        self.encoder = self.create_encoder()\n",
    "        self.decoder = self.create_decoder()\n",
    "        self.total_loss_tracker = keras.metrics.Mean(name=\"total_loss\")\n",
    "        self.reconstruction_loss_tracker = keras.metrics.Mean(\n",
    "            name=\"reconstruction_loss\"\n",
    "        )\n",
    "        self.kl_loss_tracker = keras.metrics.Mean(name=\"kl_loss\")\n",
    "    \n",
    "    @property\n",
    "    def metrics(self):\n",
    "        return [\n",
    "            self.total_loss_tracker,\n",
    "            self.reconstruction_loss_tracker,\n",
    "            self.kl_loss_tracker,\n",
    "        ]\n",
    "    \n",
    "    def create_encoder(self):\n",
    "        input_image = layers.Input(shape=(image_size, image_size, channels))\n",
    "        x = EncoderBlock()(input_image)\n",
    "        z_mean = layers.Conv2D(8, (2, 2), padding='same')(x)\n",
    "        z_log_var = layers.Conv2D(8, (2, 2), padding='same')(x)\n",
    "        z = Sampling()([z_mean, z_log_var])\n",
    "        return keras.Model(input_image, [z_mean, z_log_var, z])\n",
    "    \n",
    "    def create_decoder(self):\n",
    "        input_latent = layers.Input(shape=(4, 4, 8))\n",
    "        decoded = DecoderBlock()(input_latent)\n",
    "        return keras.Model(input_latent, decoded)\n",
    "    \n",
    "    def train_step(self, data):\n",
    "        with tf.GradientTape() as tape:\n",
    "            z_mean, z_log_var, z = self.encoder(data)\n",
    "            reconstruction = self.decoder(z)\n",
    "            reconstruction_loss = tf.reduce_mean(\n",
    "                tf.reduce_sum(\n",
    "                    keras.losses.binary_crossentropy(data, reconstruction), axis=(1, 2)\n",
    "                )\n",
    "            )\n",
    "            kl_loss = -0.5 * (1 + z_log_var - tf.square(z_mean) - tf.exp(z_log_var))\n",
    "            kl_loss = tf.reduce_mean(tf.reduce_sum(kl_loss, axis=1))\n",
    "            total_loss = reconstruction_loss + kl_loss\n",
    "        grads = tape.gradient(total_loss, self.trainable_weights)\n",
    "        self.optimizer.apply_gradients(zip(grads, self.trainable_weights))\n",
    "\n",
    "        self.total_loss_tracker.update_state(total_loss)\n",
    "        self.reconstruction_loss_tracker.update_state(reconstruction_loss)\n",
    "        self.kl_loss_tracker.update_state(kl_loss)\n",
    "        return {\n",
    "            \"loss\": self.total_loss_tracker.result(),\n",
    "            \"reconstruction_loss\": self.reconstruction_loss_tracker.result(),\n",
    "            \"kl_loss\": self.kl_loss_tracker.result(),\n",
    "        }\n",
    "    \n",
    "    def encode(self, data):\n",
    "        _, _, z = self.encoder(data)\n",
    "        return z\n",
    "    \n",
    "    def decode(self, data):\n",
    "        x = self.decoder(data)\n",
    "        return x"
   ]
  },
  {
   "cell_type": "code",
   "execution_count": null,
   "id": "027ea75e",
   "metadata": {
    "scrolled": false
   },
   "outputs": [],
   "source": [
    "vae = VAE()\n",
    "vae.compile(optimizer='adam')\n",
    "vae.fit(x_train, epochs=200, batch_size = 512)"
   ]
  },
  {
   "cell_type": "code",
   "execution_count": 115,
   "id": "e35f0f24",
   "metadata": {},
   "outputs": [
    {
     "data": {
      "text/plain": [
       "TensorShape([59904, 4, 4, 8])"
      ]
     },
     "execution_count": 115,
     "metadata": {},
     "output_type": "execute_result"
    }
   ],
   "source": [
    "encoded_images = vae.encode(x_train[0 : batch_size])\n",
    "batch_size = 512\n",
    "\n",
    "for i in range(1, int(x_train.shape[0] / batch_size)):\n",
    "    encoded = vae.encode(x_train[i*batch_size : i * batch_size + batch_size])\n",
    "    encoded_images = tf.concat([encoded_images, encoded], axis=0)\n",
    "\n",
    "encoded_images.shape"
   ]
  },
  {
   "cell_type": "code",
   "execution_count": 116,
   "id": "12c0f829",
   "metadata": {},
   "outputs": [
    {
     "data": {
      "text/plain": [
       "<matplotlib.image.AxesImage at 0x206f6475cc8>"
      ]
     },
     "execution_count": 116,
     "metadata": {},
     "output_type": "execute_result"
    },
    {
     "data": {
      "image/png": "[encoded data removed]",
      "text/plain": [
       "<Figure size 432x288 with 1 Axes>"
      ]
     },
     "metadata": {
      "needs_background": "light"
     },
     "output_type": "display_data"
    }
   ],
   "source": [
    "plt.imshow(encoded_images[0].numpy().reshape(4, 4 * 8), cmap='gray')"
   ]
  },
  {
   "cell_type": "code",
   "execution_count": 117,
   "id": "371f4b9b",
   "metadata": {},
   "outputs": [
    {
     "data": {
      "text/plain": [
       "TensorShape([59904, 28, 28, 1])"
      ]
     },
     "execution_count": 117,
     "metadata": {},
     "output_type": "execute_result"
    }
   ],
   "source": [
    "decoded_images = vae.decode(encoded_images[0 : batch_size])\n",
    "batch_size = 512\n",
    "\n",
    "for i in range(1, int(x_train.shape[0] / batch_size)):\n",
    "    decoded = vae.decode(encoded_images[i*batch_size : i * batch_size + batch_size])\n",
    "    decoded_images = tf.concat([decoded_images, decoded], axis=0)\n",
    "\n",
    "decoded_images.shape"
   ]
  },
  {
   "cell_type": "code",
   "execution_count": 119,
   "id": "a5959432",
   "metadata": {},
   "outputs": [
    {
     "data": {
      "text/plain": [
       "<matplotlib.image.AxesImage at 0x206ef70cec8>"
      ]
     },
     "execution_count": 119,
     "metadata": {},
     "output_type": "execute_result"
    },
    {
     "data": {
      "image/png": "[encoded data removed]",
      "text/plain": [
       "<Figure size 432x288 with 1 Axes>"
      ]
     },
     "metadata": {
      "needs_background": "light"
     },
     "output_type": "display_data"
    }
   ],
   "source": [
    "plt.imshow(decoded_images[1].numpy().reshape(28, 28), cmap='gray')"
   ]
  },
  {
   "cell_type": "markdown",
   "id": "f83990d5",
   "metadata": {},
   "source": [
    "## Denoising U-Net"
   ]
  },
  {
   "cell_type": "code",
   "execution_count": 83,
   "id": "256b8578",
   "metadata": {},
   "outputs": [],
   "source": [
    "# Sampling.\n",
    "min_signal_rate = 0.02\n",
    "max_signal_rate = 0.95\n",
    "\n",
    "# Architecture.\n",
    "embedding_dims = 32\n",
    "embedding_max_frequency = 1000.0\n",
    "widths = [32, 64, 96, 128]\n",
    "block_depth = 2"
   ]
  },
  {
   "cell_type": "code",
   "execution_count": 84,
   "id": "d1adee5a",
   "metadata": {},
   "outputs": [],
   "source": [
    "def diffusion_schedule(diffusion_times):\n",
    "    start_angle = tf.acos(max_signal_rate)\n",
    "    end_angle = tf.acos(min_signal_rate)\n",
    "\n",
    "    diffusion_angles = start_angle + diffusion_times * (end_angle - start_angle)\n",
    "\n",
    "    signal_rates = tf.cos(diffusion_angles)\n",
    "    noise_rates = tf.sin(diffusion_angles)\n",
    "\n",
    "    return noise_rates, signal_rates"
   ]
  },
  {
   "cell_type": "code",
   "execution_count": 85,
   "id": "10013591",
   "metadata": {},
   "outputs": [],
   "source": [
    "def sinusoidal_embedding(x):\n",
    "    embedding_min_frequency = 1.0\n",
    "    frequencies = tf.exp(tf.linspace(tf.math.log(embedding_min_frequency),\n",
    "                         tf.math.log(embedding_max_frequency),\n",
    "                         embedding_dims // 2))\n",
    "    angular_speeds = 2.0 * math.pi * frequencies\n",
    "    embeddings = tf.concat([tf.sin(angular_speeds * x), tf.cos(angular_speeds * x)], axis=3)\n",
    "    return embeddings"
   ]
  },
  {
   "cell_type": "code",
   "execution_count": 86,
   "id": "2b720f5a",
   "metadata": {},
   "outputs": [],
   "source": [
    "def ResidualBlock(width):\n",
    "    def apply(x):\n",
    "        input_width = x.shape[3]\n",
    "        if input_width == width:\n",
    "            residual = x\n",
    "        else:\n",
    "            residual = layers.Conv2D(width, (1, 1))(x)\n",
    "            \n",
    "        x = layers.Conv2D(width, (3, 3), padding='same', activation=keras.activations.swish)(x)\n",
    "        x = layers.LayerNormalization()(x + residual)\n",
    "        return x\n",
    "    \n",
    "    return apply"
   ]
  },
  {
   "cell_type": "code",
   "execution_count": 87,
   "id": "fb554cbe",
   "metadata": {},
   "outputs": [],
   "source": [
    "def DownBlock(width, block_depth):\n",
    "    def apply(x):\n",
    "        for _ in range(block_depth):\n",
    "            x = ResidualBlock(width)(x)\n",
    "        x = layers.AveragePooling2D(pool_size=2)(x)\n",
    "        return x\n",
    "        \n",
    "    return apply"
   ]
  },
  {
   "cell_type": "code",
   "execution_count": 88,
   "id": "ada302ce",
   "metadata": {},
   "outputs": [],
   "source": [
    "def UpBlock(width, block_depth):\n",
    "    def apply(x):\n",
    "        x = layers.UpSampling2D(size=2, interpolation='bilinear')(x)\n",
    "        for _ in range(block_depth):\n",
    "            x = ResidualBlock(width)(x)\n",
    "        return x\n",
    "    \n",
    "    return apply"
   ]
  },
  {
   "cell_type": "code",
   "execution_count": 89,
   "id": "3472ef2f",
   "metadata": {},
   "outputs": [],
   "source": [
    "def create_unet(widths, block_depth):\n",
    "    noisy_images = keras.Input(shape=(4, 4, 8))\n",
    "    noise_variances = keras.Input(shape=(1, 1, 1))\n",
    "\n",
    "    e = layers.Lambda(sinusoidal_embedding)(noise_variances)\n",
    "    e = layers.UpSampling2D(size=4, interpolation=\"nearest\")(e)\n",
    "\n",
    "    x = layers.Conv2D(widths[0], kernel_size=1)(noisy_images)\n",
    "    x = layers.Concatenate()([x, e])\n",
    "\n",
    "    for width in widths[:-1]:\n",
    "        x = DownBlock(width, block_depth)(x)\n",
    "\n",
    "    for _ in range(block_depth):\n",
    "        x = ResidualBlock(widths[-1])(x)\n",
    "\n",
    "    for width in reversed(widths[:-1]):\n",
    "        x = UpBlock(width, block_depth)(x)\n",
    "\n",
    "    x = layers.Conv2D(8, kernel_size=1, kernel_initializer=\"zeros\")(x)\n",
    "    \n",
    "    unet = keras.Model([noisy_images, noise_variances], x, name=\"residual_unet\")\n",
    "    unet.compile(optimizer='adam', loss='mean_absolute_error')\n",
    "    return unet"
   ]
  },
  {
   "cell_type": "code",
   "execution_count": 90,
   "id": "f28b04f0",
   "metadata": {},
   "outputs": [],
   "source": [
    "def train(train_data, model, epochs, batch_size):\n",
    "    steps_per_epoch = int(train_data.shape[0] / batch_size)\n",
    "    \n",
    "    for epoch in range(epochs):\n",
    "        for step in range(steps_per_epoch):\n",
    "            images = train_data[step * batch_size : step * batch_size + batch_size]\n",
    "            noises = tf.random.normal(shape=(batch_size, 4, 4, 8))\n",
    "            \n",
    "            diffusion_times = tf.random.uniform(shape=(batch_size, 1, 1, 1), minval=0.0, maxval=1.0)\n",
    "            noise_rates, signal_rates = diffusion_schedule(diffusion_times)\n",
    "\n",
    "            noisy_images = signal_rates * images + noise_rates * noises\n",
    "            model.train_on_batch([noisy_images, noise_rates**2], noises)\n",
    "        \n",
    "        print('Epoch ' + str(epoch) + ' completed.')"
   ]
  },
  {
   "cell_type": "code",
   "execution_count": 91,
   "id": "17defb44",
   "metadata": {},
   "outputs": [],
   "source": [
    "def reverse_diffusion(model, num_images, diffusion_steps):\n",
    "    initial_noise = tf.random.normal(shape=(num_images, 4, 4, 8))\n",
    "    step_size = 1.0 / diffusion_steps\n",
    "    \n",
    "    next_noisy_images = initial_noise\n",
    "    for step in range(diffusion_steps):\n",
    "        noisy_images = next_noisy_images\n",
    "        \n",
    "        diffusion_times = tf.ones((num_images, 1, 1, 1)) - step * step_size\n",
    "        noise_rates, signal_rates = diffusion_schedule(diffusion_times)\n",
    "        \n",
    "        pred_noises = model([noisy_images, noise_rates**2])\n",
    "        pred_images = (noisy_images - noise_rates * pred_noises) / signal_rates\n",
    "        \n",
    "        next_diffusion_times = diffusion_times - step_size\n",
    "        next_noise_rates, next_signal_rates = diffusion_schedule(next_diffusion_times)\n",
    "        next_noisy_images = (next_signal_rates * pred_images + next_noise_rates * pred_noises)\n",
    "        \n",
    "    return pred_images"
   ]
  },
  {
   "cell_type": "code",
   "execution_count": 101,
   "id": "c6231f01",
   "metadata": {},
   "outputs": [],
   "source": [
    "unet = create_unet([32, 64, 32], 4)"
   ]
  },
  {
   "cell_type": "code",
   "execution_count": null,
   "id": "61d7a5cc",
   "metadata": {
    "scrolled": true
   },
   "outputs": [],
   "source": [
    "train(encoded_images, unet, 10000, 512)"
   ]
  },
  {
   "cell_type": "code",
   "execution_count": 145,
   "id": "cd166c16",
   "metadata": {},
   "outputs": [
    {
     "data": {
      "text/plain": [
       "<matplotlib.image.AxesImage at 0x206f7bc5f88>"
      ]
     },
     "execution_count": 145,
     "metadata": {},
     "output_type": "execute_result"
    },
    {
     "data": {
      "image/png": "[encoded data removed]",
      "text/plain": [
       "<Figure size 432x288 with 1 Axes>"
      ]
     },
     "metadata": {
      "needs_background": "light"
     },
     "output_type": "display_data"
    }
   ],
   "source": [
    "generated_latents = reverse_diffusion(unet, 8, 20)\n",
    "plt.imshow(generated_latents[2].numpy().reshape(4, 4 * 8), cmap='gray')"
   ]
  },
  {
   "cell_type": "code",
   "execution_count": 159,
   "id": "37ad05ce",
   "metadata": {},
   "outputs": [
    {
     "data": {
      "text/plain": [
       "<matplotlib.image.AxesImage at 0x206f9ac03c8>"
      ]
     },
     "execution_count": 159,
     "metadata": {},
     "output_type": "execute_result"
    },
    {
     "data": {
      "image/png": "[encoded data removed]",
      "text/plain": [
       "<Figure size 432x288 with 1 Axes>"
      ]
     },
     "metadata": {
      "needs_background": "light"
     },
     "output_type": "display_data"
    }
   ],
   "source": [
    "generated_latents = reverse_diffusion(unet, 2, 20)\n",
    "generated_images = vae.decode(generated_latents)\n",
    "plt.imshow(generated_images[0].numpy().reshape(28, 28), cmap='gray')"
   ]
  },
  {
   "cell_type": "code",
   "execution_count": 152,
   "id": "e5dfb226",
   "metadata": {},
   "outputs": [
    {
     "name": "stderr",
     "output_type": "stream",
     "text": [
      "WARNING:absl:Found untraced functions such as _jit_compiled_convolution_op, _jit_compiled_convolution_op, _jit_compiled_convolution_op, _jit_compiled_convolution_op, _jit_compiled_convolution_op while saving (showing 5 of 27). These functions will not be directly callable after loading.\n"
     ]
    },
    {
     "name": "stdout",
     "output_type": "stream",
     "text": [
      "INFO:tensorflow:Assets written to: ../latent_diffusion_unet\\assets\n"
     ]
    },
    {
     "name": "stderr",
     "output_type": "stream",
     "text": [
      "INFO:tensorflow:Assets written to: ../latent_diffusion_unet\\assets\n"
     ]
    }
   ],
   "source": [
    "unet.save('../latent_diffusion_unet')"
   ]
  },
  {
   "cell_type": "code",
   "execution_count": null,
   "id": "c4f06630",
   "metadata": {},
   "outputs": [],
   "source": []
  }
 ],
 "metadata": {
  "kernelspec": {
   "display_name": "Python 3 (ipykernel)",
   "language": "python",
   "name": "python3"
  },
  "language_info": {
   "codemirror_mode": {
    "name": "ipython",
    "version": 3
   },
   "file_extension": ".py",
   "mimetype": "text/x-python",
   "name": "python",
   "nbconvert_exporter": "python",
   "pygments_lexer": "ipython3",
   "version": "3.7.4"
  }
 },
 "nbformat": 4,
 "nbformat_minor": 5
}
